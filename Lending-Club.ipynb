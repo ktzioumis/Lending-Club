{
 "cells": [
  {
   "cell_type": "code",
   "execution_count": 1,
   "metadata": {},
   "outputs": [],
   "source": [
    "import pandas as pd\n",
    "import numpy as np\n",
    "import matplotlib.pyplot as plt\n",
    "import plotly as py\n",
    "import plotly.graph_objects as go"
   ]
  },
  {
   "cell_type": "code",
   "execution_count": 2,
   "metadata": {},
   "outputs": [
    {
     "name": "stderr",
     "output_type": "stream",
     "text": [
      "C:\\kosta\\Anaconda3\\lib\\site-packages\\IPython\\core\\interactiveshell.py:3058: DtypeWarning:\n",
      "\n",
      "Columns (19,47,55,112,123,124,125,128,129,130,133,139,140,141) have mixed types. Specify dtype option on import or set low_memory=False.\n",
      "\n"
     ]
    }
   ],
   "source": [
    "df=pd.read_csv('loan.csv')"
   ]
  },
  {
   "cell_type": "code",
   "execution_count": 3,
   "metadata": {},
   "outputs": [
    {
     "data": {
      "text/html": [
       "<div>\n",
       "<style scoped>\n",
       "    .dataframe tbody tr th:only-of-type {\n",
       "        vertical-align: middle;\n",
       "    }\n",
       "\n",
       "    .dataframe tbody tr th {\n",
       "        vertical-align: top;\n",
       "    }\n",
       "\n",
       "    .dataframe thead th {\n",
       "        text-align: right;\n",
       "    }\n",
       "</style>\n",
       "<table border=\"1\" class=\"dataframe\">\n",
       "  <thead>\n",
       "    <tr style=\"text-align: right;\">\n",
       "      <th></th>\n",
       "      <th>id</th>\n",
       "      <th>member_id</th>\n",
       "      <th>loan_amnt</th>\n",
       "      <th>funded_amnt</th>\n",
       "      <th>funded_amnt_inv</th>\n",
       "      <th>term</th>\n",
       "      <th>int_rate</th>\n",
       "      <th>installment</th>\n",
       "      <th>grade</th>\n",
       "      <th>sub_grade</th>\n",
       "      <th>...</th>\n",
       "      <th>hardship_payoff_balance_amount</th>\n",
       "      <th>hardship_last_payment_amount</th>\n",
       "      <th>disbursement_method</th>\n",
       "      <th>debt_settlement_flag</th>\n",
       "      <th>debt_settlement_flag_date</th>\n",
       "      <th>settlement_status</th>\n",
       "      <th>settlement_date</th>\n",
       "      <th>settlement_amount</th>\n",
       "      <th>settlement_percentage</th>\n",
       "      <th>settlement_term</th>\n",
       "    </tr>\n",
       "  </thead>\n",
       "  <tbody>\n",
       "    <tr>\n",
       "      <th>0</th>\n",
       "      <td>NaN</td>\n",
       "      <td>NaN</td>\n",
       "      <td>2500</td>\n",
       "      <td>2500</td>\n",
       "      <td>2500.0</td>\n",
       "      <td>36 months</td>\n",
       "      <td>13.56</td>\n",
       "      <td>84.92</td>\n",
       "      <td>C</td>\n",
       "      <td>C1</td>\n",
       "      <td>...</td>\n",
       "      <td>NaN</td>\n",
       "      <td>NaN</td>\n",
       "      <td>Cash</td>\n",
       "      <td>N</td>\n",
       "      <td>NaN</td>\n",
       "      <td>NaN</td>\n",
       "      <td>NaN</td>\n",
       "      <td>NaN</td>\n",
       "      <td>NaN</td>\n",
       "      <td>NaN</td>\n",
       "    </tr>\n",
       "    <tr>\n",
       "      <th>1</th>\n",
       "      <td>NaN</td>\n",
       "      <td>NaN</td>\n",
       "      <td>30000</td>\n",
       "      <td>30000</td>\n",
       "      <td>30000.0</td>\n",
       "      <td>60 months</td>\n",
       "      <td>18.94</td>\n",
       "      <td>777.23</td>\n",
       "      <td>D</td>\n",
       "      <td>D2</td>\n",
       "      <td>...</td>\n",
       "      <td>NaN</td>\n",
       "      <td>NaN</td>\n",
       "      <td>Cash</td>\n",
       "      <td>N</td>\n",
       "      <td>NaN</td>\n",
       "      <td>NaN</td>\n",
       "      <td>NaN</td>\n",
       "      <td>NaN</td>\n",
       "      <td>NaN</td>\n",
       "      <td>NaN</td>\n",
       "    </tr>\n",
       "    <tr>\n",
       "      <th>2</th>\n",
       "      <td>NaN</td>\n",
       "      <td>NaN</td>\n",
       "      <td>5000</td>\n",
       "      <td>5000</td>\n",
       "      <td>5000.0</td>\n",
       "      <td>36 months</td>\n",
       "      <td>17.97</td>\n",
       "      <td>180.69</td>\n",
       "      <td>D</td>\n",
       "      <td>D1</td>\n",
       "      <td>...</td>\n",
       "      <td>NaN</td>\n",
       "      <td>NaN</td>\n",
       "      <td>Cash</td>\n",
       "      <td>N</td>\n",
       "      <td>NaN</td>\n",
       "      <td>NaN</td>\n",
       "      <td>NaN</td>\n",
       "      <td>NaN</td>\n",
       "      <td>NaN</td>\n",
       "      <td>NaN</td>\n",
       "    </tr>\n",
       "    <tr>\n",
       "      <th>3</th>\n",
       "      <td>NaN</td>\n",
       "      <td>NaN</td>\n",
       "      <td>4000</td>\n",
       "      <td>4000</td>\n",
       "      <td>4000.0</td>\n",
       "      <td>36 months</td>\n",
       "      <td>18.94</td>\n",
       "      <td>146.51</td>\n",
       "      <td>D</td>\n",
       "      <td>D2</td>\n",
       "      <td>...</td>\n",
       "      <td>NaN</td>\n",
       "      <td>NaN</td>\n",
       "      <td>Cash</td>\n",
       "      <td>N</td>\n",
       "      <td>NaN</td>\n",
       "      <td>NaN</td>\n",
       "      <td>NaN</td>\n",
       "      <td>NaN</td>\n",
       "      <td>NaN</td>\n",
       "      <td>NaN</td>\n",
       "    </tr>\n",
       "    <tr>\n",
       "      <th>4</th>\n",
       "      <td>NaN</td>\n",
       "      <td>NaN</td>\n",
       "      <td>30000</td>\n",
       "      <td>30000</td>\n",
       "      <td>30000.0</td>\n",
       "      <td>60 months</td>\n",
       "      <td>16.14</td>\n",
       "      <td>731.78</td>\n",
       "      <td>C</td>\n",
       "      <td>C4</td>\n",
       "      <td>...</td>\n",
       "      <td>NaN</td>\n",
       "      <td>NaN</td>\n",
       "      <td>Cash</td>\n",
       "      <td>N</td>\n",
       "      <td>NaN</td>\n",
       "      <td>NaN</td>\n",
       "      <td>NaN</td>\n",
       "      <td>NaN</td>\n",
       "      <td>NaN</td>\n",
       "      <td>NaN</td>\n",
       "    </tr>\n",
       "  </tbody>\n",
       "</table>\n",
       "<p>5 rows × 145 columns</p>\n",
       "</div>"
      ],
      "text/plain": [
       "   id  member_id  loan_amnt  funded_amnt  funded_amnt_inv        term  \\\n",
       "0 NaN        NaN       2500         2500           2500.0   36 months   \n",
       "1 NaN        NaN      30000        30000          30000.0   60 months   \n",
       "2 NaN        NaN       5000         5000           5000.0   36 months   \n",
       "3 NaN        NaN       4000         4000           4000.0   36 months   \n",
       "4 NaN        NaN      30000        30000          30000.0   60 months   \n",
       "\n",
       "   int_rate  installment grade sub_grade  ... hardship_payoff_balance_amount  \\\n",
       "0     13.56        84.92     C        C1  ...                            NaN   \n",
       "1     18.94       777.23     D        D2  ...                            NaN   \n",
       "2     17.97       180.69     D        D1  ...                            NaN   \n",
       "3     18.94       146.51     D        D2  ...                            NaN   \n",
       "4     16.14       731.78     C        C4  ...                            NaN   \n",
       "\n",
       "  hardship_last_payment_amount disbursement_method  debt_settlement_flag  \\\n",
       "0                          NaN                Cash                     N   \n",
       "1                          NaN                Cash                     N   \n",
       "2                          NaN                Cash                     N   \n",
       "3                          NaN                Cash                     N   \n",
       "4                          NaN                Cash                     N   \n",
       "\n",
       "  debt_settlement_flag_date settlement_status settlement_date  \\\n",
       "0                       NaN               NaN             NaN   \n",
       "1                       NaN               NaN             NaN   \n",
       "2                       NaN               NaN             NaN   \n",
       "3                       NaN               NaN             NaN   \n",
       "4                       NaN               NaN             NaN   \n",
       "\n",
       "  settlement_amount  settlement_percentage settlement_term  \n",
       "0               NaN                    NaN             NaN  \n",
       "1               NaN                    NaN             NaN  \n",
       "2               NaN                    NaN             NaN  \n",
       "3               NaN                    NaN             NaN  \n",
       "4               NaN                    NaN             NaN  \n",
       "\n",
       "[5 rows x 145 columns]"
      ]
     },
     "execution_count": 3,
     "metadata": {},
     "output_type": "execute_result"
    }
   ],
   "source": [
    "df.head()"
   ]
  },
  {
   "cell_type": "code",
   "execution_count": 4,
   "metadata": {},
   "outputs": [
    {
     "data": {
      "text/plain": [
       "(2260668, 145)"
      ]
     },
     "execution_count": 4,
     "metadata": {},
     "output_type": "execute_result"
    }
   ],
   "source": [
    "df.shape"
   ]
  },
  {
   "cell_type": "code",
   "execution_count": 5,
   "metadata": {
    "scrolled": false
   },
   "outputs": [],
   "source": [
    "df=df.dropna(axis=1,how='all')\n",
    "#remove totally empty columns - id, member_id, loan_amnt'"
   ]
  },
  {
   "cell_type": "code",
   "execution_count": 6,
   "metadata": {},
   "outputs": [
    {
     "name": "stdout",
     "output_type": "stream",
     "text": [
      "acc_now_delinq\n",
      "acc_open_past_24mths\n",
      "addr_state\n",
      "all_util\n",
      "annual_inc\n",
      "annual_inc_joint\n",
      "application_type\n",
      "avg_cur_bal\n",
      "bc_open_to_buy\n",
      "bc_util\n",
      "chargeoff_within_12_mths\n",
      "collection_recovery_fee\n",
      "collections_12_mths_ex_med\n",
      "debt_settlement_flag\n",
      "debt_settlement_flag_date\n",
      "deferral_term\n",
      "delinq_2yrs\n",
      "delinq_amnt\n",
      "desc\n",
      "disbursement_method\n",
      "dti\n",
      "dti_joint\n",
      "earliest_cr_line\n",
      "emp_length\n",
      "emp_title\n",
      "funded_amnt\n",
      "funded_amnt_inv\n",
      "grade\n",
      "hardship_amount\n",
      "hardship_dpd\n",
      "hardship_end_date\n",
      "hardship_flag\n",
      "hardship_last_payment_amount\n",
      "hardship_length\n",
      "hardship_loan_status\n",
      "hardship_payoff_balance_amount\n",
      "hardship_reason\n",
      "hardship_start_date\n",
      "hardship_status\n",
      "hardship_type\n",
      "home_ownership\n",
      "il_util\n",
      "initial_list_status\n",
      "inq_fi\n",
      "inq_last_12m\n",
      "inq_last_6mths\n",
      "installment\n",
      "int_rate\n",
      "issue_d\n",
      "last_credit_pull_d\n",
      "last_pymnt_amnt\n",
      "last_pymnt_d\n",
      "loan_amnt\n",
      "loan_status\n",
      "max_bal_bc\n",
      "mo_sin_old_il_acct\n",
      "mo_sin_old_rev_tl_op\n",
      "mo_sin_rcnt_rev_tl_op\n",
      "mo_sin_rcnt_tl\n",
      "mort_acc\n",
      "mths_since_last_delinq\n",
      "mths_since_last_major_derog\n",
      "mths_since_last_record\n",
      "mths_since_rcnt_il\n",
      "mths_since_recent_bc\n",
      "mths_since_recent_bc_dlq\n",
      "mths_since_recent_inq\n",
      "mths_since_recent_revol_delinq\n",
      "next_pymnt_d\n",
      "num_accts_ever_120_pd\n",
      "num_actv_bc_tl\n",
      "num_actv_rev_tl\n",
      "num_bc_sats\n",
      "num_bc_tl\n",
      "num_il_tl\n",
      "num_op_rev_tl\n",
      "num_rev_accts\n",
      "num_rev_tl_bal_gt_0\n",
      "num_sats\n",
      "num_tl_120dpd_2m\n",
      "num_tl_30dpd\n",
      "num_tl_90g_dpd_24m\n",
      "num_tl_op_past_12m\n",
      "open_acc\n",
      "open_acc_6m\n",
      "open_act_il\n",
      "open_il_12m\n",
      "open_il_24m\n",
      "open_rv_12m\n",
      "open_rv_24m\n",
      "orig_projected_additional_accrued_interest\n",
      "out_prncp\n",
      "out_prncp_inv\n",
      "payment_plan_start_date\n",
      "pct_tl_nvr_dlq\n",
      "percent_bc_gt_75\n",
      "policy_code\n",
      "pub_rec\n",
      "pub_rec_bankruptcies\n",
      "purpose\n",
      "pymnt_plan\n",
      "recoveries\n",
      "revol_bal\n",
      "revol_bal_joint\n",
      "revol_util\n",
      "sec_app_chargeoff_within_12_mths\n",
      "sec_app_collections_12_mths_ex_med\n",
      "sec_app_earliest_cr_line\n",
      "sec_app_inq_last_6mths\n",
      "sec_app_mort_acc\n",
      "sec_app_mths_since_last_major_derog\n",
      "sec_app_num_rev_accts\n",
      "sec_app_open_acc\n",
      "sec_app_open_act_il\n",
      "sec_app_revol_util\n",
      "settlement_amount\n",
      "settlement_date\n",
      "settlement_percentage\n",
      "settlement_status\n",
      "settlement_term\n",
      "sub_grade\n",
      "tax_liens\n",
      "term\n",
      "title\n",
      "tot_coll_amt\n",
      "tot_cur_bal\n",
      "tot_hi_cred_lim\n",
      "total_acc\n",
      "total_bal_ex_mort\n",
      "total_bal_il\n",
      "total_bc_limit\n",
      "total_cu_tl\n",
      "total_il_high_credit_limit\n",
      "total_pymnt\n",
      "total_pymnt_inv\n",
      "total_rec_int\n",
      "total_rec_late_fee\n",
      "total_rec_prncp\n",
      "total_rev_hi_lim\n",
      "verification_status\n",
      "verification_status_joint\n",
      "zip_code\n"
     ]
    }
   ],
   "source": [
    "for col in sorted(df.columns):\n",
    "    print(col)\n",
    "    #full printout of columns for reference"
   ]
  },
  {
   "cell_type": "code",
   "execution_count": 7,
   "metadata": {},
   "outputs": [],
   "source": [
    "lcdloanstats=pd.read_excel('LCDataDictionary.xlsx','LoanStats')\n",
    "#column descriptions from reference document"
   ]
  },
  {
   "cell_type": "code",
   "execution_count": 8,
   "metadata": {},
   "outputs": [
    {
     "data": {
      "text/html": [
       "<div>\n",
       "<style scoped>\n",
       "    .dataframe tbody tr th:only-of-type {\n",
       "        vertical-align: middle;\n",
       "    }\n",
       "\n",
       "    .dataframe tbody tr th {\n",
       "        vertical-align: top;\n",
       "    }\n",
       "\n",
       "    .dataframe thead th {\n",
       "        text-align: right;\n",
       "    }\n",
       "</style>\n",
       "<table border=\"1\" class=\"dataframe\">\n",
       "  <thead>\n",
       "    <tr style=\"text-align: right;\">\n",
       "      <th></th>\n",
       "      <th>LoanStatNew</th>\n",
       "      <th>Description</th>\n",
       "    </tr>\n",
       "  </thead>\n",
       "  <tbody>\n",
       "    <tr>\n",
       "      <th>0</th>\n",
       "      <td>acc_now_delinq</td>\n",
       "      <td>The number of accounts on which the borrower i...</td>\n",
       "    </tr>\n",
       "    <tr>\n",
       "      <th>1</th>\n",
       "      <td>acc_open_past_24mths</td>\n",
       "      <td>Number of trades opened in past 24 months.</td>\n",
       "    </tr>\n",
       "    <tr>\n",
       "      <th>2</th>\n",
       "      <td>addr_state</td>\n",
       "      <td>The state provided by the borrower in the loan...</td>\n",
       "    </tr>\n",
       "    <tr>\n",
       "      <th>3</th>\n",
       "      <td>all_util</td>\n",
       "      <td>Balance to credit limit on all trades</td>\n",
       "    </tr>\n",
       "    <tr>\n",
       "      <th>4</th>\n",
       "      <td>annual_inc</td>\n",
       "      <td>The self-reported annual income provided by th...</td>\n",
       "    </tr>\n",
       "    <tr>\n",
       "      <th>...</th>\n",
       "      <td>...</td>\n",
       "      <td>...</td>\n",
       "    </tr>\n",
       "    <tr>\n",
       "      <th>148</th>\n",
       "      <td>settlement_amount</td>\n",
       "      <td>The loan amount that the borrower has agreed t...</td>\n",
       "    </tr>\n",
       "    <tr>\n",
       "      <th>149</th>\n",
       "      <td>settlement_percentage</td>\n",
       "      <td>The settlement amount as a percentage of the p...</td>\n",
       "    </tr>\n",
       "    <tr>\n",
       "      <th>150</th>\n",
       "      <td>settlement_term</td>\n",
       "      <td>The number of months that the borrower will be...</td>\n",
       "    </tr>\n",
       "    <tr>\n",
       "      <th>151</th>\n",
       "      <td>NaN</td>\n",
       "      <td>NaN</td>\n",
       "    </tr>\n",
       "    <tr>\n",
       "      <th>152</th>\n",
       "      <td>NaN</td>\n",
       "      <td>* Employer Title replaces Employer Name for al...</td>\n",
       "    </tr>\n",
       "  </tbody>\n",
       "</table>\n",
       "<p>153 rows × 2 columns</p>\n",
       "</div>"
      ],
      "text/plain": [
       "               LoanStatNew                                        Description\n",
       "0           acc_now_delinq  The number of accounts on which the borrower i...\n",
       "1     acc_open_past_24mths         Number of trades opened in past 24 months.\n",
       "2               addr_state  The state provided by the borrower in the loan...\n",
       "3                 all_util              Balance to credit limit on all trades\n",
       "4               annual_inc  The self-reported annual income provided by th...\n",
       "..                     ...                                                ...\n",
       "148      settlement_amount  The loan amount that the borrower has agreed t...\n",
       "149  settlement_percentage  The settlement amount as a percentage of the p...\n",
       "150        settlement_term  The number of months that the borrower will be...\n",
       "151                    NaN                                                NaN\n",
       "152                    NaN  * Employer Title replaces Employer Name for al...\n",
       "\n",
       "[153 rows x 2 columns]"
      ]
     },
     "execution_count": 8,
     "metadata": {},
     "output_type": "execute_result"
    }
   ],
   "source": [
    "lcdloanstats"
   ]
  },
  {
   "cell_type": "code",
   "execution_count": 9,
   "metadata": {},
   "outputs": [],
   "source": [
    "lcdloanstats['LoanStatNew']=lcdloanstats['LoanStatNew'].str.strip()"
   ]
  },
  {
   "cell_type": "code",
   "execution_count": 10,
   "metadata": {},
   "outputs": [],
   "source": [
    "lcdloanstats=lcdloanstats.loc[lcdloanstats['LoanStatNew'].isin(df.columns)]"
   ]
  },
  {
   "cell_type": "code",
   "execution_count": 11,
   "metadata": {
    "scrolled": false
   },
   "outputs": [
    {
     "data": {
      "text/html": [
       "<div>\n",
       "<style scoped>\n",
       "    .dataframe tbody tr th:only-of-type {\n",
       "        vertical-align: middle;\n",
       "    }\n",
       "\n",
       "    .dataframe tbody tr th {\n",
       "        vertical-align: top;\n",
       "    }\n",
       "\n",
       "    .dataframe thead th {\n",
       "        text-align: right;\n",
       "    }\n",
       "</style>\n",
       "<table border=\"1\" class=\"dataframe\">\n",
       "  <thead>\n",
       "    <tr style=\"text-align: right;\">\n",
       "      <th></th>\n",
       "      <th>LoanStatNew</th>\n",
       "      <th>Description</th>\n",
       "    </tr>\n",
       "  </thead>\n",
       "  <tbody>\n",
       "    <tr>\n",
       "      <th>0</th>\n",
       "      <td>acc_now_delinq</td>\n",
       "      <td>The number of accounts on which the borrower i...</td>\n",
       "    </tr>\n",
       "    <tr>\n",
       "      <th>1</th>\n",
       "      <td>acc_open_past_24mths</td>\n",
       "      <td>Number of trades opened in past 24 months.</td>\n",
       "    </tr>\n",
       "    <tr>\n",
       "      <th>2</th>\n",
       "      <td>addr_state</td>\n",
       "      <td>The state provided by the borrower in the loan...</td>\n",
       "    </tr>\n",
       "    <tr>\n",
       "      <th>3</th>\n",
       "      <td>all_util</td>\n",
       "      <td>Balance to credit limit on all trades</td>\n",
       "    </tr>\n",
       "    <tr>\n",
       "      <th>4</th>\n",
       "      <td>annual_inc</td>\n",
       "      <td>The self-reported annual income provided by th...</td>\n",
       "    </tr>\n",
       "    <tr>\n",
       "      <th>...</th>\n",
       "      <td>...</td>\n",
       "      <td>...</td>\n",
       "    </tr>\n",
       "    <tr>\n",
       "      <th>146</th>\n",
       "      <td>settlement_status</td>\n",
       "      <td>The status of the borrower’s settlement plan. ...</td>\n",
       "    </tr>\n",
       "    <tr>\n",
       "      <th>147</th>\n",
       "      <td>settlement_date</td>\n",
       "      <td>The date that the borrower agrees to the settl...</td>\n",
       "    </tr>\n",
       "    <tr>\n",
       "      <th>148</th>\n",
       "      <td>settlement_amount</td>\n",
       "      <td>The loan amount that the borrower has agreed t...</td>\n",
       "    </tr>\n",
       "    <tr>\n",
       "      <th>149</th>\n",
       "      <td>settlement_percentage</td>\n",
       "      <td>The settlement amount as a percentage of the p...</td>\n",
       "    </tr>\n",
       "    <tr>\n",
       "      <th>150</th>\n",
       "      <td>settlement_term</td>\n",
       "      <td>The number of months that the borrower will be...</td>\n",
       "    </tr>\n",
       "  </tbody>\n",
       "</table>\n",
       "<p>141 rows × 2 columns</p>\n",
       "</div>"
      ],
      "text/plain": [
       "               LoanStatNew                                        Description\n",
       "0           acc_now_delinq  The number of accounts on which the borrower i...\n",
       "1     acc_open_past_24mths         Number of trades opened in past 24 months.\n",
       "2               addr_state  The state provided by the borrower in the loan...\n",
       "3                 all_util              Balance to credit limit on all trades\n",
       "4               annual_inc  The self-reported annual income provided by th...\n",
       "..                     ...                                                ...\n",
       "146      settlement_status  The status of the borrower’s settlement plan. ...\n",
       "147        settlement_date  The date that the borrower agrees to the settl...\n",
       "148      settlement_amount  The loan amount that the borrower has agreed t...\n",
       "149  settlement_percentage  The settlement amount as a percentage of the p...\n",
       "150        settlement_term  The number of months that the borrower will be...\n",
       "\n",
       "[141 rows x 2 columns]"
      ]
     },
     "execution_count": 11,
     "metadata": {},
     "output_type": "execute_result"
    }
   ],
   "source": [
    "lcdloanstats\n",
    "#extra items removed from column description"
   ]
  },
  {
   "cell_type": "code",
   "execution_count": 12,
   "metadata": {
    "scrolled": true
   },
   "outputs": [
    {
     "data": {
      "text/html": [
       "<div>\n",
       "<style scoped>\n",
       "    .dataframe tbody tr th:only-of-type {\n",
       "        vertical-align: middle;\n",
       "    }\n",
       "\n",
       "    .dataframe tbody tr th {\n",
       "        vertical-align: top;\n",
       "    }\n",
       "\n",
       "    .dataframe thead th {\n",
       "        text-align: right;\n",
       "    }\n",
       "</style>\n",
       "<table border=\"1\" class=\"dataframe\">\n",
       "  <thead>\n",
       "    <tr style=\"text-align: right;\">\n",
       "      <th></th>\n",
       "      <th>LoanStatNew</th>\n",
       "      <th>Description</th>\n",
       "    </tr>\n",
       "  </thead>\n",
       "  <tbody>\n",
       "    <tr>\n",
       "      <th>23</th>\n",
       "      <td>funded_amnt</td>\n",
       "      <td>The total amount committed to that loan at tha...</td>\n",
       "    </tr>\n",
       "    <tr>\n",
       "      <th>24</th>\n",
       "      <td>funded_amnt_inv</td>\n",
       "      <td>The total amount committed by investors for th...</td>\n",
       "    </tr>\n",
       "  </tbody>\n",
       "</table>\n",
       "</div>"
      ],
      "text/plain": [
       "        LoanStatNew                                        Description\n",
       "23      funded_amnt  The total amount committed to that loan at tha...\n",
       "24  funded_amnt_inv  The total amount committed by investors for th..."
      ]
     },
     "execution_count": 12,
     "metadata": {},
     "output_type": "execute_result"
    }
   ],
   "source": [
    "lcdloanstats.loc[lcdloanstats['LoanStatNew'].str.contains('funded')]"
   ]
  },
  {
   "cell_type": "markdown",
   "metadata": {},
   "source": [
    "consider all loans as funded - drop 'funded_amnt' and 'funded_amnt_inv' use just loan amount"
   ]
  },
  {
   "cell_type": "code",
   "execution_count": 13,
   "metadata": {},
   "outputs": [
    {
     "data": {
      "text/plain": [
       "count    151112.00000\n",
       "mean        272.69921\n",
       "std        1263.13647\n",
       "min           1.00000\n",
       "25%          25.00000\n",
       "50%          50.00000\n",
       "75%         175.00000\n",
       "max       32475.00000\n",
       "dtype: float64"
      ]
     },
     "execution_count": 13,
     "metadata": {},
     "output_type": "execute_result"
    }
   ],
   "source": [
    "(df.loc[df.funded_amnt!=df.funded_amnt_inv]['funded_amnt'].astype(int)-df.loc[df.funded_amnt!=df.funded_amnt_inv]['funded_amnt_inv'].astype(int)).describe()\n"
   ]
  },
  {
   "cell_type": "code",
   "execution_count": 14,
   "metadata": {
    "scrolled": true
   },
   "outputs": [
    {
     "data": {
      "text/plain": [
       "count    2.260668e+06\n",
       "mean     1.822643e+01\n",
       "std      3.335880e+02\n",
       "min      0.000000e+00\n",
       "25%      0.000000e+00\n",
       "50%      0.000000e+00\n",
       "75%      0.000000e+00\n",
       "max      3.247500e+04\n",
       "dtype: float64"
      ]
     },
     "execution_count": 14,
     "metadata": {},
     "output_type": "execute_result"
    }
   ],
   "source": [
    "(df['funded_amnt']-df['funded_amnt_inv']).describe()"
   ]
  },
  {
   "cell_type": "code",
   "execution_count": 15,
   "metadata": {},
   "outputs": [
    {
     "data": {
      "text/plain": [
       "Jul-2015    5731\n",
       "Mar-2016    5061\n",
       "Aug-2015    4266\n",
       "Dec-2017    3901\n",
       "Oct-2015    3886\n",
       "            ... \n",
       "Aug-2007      73\n",
       "Jul-2007      62\n",
       "Sep-2008      57\n",
       "Sep-2007      53\n",
       "Jun-2007      24\n",
       "Name: issue_d, Length: 139, dtype: int64"
      ]
     },
     "execution_count": 15,
     "metadata": {},
     "output_type": "execute_result"
    }
   ],
   "source": [
    "df.loc[df.funded_amnt!=df.funded_amnt_inv]['issue_d'].value_counts()"
   ]
  },
  {
   "cell_type": "code",
   "execution_count": 16,
   "metadata": {},
   "outputs": [
    {
     "data": {
      "text/plain": [
       "count    2260668.0\n",
       "mean           1.0\n",
       "std            0.0\n",
       "min            1.0\n",
       "25%            1.0\n",
       "50%            1.0\n",
       "75%            1.0\n",
       "max            1.0\n",
       "Name: policy_code, dtype: float64"
      ]
     },
     "execution_count": 16,
     "metadata": {},
     "output_type": "execute_result"
    }
   ],
   "source": [
    "df.policy_code.describe()"
   ]
  },
  {
   "cell_type": "code",
   "execution_count": 17,
   "metadata": {},
   "outputs": [
    {
     "name": "stdout",
     "output_type": "stream",
     "text": [
      "title 95    The loan title provided by the borrower\n",
      "Name: Description, dtype: object\n",
      "\n",
      "\n",
      "\n",
      "desc 15    Loan description provided by the borrower\n",
      "Name: Description, dtype: object\n",
      "\n",
      "\n",
      "\n",
      "policy_code 84    publicly available policy_code=1\\nnew products...\n",
      "Name: Description, dtype: object\n",
      "\n",
      "\n",
      "\n",
      "funded_amnt_inv 24    The total amount committed by investors for th...\n",
      "Name: Description, dtype: object\n",
      "\n",
      "\n",
      "\n",
      "funded_amnt 23    The total amount committed to that loan at tha...\n",
      "Name: Description, dtype: object\n",
      "\n",
      "\n",
      "\n"
     ]
    }
   ],
   "source": [
    "for i in ['title','desc','policy_code','funded_amnt_inv','funded_amnt']:\n",
    "    print(i,lcdloanstats.loc[lcdloanstats['LoanStatNew']==i]['Description'])\n",
    "    print('\\n\\n')"
   ]
  },
  {
   "cell_type": "code",
   "execution_count": 18,
   "metadata": {
    "scrolled": true
   },
   "outputs": [
    {
     "data": {
      "text/plain": [
       "<matplotlib.axes._subplots.AxesSubplot at 0x6113ae10>"
      ]
     },
     "execution_count": 18,
     "metadata": {},
     "output_type": "execute_result"
    },
    {
     "data": {
      "image/png": "[encoded data removed]",
      "text/plain": [
       "<Figure size 432x288 with 1 Axes>"
      ]
     },
     "metadata": {
      "needs_background": "light"
     },
     "output_type": "display_data"
    }
   ],
   "source": [
    "df.groupby('purpose')['int_rate'].mean().plot.barh()"
   ]
  },
  {
   "cell_type": "code",
   "execution_count": 19,
   "metadata": {
    "scrolled": true
   },
   "outputs": [
    {
     "name": "stdout",
     "output_type": "stream",
     "text": [
      "term 2 \n",
      " The number of payments on the loan. Values are in months and can be either 36 or 60. \n",
      "  36 months    1609754\n",
      " 60 months     650914\n",
      "Name: term, dtype: int64 \n",
      "\n",
      "\n",
      "\n",
      "\n",
      "pymnt_plan 2 \n",
      " Indicates if a payment plan has been put in place for the loan \n",
      " n    2259986\n",
      "y        682\n",
      "Name: pymnt_plan, dtype: int64 \n",
      "\n",
      "\n",
      "\n",
      "\n",
      "initial_list_status 2 \n",
      " The initial listing status of the loan. Possible values are – W, F \n",
      " w    1535467\n",
      "f     725201\n",
      "Name: initial_list_status, dtype: int64 \n",
      "\n",
      "\n",
      "\n",
      "\n",
      "policy_code 1 \n",
      " publicly available policy_code=1\n",
      "new products not publicly available policy_code=2 \n",
      " 1    2260668\n",
      "Name: policy_code, dtype: int64 \n",
      "\n",
      "\n",
      "\n",
      "\n",
      "application_type 2 \n",
      " Indicates whether the loan is an individual application or a joint application with two co-borrowers \n",
      " Individual    2139958\n",
      "Joint App      120710\n",
      "Name: application_type, dtype: int64 \n",
      "\n",
      "\n",
      "\n",
      "\n",
      "hardship_flag 2 \n",
      " Flags whether or not the borrower is on a hardship plan \n",
      " N    2259783\n",
      "Y        885\n",
      "Name: hardship_flag, dtype: int64 \n",
      "\n",
      "\n",
      "\n",
      "\n",
      "hardship_type 1 \n",
      " Describes the hardship plan offering \n",
      " INTEREST ONLY-3 MONTHS DEFERRAL    10613\n",
      "Name: hardship_type, dtype: int64 \n",
      "\n",
      "\n",
      "\n",
      "\n",
      "deferral_term 1 \n",
      " Amount of months that the borrower is expected to pay less than the contractual monthly payment amount due to a hardship plan \n",
      " 3.0    10613\n",
      "Name: deferral_term, dtype: int64 \n",
      "\n",
      "\n",
      "\n",
      "\n",
      "hardship_length 1 \n",
      " The number of months the borrower will make smaller payments than normally obligated due to a hardship plan \n",
      " 3.0    10613\n",
      "Name: hardship_length, dtype: int64 \n",
      "\n",
      "\n",
      "\n",
      "\n",
      "disbursement_method 2 \n",
      " The method by which the borrower receives their loan. Possible values are: CASH, DIRECT_PAY \n",
      " Cash         2182546\n",
      "DirectPay      78122\n",
      "Name: disbursement_method, dtype: int64 \n",
      "\n",
      "\n",
      "\n",
      "\n",
      "debt_settlement_flag 2 \n",
      " Flags whether or not the borrower, who has charged-off, is working with a debt-settlement company. \n",
      " N    2227612\n",
      "Y      33056\n",
      "Name: debt_settlement_flag, dtype: int64 \n",
      "\n",
      "\n",
      "\n",
      "\n"
     ]
    }
   ],
   "source": [
    "for col in df.columns:\n",
    "    if df[col].nunique()<3:\n",
    "        print(col,df[col].nunique(),'\\n',lcdloanstats.loc[lcdloanstats['LoanStatNew']==col]['Description'].iloc[0],'\\n',df[col].value_counts(),'\\n\\n\\n\\n')\n",
    "\n"
   ]
  },
  {
   "cell_type": "markdown",
   "metadata": {},
   "source": [
    "'policy' and 'initial_list_status' are ambiguous in its meaning and will be dropped\n",
    "'title' and 'desc' are redundant after the better curated and 'purpose'.\n",
    "\n",
    "\n",
    "'funded_amnt' and 'funded_amnt_inv' can be dropped and use only 'loan_amnt'\n"
   ]
  },
  {
   "cell_type": "code",
   "execution_count": 20,
   "metadata": {},
   "outputs": [],
   "source": [
    "#keep 'purpose' - drop 'title', 'desc', 'policy'\n",
    "df=df.drop(columns=['title','desc','policy_code','funded_amnt_inv','funded_amnt'])"
   ]
  },
  {
   "cell_type": "code",
   "execution_count": 21,
   "metadata": {},
   "outputs": [
    {
     "name": "stdout",
     "output_type": "stream",
     "text": [
      "hardship_flag 2260668\n",
      "hardship_type 10613\n",
      "hardship_reason 10613\n",
      "hardship_status 10613\n",
      "hardship_amount 10613\n",
      "hardship_start_date 10613\n",
      "hardship_end_date 10613\n",
      "hardship_length 10613\n",
      "hardship_dpd 10613\n",
      "hardship_loan_status 10613\n",
      "hardship_payoff_balance_amount 10613\n",
      "hardship_last_payment_amount 10613\n"
     ]
    }
   ],
   "source": [
    "for col in df.columns:\n",
    "    if 'hardship' in col:\n",
    "        print(col,df[col].notna().sum())"
   ]
  },
  {
   "cell_type": "markdown",
   "metadata": {},
   "source": [
    "'hardship_flag' contains 774 \"Y\"s whereas all the other hardship related columns contain 10087 valid entries. I conclude that 'hardship_flag' has been improperly filled out and can be dropped as it does not appropriately describe the loans that have hardship.\n",
    "\n",
    "'hardship_length', 'hardship_type' and 'deferral_term; all have only one valid entry (3 month interest only payments) and can be used as a hardship flag by proxy and reduced to a single column - we shall keep 'hardship_length'"
   ]
  },
  {
   "cell_type": "code",
   "execution_count": 22,
   "metadata": {},
   "outputs": [],
   "source": [
    "df=df.drop(columns=['hardship_flag','deferral_term','hardship_type'])"
   ]
  },
  {
   "cell_type": "code",
   "execution_count": 23,
   "metadata": {},
   "outputs": [
    {
     "data": {
      "text/plain": [
       "term                         object\n",
       "grade                        object\n",
       "sub_grade                    object\n",
       "emp_title                    object\n",
       "emp_length                   object\n",
       "home_ownership               object\n",
       "verification_status          object\n",
       "issue_d                      object\n",
       "loan_status                  object\n",
       "pymnt_plan                   object\n",
       "purpose                      object\n",
       "zip_code                     object\n",
       "addr_state                   object\n",
       "earliest_cr_line             object\n",
       "initial_list_status          object\n",
       "last_pymnt_d                 object\n",
       "next_pymnt_d                 object\n",
       "last_credit_pull_d           object\n",
       "application_type             object\n",
       "verification_status_joint    object\n",
       "sec_app_earliest_cr_line     object\n",
       "hardship_reason              object\n",
       "hardship_status              object\n",
       "hardship_start_date          object\n",
       "hardship_end_date            object\n",
       "payment_plan_start_date      object\n",
       "hardship_loan_status         object\n",
       "disbursement_method          object\n",
       "debt_settlement_flag         object\n",
       "debt_settlement_flag_date    object\n",
       "settlement_status            object\n",
       "settlement_date              object\n",
       "dtype: object"
      ]
     },
     "execution_count": 23,
     "metadata": {},
     "output_type": "execute_result"
    }
   ],
   "source": [
    "df.dtypes.loc[df.dtypes=='object']"
   ]
  },
  {
   "cell_type": "markdown",
   "metadata": {},
   "source": [
    "Set date columns to pandas datetime"
   ]
  },
  {
   "cell_type": "code",
   "execution_count": 24,
   "metadata": {},
   "outputs": [],
   "source": [
    "df['issue_d']=pd.to_datetime(df['issue_d'])\n",
    "df['last_pymnt_d']=pd.to_datetime(df['last_pymnt_d'])\n",
    "df['next_pymnt_d']=pd.to_datetime(df['next_pymnt_d'])"
   ]
  },
  {
   "cell_type": "code",
   "execution_count": 240,
   "metadata": {},
   "outputs": [
    {
     "data": {
      "text/plain": [
       "Timestamp('2007-06-01 00:00:00')"
      ]
     },
     "execution_count": 240,
     "metadata": {},
     "output_type": "execute_result"
    }
   ],
   "source": [
    "df.issue_d.min()"
   ]
  },
  {
   "cell_type": "code",
   "execution_count": 242,
   "metadata": {},
   "outputs": [
    {
     "data": {
      "text/plain": [
       "Timestamp('2018-12-01 00:00:00')"
      ]
     },
     "execution_count": 242,
     "metadata": {},
     "output_type": "execute_result"
    }
   ],
   "source": [
    "df.issue_d.max()"
   ]
  },
  {
   "cell_type": "code",
   "execution_count": 243,
   "metadata": {},
   "outputs": [
    {
     "data": {
      "text/plain": [
       "Timestamp('2019-02-01 00:00:00')"
      ]
     },
     "execution_count": 243,
     "metadata": {},
     "output_type": "execute_result"
    }
   ],
   "source": [
    "df['last_pymnt_d'].max()"
   ]
  },
  {
   "cell_type": "code",
   "execution_count": 25,
   "metadata": {},
   "outputs": [
    {
     "data": {
      "text/plain": [
       " 36 months    1609754\n",
       " 60 months     650914\n",
       "Name: term, dtype: int64"
      ]
     },
     "execution_count": 25,
     "metadata": {},
     "output_type": "execute_result"
    }
   ],
   "source": [
    "df['term'].value_counts()"
   ]
  },
  {
   "cell_type": "markdown",
   "metadata": {},
   "source": [
    "Map term month lengths to integers instead of strings"
   ]
  },
  {
   "cell_type": "code",
   "execution_count": 26,
   "metadata": {},
   "outputs": [],
   "source": [
    "df['term']=df['term'].str.strip().map({'36 months':36,'60 months':60})"
   ]
  },
  {
   "cell_type": "code",
   "execution_count": 27,
   "metadata": {},
   "outputs": [
    {
     "data": {
      "text/plain": [
       "Index(['loan_amnt', 'term', 'int_rate', 'installment', 'grade', 'sub_grade',\n",
       "       'home_ownership', 'verification_status', 'issue_d', 'loan_status',\n",
       "       'pymnt_plan', 'purpose', 'addr_state', 'revol_bal',\n",
       "       'initial_list_status', 'out_prncp', 'out_prncp_inv', 'total_pymnt',\n",
       "       'total_pymnt_inv', 'total_rec_prncp', 'total_rec_int',\n",
       "       'total_rec_late_fee', 'recoveries', 'collection_recovery_fee',\n",
       "       'last_pymnt_amnt', 'application_type', 'disbursement_method',\n",
       "       'debt_settlement_flag'],\n",
       "      dtype='object')"
      ]
     },
     "execution_count": 27,
     "metadata": {},
     "output_type": "execute_result"
    }
   ],
   "source": [
    "#columns with no NaNs\n",
    "df.dropna(axis='columns').columns"
   ]
  },
  {
   "cell_type": "code",
   "execution_count": 28,
   "metadata": {
    "scrolled": true
   },
   "outputs": [
    {
     "data": {
      "text/html": [
       "<div>\n",
       "<style scoped>\n",
       "    .dataframe tbody tr th:only-of-type {\n",
       "        vertical-align: middle;\n",
       "    }\n",
       "\n",
       "    .dataframe tbody tr th {\n",
       "        vertical-align: top;\n",
       "    }\n",
       "\n",
       "    .dataframe thead th {\n",
       "        text-align: right;\n",
       "    }\n",
       "</style>\n",
       "<table border=\"1\" class=\"dataframe\">\n",
       "  <thead>\n",
       "    <tr style=\"text-align: right;\">\n",
       "      <th></th>\n",
       "      <th>loan_amnt</th>\n",
       "      <th>term</th>\n",
       "      <th>int_rate</th>\n",
       "      <th>installment</th>\n",
       "      <th>revol_bal</th>\n",
       "      <th>out_prncp</th>\n",
       "      <th>out_prncp_inv</th>\n",
       "      <th>total_pymnt</th>\n",
       "      <th>total_pymnt_inv</th>\n",
       "      <th>total_rec_prncp</th>\n",
       "      <th>total_rec_int</th>\n",
       "      <th>total_rec_late_fee</th>\n",
       "      <th>recoveries</th>\n",
       "      <th>collection_recovery_fee</th>\n",
       "      <th>last_pymnt_amnt</th>\n",
       "    </tr>\n",
       "  </thead>\n",
       "  <tbody>\n",
       "    <tr>\n",
       "      <th>count</th>\n",
       "      <td>2.260668e+06</td>\n",
       "      <td>2.260668e+06</td>\n",
       "      <td>2.260668e+06</td>\n",
       "      <td>2.260668e+06</td>\n",
       "      <td>2.260668e+06</td>\n",
       "      <td>2.260668e+06</td>\n",
       "      <td>2.260668e+06</td>\n",
       "      <td>2.260668e+06</td>\n",
       "      <td>2.260668e+06</td>\n",
       "      <td>2.260668e+06</td>\n",
       "      <td>2.260668e+06</td>\n",
       "      <td>2.260668e+06</td>\n",
       "      <td>2.260668e+06</td>\n",
       "      <td>2.260668e+06</td>\n",
       "      <td>2.260668e+06</td>\n",
       "    </tr>\n",
       "    <tr>\n",
       "      <th>mean</th>\n",
       "      <td>1.504693e+04</td>\n",
       "      <td>4.291032e+01</td>\n",
       "      <td>1.309291e+01</td>\n",
       "      <td>4.458076e+02</td>\n",
       "      <td>1.665846e+04</td>\n",
       "      <td>4.446293e+03</td>\n",
       "      <td>4.445295e+03</td>\n",
       "      <td>1.182403e+04</td>\n",
       "      <td>1.180594e+04</td>\n",
       "      <td>9.300142e+03</td>\n",
       "      <td>2.386352e+03</td>\n",
       "      <td>1.462469e+00</td>\n",
       "      <td>1.360740e+02</td>\n",
       "      <td>2.259328e+01</td>\n",
       "      <td>3.364015e+03</td>\n",
       "    </tr>\n",
       "    <tr>\n",
       "      <th>std</th>\n",
       "      <td>9.190245e+03</td>\n",
       "      <td>1.086716e+01</td>\n",
       "      <td>4.832114e+00</td>\n",
       "      <td>2.671737e+02</td>\n",
       "      <td>2.294831e+04</td>\n",
       "      <td>7.547612e+03</td>\n",
       "      <td>7.546657e+03</td>\n",
       "      <td>9.889599e+03</td>\n",
       "      <td>9.884835e+03</td>\n",
       "      <td>8.304886e+03</td>\n",
       "      <td>2.663086e+03</td>\n",
       "      <td>1.150210e+01</td>\n",
       "      <td>7.258317e+02</td>\n",
       "      <td>1.271114e+02</td>\n",
       "      <td>5.971757e+03</td>\n",
       "    </tr>\n",
       "    <tr>\n",
       "      <th>min</th>\n",
       "      <td>5.000000e+02</td>\n",
       "      <td>3.600000e+01</td>\n",
       "      <td>5.310000e+00</td>\n",
       "      <td>4.930000e+00</td>\n",
       "      <td>0.000000e+00</td>\n",
       "      <td>0.000000e+00</td>\n",
       "      <td>0.000000e+00</td>\n",
       "      <td>0.000000e+00</td>\n",
       "      <td>0.000000e+00</td>\n",
       "      <td>0.000000e+00</td>\n",
       "      <td>0.000000e+00</td>\n",
       "      <td>-9.500000e-09</td>\n",
       "      <td>0.000000e+00</td>\n",
       "      <td>0.000000e+00</td>\n",
       "      <td>0.000000e+00</td>\n",
       "    </tr>\n",
       "    <tr>\n",
       "      <th>25%</th>\n",
       "      <td>8.000000e+03</td>\n",
       "      <td>3.600000e+01</td>\n",
       "      <td>9.490000e+00</td>\n",
       "      <td>2.516500e+02</td>\n",
       "      <td>5.950000e+03</td>\n",
       "      <td>0.000000e+00</td>\n",
       "      <td>0.000000e+00</td>\n",
       "      <td>4.272580e+03</td>\n",
       "      <td>4.257730e+03</td>\n",
       "      <td>2.846180e+03</td>\n",
       "      <td>6.936100e+02</td>\n",
       "      <td>0.000000e+00</td>\n",
       "      <td>0.000000e+00</td>\n",
       "      <td>0.000000e+00</td>\n",
       "      <td>3.086400e+02</td>\n",
       "    </tr>\n",
       "    <tr>\n",
       "      <th>50%</th>\n",
       "      <td>1.290000e+04</td>\n",
       "      <td>3.600000e+01</td>\n",
       "      <td>1.262000e+01</td>\n",
       "      <td>3.779900e+02</td>\n",
       "      <td>1.132400e+04</td>\n",
       "      <td>0.000000e+00</td>\n",
       "      <td>0.000000e+00</td>\n",
       "      <td>9.060870e+03</td>\n",
       "      <td>9.043080e+03</td>\n",
       "      <td>6.823385e+03</td>\n",
       "      <td>1.485280e+03</td>\n",
       "      <td>0.000000e+00</td>\n",
       "      <td>0.000000e+00</td>\n",
       "      <td>0.000000e+00</td>\n",
       "      <td>5.884700e+02</td>\n",
       "    </tr>\n",
       "    <tr>\n",
       "      <th>75%</th>\n",
       "      <td>2.000000e+04</td>\n",
       "      <td>6.000000e+01</td>\n",
       "      <td>1.599000e+01</td>\n",
       "      <td>5.933200e+02</td>\n",
       "      <td>2.024600e+04</td>\n",
       "      <td>6.712632e+03</td>\n",
       "      <td>6.710320e+03</td>\n",
       "      <td>1.670797e+04</td>\n",
       "      <td>1.668257e+04</td>\n",
       "      <td>1.339750e+04</td>\n",
       "      <td>3.052220e+03</td>\n",
       "      <td>0.000000e+00</td>\n",
       "      <td>0.000000e+00</td>\n",
       "      <td>0.000000e+00</td>\n",
       "      <td>3.534965e+03</td>\n",
       "    </tr>\n",
       "    <tr>\n",
       "      <th>max</th>\n",
       "      <td>4.000000e+04</td>\n",
       "      <td>6.000000e+01</td>\n",
       "      <td>3.099000e+01</td>\n",
       "      <td>1.719830e+03</td>\n",
       "      <td>2.904836e+06</td>\n",
       "      <td>4.000000e+04</td>\n",
       "      <td>4.000000e+04</td>\n",
       "      <td>6.329688e+04</td>\n",
       "      <td>6.329688e+04</td>\n",
       "      <td>4.000000e+04</td>\n",
       "      <td>2.819250e+04</td>\n",
       "      <td>1.427250e+03</td>\n",
       "      <td>3.985955e+04</td>\n",
       "      <td>7.174719e+03</td>\n",
       "      <td>4.219205e+04</td>\n",
       "    </tr>\n",
       "  </tbody>\n",
       "</table>\n",
       "</div>"
      ],
      "text/plain": [
       "          loan_amnt          term      int_rate   installment     revol_bal  \\\n",
       "count  2.260668e+06  2.260668e+06  2.260668e+06  2.260668e+06  2.260668e+06   \n",
       "mean   1.504693e+04  4.291032e+01  1.309291e+01  4.458076e+02  1.665846e+04   \n",
       "std    9.190245e+03  1.086716e+01  4.832114e+00  2.671737e+02  2.294831e+04   \n",
       "min    5.000000e+02  3.600000e+01  5.310000e+00  4.930000e+00  0.000000e+00   \n",
       "25%    8.000000e+03  3.600000e+01  9.490000e+00  2.516500e+02  5.950000e+03   \n",
       "50%    1.290000e+04  3.600000e+01  1.262000e+01  3.779900e+02  1.132400e+04   \n",
       "75%    2.000000e+04  6.000000e+01  1.599000e+01  5.933200e+02  2.024600e+04   \n",
       "max    4.000000e+04  6.000000e+01  3.099000e+01  1.719830e+03  2.904836e+06   \n",
       "\n",
       "          out_prncp  out_prncp_inv   total_pymnt  total_pymnt_inv  \\\n",
       "count  2.260668e+06   2.260668e+06  2.260668e+06     2.260668e+06   \n",
       "mean   4.446293e+03   4.445295e+03  1.182403e+04     1.180594e+04   \n",
       "std    7.547612e+03   7.546657e+03  9.889599e+03     9.884835e+03   \n",
       "min    0.000000e+00   0.000000e+00  0.000000e+00     0.000000e+00   \n",
       "25%    0.000000e+00   0.000000e+00  4.272580e+03     4.257730e+03   \n",
       "50%    0.000000e+00   0.000000e+00  9.060870e+03     9.043080e+03   \n",
       "75%    6.712632e+03   6.710320e+03  1.670797e+04     1.668257e+04   \n",
       "max    4.000000e+04   4.000000e+04  6.329688e+04     6.329688e+04   \n",
       "\n",
       "       total_rec_prncp  total_rec_int  total_rec_late_fee    recoveries  \\\n",
       "count     2.260668e+06   2.260668e+06        2.260668e+06  2.260668e+06   \n",
       "mean      9.300142e+03   2.386352e+03        1.462469e+00  1.360740e+02   \n",
       "std       8.304886e+03   2.663086e+03        1.150210e+01  7.258317e+02   \n",
       "min       0.000000e+00   0.000000e+00       -9.500000e-09  0.000000e+00   \n",
       "25%       2.846180e+03   6.936100e+02        0.000000e+00  0.000000e+00   \n",
       "50%       6.823385e+03   1.485280e+03        0.000000e+00  0.000000e+00   \n",
       "75%       1.339750e+04   3.052220e+03        0.000000e+00  0.000000e+00   \n",
       "max       4.000000e+04   2.819250e+04        1.427250e+03  3.985955e+04   \n",
       "\n",
       "       collection_recovery_fee  last_pymnt_amnt  \n",
       "count             2.260668e+06     2.260668e+06  \n",
       "mean              2.259328e+01     3.364015e+03  \n",
       "std               1.271114e+02     5.971757e+03  \n",
       "min               0.000000e+00     0.000000e+00  \n",
       "25%               0.000000e+00     3.086400e+02  \n",
       "50%               0.000000e+00     5.884700e+02  \n",
       "75%               0.000000e+00     3.534965e+03  \n",
       "max               7.174719e+03     4.219205e+04  "
      ]
     },
     "execution_count": 28,
     "metadata": {},
     "output_type": "execute_result"
    }
   ],
   "source": [
    "df.dropna(axis='columns').describe()"
   ]
  },
  {
   "cell_type": "code",
   "execution_count": 29,
   "metadata": {},
   "outputs": [],
   "source": [
    "#drop policy code - always 1"
   ]
  },
  {
   "cell_type": "code",
   "execution_count": null,
   "metadata": {},
   "outputs": [],
   "source": []
  },
  {
   "cell_type": "code",
   "execution_count": null,
   "metadata": {},
   "outputs": [],
   "source": []
  },
  {
   "cell_type": "code",
   "execution_count": 31,
   "metadata": {},
   "outputs": [
    {
     "data": {
      "text/plain": [
       "Individual    0.946604\n",
       "Joint App     0.053396\n",
       "Name: application_type, dtype: float64"
      ]
     },
     "execution_count": 31,
     "metadata": {},
     "output_type": "execute_result"
    }
   ],
   "source": [
    "df.application_type.value_counts(normalize=True)\n",
    "#drop joint apps for simplicity - cut columns too"
   ]
  },
  {
   "cell_type": "markdown",
   "metadata": {},
   "source": [
    "Consider only loans granted to indivdual applicants for simplicity. These are by far the larger portion at almost 95% of all loans.<br>\n",
    "this eliminates several columns that only relate to joint applications"
   ]
  },
  {
   "cell_type": "code",
   "execution_count": 32,
   "metadata": {},
   "outputs": [],
   "source": [
    "df=df.loc[df['application_type']=='Individual']\n",
    "df=df.drop(columns=['application_type'])\n",
    "df=df.dropna(axis=1,how='all')"
   ]
  },
  {
   "cell_type": "code",
   "execution_count": null,
   "metadata": {},
   "outputs": [],
   "source": []
  },
  {
   "cell_type": "code",
   "execution_count": null,
   "metadata": {},
   "outputs": [],
   "source": []
  },
  {
   "cell_type": "code",
   "execution_count": null,
   "metadata": {},
   "outputs": [],
   "source": []
  },
  {
   "cell_type": "code",
   "execution_count": 33,
   "metadata": {},
   "outputs": [
    {
     "data": {
      "text/plain": [
       "loan_amnt                  int64\n",
       "term                       int64\n",
       "int_rate                 float64\n",
       "installment              float64\n",
       "grade                     object\n",
       "                          ...   \n",
       "settlement_status         object\n",
       "settlement_date           object\n",
       "settlement_amount        float64\n",
       "settlement_percentage    float64\n",
       "settlement_term          float64\n",
       "Length: 119, dtype: object"
      ]
     },
     "execution_count": 33,
     "metadata": {},
     "output_type": "execute_result"
    }
   ],
   "source": [
    "df.dtypes"
   ]
  },
  {
   "cell_type": "code",
   "execution_count": 34,
   "metadata": {},
   "outputs": [
    {
     "name": "stdout",
     "output_type": "stream",
     "text": [
      "loan_amnt 1572\n",
      "term 2\n",
      "int_rate 673\n",
      "installment 91360\n",
      "grade 7\n",
      "sub_grade 35\n",
      "emp_title 496895\n",
      "emp_length 11\n",
      "home_ownership 6\n",
      "annual_inc 85803\n",
      "verification_status 3\n",
      "issue_d 139\n",
      "loan_status 9\n",
      "pymnt_plan 2\n",
      "purpose 14\n",
      "zip_code 955\n",
      "addr_state 51\n",
      "dti 4881\n",
      "delinq_2yrs 37\n",
      "earliest_cr_line 753\n",
      "inq_last_6mths 28\n",
      "mths_since_last_delinq 172\n",
      "mths_since_last_record 129\n",
      "open_acc 91\n",
      "pub_rec 43\n",
      "revol_bal 100368\n",
      "revol_util 1426\n",
      "total_acc 152\n",
      "initial_list_status 2\n",
      "out_prncp 336320\n",
      "out_prncp_inv 348176\n",
      "total_pymnt 1560066\n",
      "total_pymnt_inv 1262687\n",
      "total_rec_prncp 466539\n",
      "total_rec_int 618861\n",
      "total_rec_late_fee 17606\n",
      "recoveries 126349\n",
      "collection_recovery_fee 138617\n",
      "last_pymnt_d 135\n",
      "last_pymnt_amnt 679100\n",
      "next_pymnt_d 105\n",
      "last_credit_pull_d 140\n",
      "collections_12_mths_ex_med 16\n",
      "mths_since_last_major_derog 182\n",
      "acc_now_delinq 9\n",
      "tot_coll_amt 15383\n",
      "tot_cur_bal 475748\n",
      "open_acc_6m 19\n",
      "open_act_il 54\n",
      "open_il_12m 19\n",
      "open_il_24m 31\n",
      "mths_since_rcnt_il 403\n",
      "total_bal_il 157306\n",
      "il_util 277\n",
      "open_rv_12m 29\n",
      "open_rv_24m 50\n",
      "max_bal_bc 33186\n",
      "all_util 188\n",
      "total_rev_hi_lim 33914\n",
      "inq_fi 33\n",
      "total_cu_tl 62\n",
      "inq_last_12m 48\n",
      "acc_open_past_24mths 57\n",
      "avg_cur_bal 86546\n",
      "bc_open_to_buy 89871\n",
      "bc_util 1489\n",
      "chargeoff_within_12_mths 11\n",
      "delinq_amnt 2573\n",
      "mo_sin_old_il_acct 564\n",
      "mo_sin_old_rev_tl_op 778\n",
      "mo_sin_rcnt_rev_tl_op 320\n",
      "mo_sin_rcnt_tl 223\n",
      "mort_acc 47\n",
      "mths_since_recent_bc 530\n",
      "mths_since_recent_bc_dlq 176\n",
      "mths_since_recent_inq 26\n",
      "mths_since_recent_revol_delinq 177\n",
      "num_accts_ever_120_pd 44\n",
      "num_actv_bc_tl 41\n",
      "num_actv_rev_tl 57\n",
      "num_bc_sats 60\n",
      "num_bc_tl 76\n",
      "num_il_tl 122\n",
      "num_op_rev_tl 81\n",
      "num_rev_accts 117\n",
      "num_rev_tl_bal_gt_0 50\n",
      "num_sats 91\n",
      "num_tl_120dpd_2m 7\n",
      "num_tl_30dpd 5\n",
      "num_tl_90g_dpd_24m 34\n",
      "num_tl_op_past_12m 33\n",
      "pct_tl_nvr_dlq 688\n",
      "percent_bc_gt_75 281\n",
      "pub_rec_bankruptcies 12\n",
      "tax_liens 42\n",
      "tot_hi_cred_lim 516215\n",
      "total_bal_ex_mort 209035\n",
      "total_bc_limit 20275\n",
      "total_il_high_credit_limit 190274\n",
      "hardship_reason 9\n",
      "hardship_status 3\n",
      "hardship_amount 8537\n",
      "hardship_start_date 26\n",
      "hardship_end_date 27\n",
      "payment_plan_start_date 26\n",
      "hardship_length 1\n",
      "hardship_dpd 34\n",
      "hardship_loan_status 5\n",
      "orig_projected_additional_accrued_interest 6962\n",
      "hardship_payoff_balance_amount 10065\n",
      "hardship_last_payment_amount 8376\n",
      "disbursement_method 2\n",
      "debt_settlement_flag 2\n",
      "debt_settlement_flag_date 82\n",
      "settlement_status 3\n",
      "settlement_date 89\n",
      "settlement_amount 21178\n",
      "settlement_percentage 2028\n",
      "settlement_term 40\n"
     ]
    }
   ],
   "source": [
    "for col in df.columns:\n",
    "    print(col, df[col].nunique())"
   ]
  },
  {
   "cell_type": "code",
   "execution_count": null,
   "metadata": {},
   "outputs": [],
   "source": []
  },
  {
   "cell_type": "code",
   "execution_count": null,
   "metadata": {},
   "outputs": [],
   "source": []
  },
  {
   "cell_type": "code",
   "execution_count": null,
   "metadata": {},
   "outputs": [],
   "source": []
  },
  {
   "cell_type": "code",
   "execution_count": null,
   "metadata": {},
   "outputs": [],
   "source": []
  },
  {
   "cell_type": "code",
   "execution_count": null,
   "metadata": {},
   "outputs": [],
   "source": []
  },
  {
   "cell_type": "code",
   "execution_count": null,
   "metadata": {},
   "outputs": [],
   "source": []
  },
  {
   "cell_type": "code",
   "execution_count": 258,
   "metadata": {
    "scrolled": true
   },
   "outputs": [
    {
     "data": {
      "image/png": "[encoded data removed]",
      "text/plain": [
       "<Figure size 432x288 with 1 Axes>"
      ]
     },
     "metadata": {
      "needs_background": "light"
     },
     "output_type": "display_data"
    }
   ],
   "source": [
    "df['loan_amnt'].hist()\n",
    "plt.title('Loan Amount Histogram')\n",
    "plt.xlabel('Loan Amount')\n",
    "plt.ylabel('Number of Loans Issued')\n",
    "plt.axvline(df['loan_amnt'].mean(),label='Average Loan Amount $'+str(round(df['loan_amnt'].mean())),color='r')\n",
    "plt.legend()\n",
    "plt.show()\n"
   ]
  },
  {
   "cell_type": "code",
   "execution_count": 259,
   "metadata": {},
   "outputs": [
    {
     "data": {
      "image/png": "[encoded data removed]",
      "text/plain": [
       "<Figure size 432x288 with 1 Axes>"
      ]
     },
     "metadata": {
      "needs_background": "light"
     },
     "output_type": "display_data"
    }
   ],
   "source": [
    "df['int_rate'].hist()\n",
    "plt.title('Interest Rate Histogram')\n",
    "plt.xlabel('Interest Rate')\n",
    "plt.ylabel('Number of Loans Issued')\n",
    "plt.axvline(df['int_rate'].mean(),label='Average Interest Rate - '+str(round(df['int_rate'].mean()))+'%',color='r')\n",
    "plt.legend()\n",
    "plt.show()"
   ]
  },
  {
   "cell_type": "code",
   "execution_count": null,
   "metadata": {},
   "outputs": [],
   "source": []
  },
  {
   "cell_type": "code",
   "execution_count": null,
   "metadata": {},
   "outputs": [],
   "source": []
  },
  {
   "cell_type": "code",
   "execution_count": null,
   "metadata": {},
   "outputs": [],
   "source": []
  },
  {
   "cell_type": "code",
   "execution_count": null,
   "metadata": {},
   "outputs": [],
   "source": []
  },
  {
   "cell_type": "code",
   "execution_count": 30,
   "metadata": {
    "scrolled": true
   },
   "outputs": [
    {
     "data": {
      "text/plain": [
       "Fully Paid                                             0.460904\n",
       "Current                                                0.406824\n",
       "Charged Off                                            0.115742\n",
       "Late (31-120 days)                                     0.009686\n",
       "In Grace Period                                        0.003960\n",
       "Late (16-30 days)                                      0.001653\n",
       "Does not meet the credit policy. Status:Fully Paid     0.000879\n",
       "Does not meet the credit policy. Status:Charged Off    0.000337\n",
       "Default                                                0.000014\n",
       "Name: loan_status, dtype: float64"
      ]
     },
     "execution_count": 30,
     "metadata": {},
     "output_type": "execute_result"
    }
   ],
   "source": [
    "df.loan_status.value_counts(normalize=True)"
   ]
  },
  {
   "cell_type": "code",
   "execution_count": 45,
   "metadata": {},
   "outputs": [
    {
     "data": {
      "text/plain": [
       "Fully Paid                                             1024444\n",
       "Current                                                 825914\n",
       "Charged Off                                             255926\n",
       "Late (31-120 days)                                       19716\n",
       "In Grace Period                                           7862\n",
       "Late (16-30 days)                                         3323\n",
       "Does not meet the credit policy. Status:Fully Paid        1988\n",
       "Does not meet the credit policy. Status:Charged Off        761\n",
       "Default                                                     24\n",
       "Name: loan_status, dtype: int64"
      ]
     },
     "execution_count": 45,
     "metadata": {},
     "output_type": "execute_result"
    }
   ],
   "source": [
    "df.loan_status.value_counts()"
   ]
  },
  {
   "cell_type": "code",
   "execution_count": null,
   "metadata": {},
   "outputs": [],
   "source": []
  },
  {
   "cell_type": "code",
   "execution_count": 46,
   "metadata": {},
   "outputs": [
    {
     "data": {
      "text/plain": [
       "count    255926.000000\n",
       "mean       7196.029393\n",
       "std        6610.545111\n",
       "min      -26947.529797\n",
       "25%        2473.317500\n",
       "50%        5762.655000\n",
       "75%       10521.332500\n",
       "max       40000.000000\n",
       "dtype: float64"
      ]
     },
     "execution_count": 46,
     "metadata": {},
     "output_type": "execute_result"
    }
   ],
   "source": [
    "(df.loc[df['loan_status']=='Charged Off']['loan_amnt']-df.loc[df['loan_status']=='Charged Off']['total_pymnt']).describe()"
   ]
  },
  {
   "cell_type": "code",
   "execution_count": 47,
   "metadata": {},
   "outputs": [
    {
     "data": {
      "text/plain": [
       "count    255926.000000\n",
       "mean          0.457517\n",
       "std           0.279865\n",
       "min          -1.170300\n",
       "25%           0.265315\n",
       "50%           0.491998\n",
       "75%           0.674175\n",
       "max           1.000000\n",
       "dtype: float64"
      ]
     },
     "execution_count": 47,
     "metadata": {},
     "output_type": "execute_result"
    }
   ],
   "source": [
    "((df.loc[df['loan_status']=='Charged Off']['loan_amnt']-df.loc[df['loan_status']=='Charged Off']['total_pymnt'])/df.loc[df['loan_status']=='Charged Off']['loan_amnt']).describe()"
   ]
  },
  {
   "cell_type": "code",
   "execution_count": 48,
   "metadata": {},
   "outputs": [
    {
     "data": {
      "text/html": [
       "<div>\n",
       "<style scoped>\n",
       "    .dataframe tbody tr th:only-of-type {\n",
       "        vertical-align: middle;\n",
       "    }\n",
       "\n",
       "    .dataframe tbody tr th {\n",
       "        vertical-align: top;\n",
       "    }\n",
       "\n",
       "    .dataframe thead th {\n",
       "        text-align: right;\n",
       "    }\n",
       "</style>\n",
       "<table border=\"1\" class=\"dataframe\">\n",
       "  <thead>\n",
       "    <tr style=\"text-align: right;\">\n",
       "      <th></th>\n",
       "      <th>loan_amnt</th>\n",
       "      <th>int_rate</th>\n",
       "      <th>total_pymnt</th>\n",
       "      <th>recoveries</th>\n",
       "    </tr>\n",
       "  </thead>\n",
       "  <tbody>\n",
       "    <tr>\n",
       "      <th>5040</th>\n",
       "      <td>8000</td>\n",
       "      <td>6.46</td>\n",
       "      <td>0.00</td>\n",
       "      <td>0.00</td>\n",
       "    </tr>\n",
       "    <tr>\n",
       "      <th>25963</th>\n",
       "      <td>6000</td>\n",
       "      <td>14.47</td>\n",
       "      <td>0.00</td>\n",
       "      <td>0.00</td>\n",
       "    </tr>\n",
       "    <tr>\n",
       "      <th>41393</th>\n",
       "      <td>10000</td>\n",
       "      <td>8.81</td>\n",
       "      <td>0.00</td>\n",
       "      <td>0.00</td>\n",
       "    </tr>\n",
       "    <tr>\n",
       "      <th>55148</th>\n",
       "      <td>10000</td>\n",
       "      <td>27.27</td>\n",
       "      <td>284.25</td>\n",
       "      <td>0.00</td>\n",
       "    </tr>\n",
       "    <tr>\n",
       "      <th>58105</th>\n",
       "      <td>35000</td>\n",
       "      <td>16.14</td>\n",
       "      <td>0.00</td>\n",
       "      <td>0.00</td>\n",
       "    </tr>\n",
       "    <tr>\n",
       "      <th>...</th>\n",
       "      <td>...</td>\n",
       "      <td>...</td>\n",
       "      <td>...</td>\n",
       "      <td>...</td>\n",
       "    </tr>\n",
       "    <tr>\n",
       "      <th>2260633</th>\n",
       "      <td>30000</td>\n",
       "      <td>30.17</td>\n",
       "      <td>10585.43</td>\n",
       "      <td>0.00</td>\n",
       "    </tr>\n",
       "    <tr>\n",
       "      <th>2260638</th>\n",
       "      <td>30000</td>\n",
       "      <td>21.45</td>\n",
       "      <td>15589.61</td>\n",
       "      <td>5310.46</td>\n",
       "    </tr>\n",
       "    <tr>\n",
       "      <th>2260640</th>\n",
       "      <td>20700</td>\n",
       "      <td>12.62</td>\n",
       "      <td>5122.27</td>\n",
       "      <td>0.00</td>\n",
       "    </tr>\n",
       "    <tr>\n",
       "      <th>2260654</th>\n",
       "      <td>30000</td>\n",
       "      <td>17.09</td>\n",
       "      <td>6047.46</td>\n",
       "      <td>0.00</td>\n",
       "    </tr>\n",
       "    <tr>\n",
       "      <th>2260655</th>\n",
       "      <td>18000</td>\n",
       "      <td>30.65</td>\n",
       "      <td>5393.40</td>\n",
       "      <td>0.00</td>\n",
       "    </tr>\n",
       "  </tbody>\n",
       "</table>\n",
       "<p>255926 rows × 4 columns</p>\n",
       "</div>"
      ],
      "text/plain": [
       "         loan_amnt  int_rate  total_pymnt  recoveries\n",
       "5040          8000      6.46         0.00        0.00\n",
       "25963         6000     14.47         0.00        0.00\n",
       "41393        10000      8.81         0.00        0.00\n",
       "55148        10000     27.27       284.25        0.00\n",
       "58105        35000     16.14         0.00        0.00\n",
       "...            ...       ...          ...         ...\n",
       "2260633      30000     30.17     10585.43        0.00\n",
       "2260638      30000     21.45     15589.61     5310.46\n",
       "2260640      20700     12.62      5122.27        0.00\n",
       "2260654      30000     17.09      6047.46        0.00\n",
       "2260655      18000     30.65      5393.40        0.00\n",
       "\n",
       "[255926 rows x 4 columns]"
      ]
     },
     "execution_count": 48,
     "metadata": {},
     "output_type": "execute_result"
    }
   ],
   "source": [
    "df.loc[df['loan_status']=='Charged Off'][['loan_amnt','int_rate','total_pymnt','recoveries']]"
   ]
  },
  {
   "cell_type": "code",
   "execution_count": 49,
   "metadata": {},
   "outputs": [
    {
     "data": {
      "text/html": [
       "<div>\n",
       "<style scoped>\n",
       "    .dataframe tbody tr th:only-of-type {\n",
       "        vertical-align: middle;\n",
       "    }\n",
       "\n",
       "    .dataframe tbody tr th {\n",
       "        vertical-align: top;\n",
       "    }\n",
       "\n",
       "    .dataframe thead th {\n",
       "        text-align: right;\n",
       "    }\n",
       "</style>\n",
       "<table border=\"1\" class=\"dataframe\">\n",
       "  <thead>\n",
       "    <tr style=\"text-align: right;\">\n",
       "      <th></th>\n",
       "      <th>loan_amnt</th>\n",
       "      <th>term</th>\n",
       "      <th>installment</th>\n",
       "      <th>int_rate</th>\n",
       "      <th>total_pymnt</th>\n",
       "    </tr>\n",
       "  </thead>\n",
       "  <tbody>\n",
       "    <tr>\n",
       "      <th>279776</th>\n",
       "      <td>20000</td>\n",
       "      <td>36</td>\n",
       "      <td>717.75</td>\n",
       "      <td>17.47</td>\n",
       "      <td>21732.42</td>\n",
       "    </tr>\n",
       "    <tr>\n",
       "      <th>326463</th>\n",
       "      <td>30000</td>\n",
       "      <td>60</td>\n",
       "      <td>785.17</td>\n",
       "      <td>19.42</td>\n",
       "      <td>31490.78</td>\n",
       "    </tr>\n",
       "    <tr>\n",
       "      <th>376843</th>\n",
       "      <td>12000</td>\n",
       "      <td>36</td>\n",
       "      <td>457.36</td>\n",
       "      <td>21.85</td>\n",
       "      <td>12612.78</td>\n",
       "    </tr>\n",
       "    <tr>\n",
       "      <th>378205</th>\n",
       "      <td>3000</td>\n",
       "      <td>36</td>\n",
       "      <td>92.24</td>\n",
       "      <td>6.71</td>\n",
       "      <td>3083.87</td>\n",
       "    </tr>\n",
       "    <tr>\n",
       "      <th>387120</th>\n",
       "      <td>32000</td>\n",
       "      <td>60</td>\n",
       "      <td>670.97</td>\n",
       "      <td>9.43</td>\n",
       "      <td>32268.58</td>\n",
       "    </tr>\n",
       "    <tr>\n",
       "      <th>...</th>\n",
       "      <td>...</td>\n",
       "      <td>...</td>\n",
       "      <td>...</td>\n",
       "      <td>...</td>\n",
       "      <td>...</td>\n",
       "    </tr>\n",
       "    <tr>\n",
       "      <th>2231371</th>\n",
       "      <td>7500</td>\n",
       "      <td>36</td>\n",
       "      <td>249.08</td>\n",
       "      <td>11.99</td>\n",
       "      <td>8185.46</td>\n",
       "    </tr>\n",
       "    <tr>\n",
       "      <th>2236199</th>\n",
       "      <td>10000</td>\n",
       "      <td>36</td>\n",
       "      <td>335.12</td>\n",
       "      <td>12.62</td>\n",
       "      <td>10689.77</td>\n",
       "    </tr>\n",
       "    <tr>\n",
       "      <th>2240779</th>\n",
       "      <td>12000</td>\n",
       "      <td>60</td>\n",
       "      <td>285.80</td>\n",
       "      <td>15.05</td>\n",
       "      <td>12082.84</td>\n",
       "    </tr>\n",
       "    <tr>\n",
       "      <th>2253345</th>\n",
       "      <td>28000</td>\n",
       "      <td>60</td>\n",
       "      <td>900.58</td>\n",
       "      <td>29.69</td>\n",
       "      <td>32241.05</td>\n",
       "    </tr>\n",
       "    <tr>\n",
       "      <th>2253889</th>\n",
       "      <td>10000</td>\n",
       "      <td>60</td>\n",
       "      <td>329.34</td>\n",
       "      <td>30.94</td>\n",
       "      <td>10333.31</td>\n",
       "    </tr>\n",
       "  </tbody>\n",
       "</table>\n",
       "<p>17809 rows × 5 columns</p>\n",
       "</div>"
      ],
      "text/plain": [
       "         loan_amnt  term  installment  int_rate  total_pymnt\n",
       "279776       20000    36       717.75     17.47     21732.42\n",
       "326463       30000    60       785.17     19.42     31490.78\n",
       "376843       12000    36       457.36     21.85     12612.78\n",
       "378205        3000    36        92.24      6.71      3083.87\n",
       "387120       32000    60       670.97      9.43     32268.58\n",
       "...            ...   ...          ...       ...          ...\n",
       "2231371       7500    36       249.08     11.99      8185.46\n",
       "2236199      10000    36       335.12     12.62     10689.77\n",
       "2240779      12000    60       285.80     15.05     12082.84\n",
       "2253345      28000    60       900.58     29.69     32241.05\n",
       "2253889      10000    60       329.34     30.94     10333.31\n",
       "\n",
       "[17809 rows x 5 columns]"
      ]
     },
     "execution_count": 49,
     "metadata": {},
     "output_type": "execute_result"
    }
   ],
   "source": [
    "df.loc[(df['loan_status']=='Charged Off')&(df['loan_amnt']<df['total_pymnt'])][['loan_amnt','term','installment','int_rate','total_pymnt']]"
   ]
  },
  {
   "cell_type": "code",
   "execution_count": 50,
   "metadata": {
    "scrolled": true
   },
   "outputs": [
    {
     "data": {
      "text/plain": [
       "[-12630.609999999999,\n",
       " -8991.720000000001,\n",
       " -2563.7700000000004,\n",
       " -2209.8499999999985,\n",
       " -1688.9400000000005,\n",
       " -1040.88,\n",
       " -886.0899999999983,\n",
       " -730.4199999999983,\n",
       " -697.5999999999985,\n",
       " -682.2300000000032,\n",
       " -640.5499999999993,\n",
       " -624.4999999999927,\n",
       " -560.7899999999972,\n",
       " -550.0500000000029,\n",
       " -533.079999999969,\n",
       " -516.8699765991041,\n",
       " -504.53999999999996,\n",
       " -483.22999999999774,\n",
       " -473.75,\n",
       " -455.3400000000038,\n",
       " -414.88000000000466,\n",
       " -413.08003533030205,\n",
       " -405.8600000000006,\n",
       " -382.34999999999854,\n",
       " -370.26000000000204,\n",
       " -365.5699999999997,\n",
       " -337.21000000000276,\n",
       " -321.630000000001,\n",
       " -314.20999999996,\n",
       " -311.5600000000013,\n",
       " -303.5698577616058,\n",
       " -295.64000000000124,\n",
       " -293.0499999999993,\n",
       " -289.34000000000015,\n",
       " -288.5699999999997,\n",
       " -283.9399999999987,\n",
       " -281.71999999999935,\n",
       " -279.5799999999981,\n",
       " -279.10999999999876,\n",
       " -275.34999999999854,\n",
       " -267.6200000000008,\n",
       " -267.179999999993,\n",
       " -260.97999999999956,\n",
       " -259.5,\n",
       " -256.40999999999985,\n",
       " -254.44999999999982,\n",
       " -252.5599999999995,\n",
       " -247.27999999999884,\n",
       " -246.89999999999782,\n",
       " -241.78999999999724,\n",
       " -231.79000000000087,\n",
       " -227.6899999999987,\n",
       " -224.0,\n",
       " -220.57999999999447,\n",
       " -219.67000000000007,\n",
       " -214.89999999999782,\n",
       " -200.22999999999593,\n",
       " -200.20999999999913,\n",
       " -199.38999999999942,\n",
       " -198.88996410109394,\n",
       " -194.9300000000003,\n",
       " -192.11996191419894,\n",
       " -187.6899999998841,\n",
       " -181.83000000000175,\n",
       " -180.65999999999985,\n",
       " -179.5199999999968,\n",
       " -179.5,\n",
       " -171.55995082400113,\n",
       " -169.98983101940394,\n",
       " -166.18000000000757,\n",
       " -165.36999999999898,\n",
       " -165.17000000000553,\n",
       " -163.9400000000005,\n",
       " -161.49000000000524,\n",
       " -160.85000000000036,\n",
       " -157.959988205399,\n",
       " -155.4200000000019,\n",
       " -151.11999999999898,\n",
       " -149.95999999999913,\n",
       " -148.1899999999987,\n",
       " -147.9399999999987,\n",
       " -145.1099999999933,\n",
       " -141.78999999999724,\n",
       " -141.67000000000007,\n",
       " -141.62000000000262,\n",
       " -140.2200000000048,\n",
       " -138.79000000000087,\n",
       " -136.7799999999952,\n",
       " -136.72000000000116,\n",
       " -134.70000000000073,\n",
       " -133.510073270696,\n",
       " -130.27999999999884,\n",
       " -129.38000000000102,\n",
       " -128.5500000000029,\n",
       " -125.8700000000008,\n",
       " -125.47999999999956,\n",
       " -123.52000000000044,\n",
       " -119.91999999999825,\n",
       " -119.89999999999964,\n",
       " -119.7599999999984,\n",
       " -119.02000000000044,\n",
       " -117.22000000000116,\n",
       " -116.87999999999738,\n",
       " -113.59999999999854,\n",
       " -113.19000000000051,\n",
       " -110.85000000000218,\n",
       " -108.64999999999964,\n",
       " -108.09000000000015,\n",
       " -107.84999999999854,\n",
       " -107.82999999999993,\n",
       " -106.44000000000005,\n",
       " -104.79999999999927,\n",
       " -101.80999999999949,\n",
       " -96.52000000000044,\n",
       " -96.05999999999949,\n",
       " -96.05000000000109,\n",
       " -95.95000000000255,\n",
       " -95.45999999999913,\n",
       " -94.78000000000247,\n",
       " -91.68000000000029,\n",
       " -91.32000000000153,\n",
       " -87.8100000000004,\n",
       " -87.79999999999927,\n",
       " -87.57999999999993,\n",
       " -87.18000000000029,\n",
       " -83.30999999999767,\n",
       " -81.01999999999998,\n",
       " -80.45999999999913,\n",
       " -79.90999999999985,\n",
       " -78.67000000000007,\n",
       " -77.70999999999913,\n",
       " -75.61999999999989,\n",
       " -75.43000000000393,\n",
       " -75.34999999999854,\n",
       " -74.81999999999971,\n",
       " -74.44999999999982,\n",
       " -71.88000000000102,\n",
       " -70.06999999999971,\n",
       " -69.31999999999971,\n",
       " -68.9992572389001,\n",
       " -67.92000000000007,\n",
       " -65.32999999999993,\n",
       " -64.55999999999949,\n",
       " -64.26000000000022,\n",
       " -64.13000000000102,\n",
       " -64.09000000000015,\n",
       " -63.470000000001164,\n",
       " -63.13999999999942,\n",
       " -63.1299999999992,\n",
       " -62.710000000002765,\n",
       " -62.50999999999476,\n",
       " -62.25,\n",
       " -62.22999999999956,\n",
       " -60.8100000000004,\n",
       " -58.52000000000044,\n",
       " -56.17999999999665,\n",
       " -55.659999999999854,\n",
       " -55.19999999999982,\n",
       " -54.01999999999862,\n",
       " -53.76000000000022,\n",
       " -53.72999999999956,\n",
       " -51.580000000000155,\n",
       " -51.18000000000029,\n",
       " -50.69000000000051,\n",
       " -49.81999999999971,\n",
       " -49.62999999999647,\n",
       " -48.94999999999891,\n",
       " -48.86000000000058,\n",
       " -47.64995410710253,\n",
       " -45.72999999999956,\n",
       " -44.840000000000146,\n",
       " -44.61000000000058,\n",
       " -44.54000000000087,\n",
       " -44.210000000000946,\n",
       " -43.93999999999869,\n",
       " -42.719999999999345,\n",
       " -41.340000000000146,\n",
       " -40.88000000000102,\n",
       " -39.969999999999345,\n",
       " -39.88999999999987,\n",
       " -39.79999999999927,\n",
       " -39.54000000000087,\n",
       " -39.409999999999854,\n",
       " -38.70999999999913,\n",
       " -38.06999999999971,\n",
       " -37.86999999999989,\n",
       " -36.98000000000002,\n",
       " -36.3700000000008,\n",
       " -36.11000000000058,\n",
       " -34.789999999999054,\n",
       " -34.73999999999978,\n",
       " -34.63000000000011,\n",
       " -33.30000000000018,\n",
       " -33.11999999999898,\n",
       " -32.889999999897555,\n",
       " -32.63000000000011,\n",
       " -32.409999999999854,\n",
       " -31.32999999999811,\n",
       " -31.289999999999964,\n",
       " -31.239999999997963,\n",
       " -30.10999512319904,\n",
       " -29.8799999999992,\n",
       " -29.230000000000018,\n",
       " -28.779999999999745,\n",
       " -28.770000000000437,\n",
       " -28.62999999995418,\n",
       " -28.299999999999272,\n",
       " -27.470000000001164,\n",
       " -27.43000000000029,\n",
       " -25.590000000000146,\n",
       " -25.039999999997235,\n",
       " -24.779999999999745,\n",
       " -23.960000000000036,\n",
       " -23.539999999999964,\n",
       " -23.080000000096334,\n",
       " -23.00000000000091,\n",
       " -22.097104363273957,\n",
       " -21.390000000000327,\n",
       " -20.839999999996508,\n",
       " -20.659999999999854,\n",
       " -20.100000000000364,\n",
       " -19.979999999999563,\n",
       " -19.56999999999971,\n",
       " -19.13000000000011,\n",
       " -18.99999999999818,\n",
       " -18.59343734281083,\n",
       " -18.079999999999927,\n",
       " -17.720000000000255,\n",
       " -17.040000000000873,\n",
       " -16.74000000000001,\n",
       " -15.949999999999818,\n",
       " -15.87999999999738,\n",
       " -14.999999999998181,\n",
       " -14.580000000001746,\n",
       " -14.299999999999272,\n",
       " -12.789999999999054,\n",
       " -10.970000000001164,\n",
       " -10.960000000000036,\n",
       " -10.919999999998254,\n",
       " -10.80999999999949,\n",
       " -10.13000000000011,\n",
       " -9.590000000000146,\n",
       " -9.069999999999709,\n",
       " -8.579999999998108,\n",
       " -7.989999999999782,\n",
       " -7.8400000000001455,\n",
       " -7.1599999999998545,\n",
       " -6.730000000000473,\n",
       " -6.469999999999345,\n",
       " -5.0499999999999545,\n",
       " -4.399990172300022,\n",
       " -4.170000000000073,\n",
       " -2.1599999999998545,\n",
       " -1.2999999999992724,\n",
       " 0.0,\n",
       " 0.00018900340364780277,\n",
       " 0.31999999999970896,\n",
       " 0.8000000000001819,\n",
       " 1.0799999999999272,\n",
       " 2.0,\n",
       " 2.0538173258901224,\n",
       " 2.279999999998836,\n",
       " 2.8099999999994907,\n",
       " 3.049999999999727,\n",
       " 3.0605701698000303,\n",
       " 3.2000000000007276,\n",
       " 4.210000000000036,\n",
       " 5.050000000000182,\n",
       " 5.710000000000946,\n",
       " 5.860000000000582,\n",
       " 5.8700000000008,\n",
       " 6.450000000000728,\n",
       " 6.5600000000004,\n",
       " 7.260000000000218,\n",
       " 7.609999999999673,\n",
       " 8.650000000030559,\n",
       " 9.950000000000728,\n",
       " 10.099999999999909,\n",
       " 10.100000000000364,\n",
       " 10.876899995739223,\n",
       " 10.960000000000036,\n",
       " 11.279999999998836,\n",
       " 11.590000000000146,\n",
       " 13.469999999999345,\n",
       " 13.900000000001455,\n",
       " 14.090000000001055,\n",
       " 14.680000000000291,\n",
       " 14.735939323983075,\n",
       " 15.129999999899155,\n",
       " 16.99999999999727,\n",
       " 17.650000000001455,\n",
       " 20.329999999999927,\n",
       " 20.81999999999971,\n",
       " 20.820000000006075,\n",
       " 21.390000000003056,\n",
       " 21.96000000000049,\n",
       " 22.549999999999955,\n",
       " 22.61999999999989,\n",
       " 23.799999999999955,\n",
       " 23.830000000001746,\n",
       " 23.879999999999654,\n",
       " 23.93999999999869,\n",
       " 24.63000000000102,\n",
       " 27.469999999999345,\n",
       " 27.529999999999745,\n",
       " 27.76000000000022,\n",
       " 28.51000000000022,\n",
       " 29.219999999999345,\n",
       " 29.840000000000146,\n",
       " 30.299999999944248,\n",
       " 30.929999999999836,\n",
       " 32.03000000000611,\n",
       " 32.97000000000003,\n",
       " 33.25,\n",
       " 33.6400000000001,\n",
       " 34.13000000000011,\n",
       " 34.960000000000036,\n",
       " 35.470203196302464,\n",
       " 36.06999999999971,\n",
       " 36.16999999999598,\n",
       " 37.70999999999731,\n",
       " 39.15000000000009,\n",
       " 39.63000000000102,\n",
       " 40.51999999999998,\n",
       " 40.68000000000029,\n",
       " 40.7599999999984,\n",
       " 41.279999999998836,\n",
       " 42.55999999999949,\n",
       " 42.63999999999987,\n",
       " 42.86000000000013,\n",
       " 44.059999999999945,\n",
       " 44.720000000000255,\n",
       " 46.64999999999782,\n",
       " 46.9399999999996,\n",
       " 47.36999999999898,\n",
       " 48.01999999999998,\n",
       " 48.27999999999997,\n",
       " 49.93000000000029,\n",
       " 50.82000000000062,\n",
       " 51.280000000000655,\n",
       " 51.93000000000029,\n",
       " 52.75000000000023,\n",
       " 53.94999999999709,\n",
       " 55.60999999999967,\n",
       " 55.67000000000007,\n",
       " 56.17000000000189,\n",
       " 56.210000000000036,\n",
       " 56.91999999999962,\n",
       " 57.23999999999796,\n",
       " 57.470000000000255,\n",
       " 57.93999999999869,\n",
       " 58.07999999999993,\n",
       " 59.87000000000012,\n",
       " 60.11000000000013,\n",
       " 60.37000000000262,\n",
       " 61.590000000000146,\n",
       " 61.93000000000029,\n",
       " 62.13999999999942,\n",
       " 62.92000000000007,\n",
       " 63.04000000000201,\n",
       " 63.5600000000004,\n",
       " 64.82999999999993,\n",
       " 66.08999658559969,\n",
       " 67.37999999999965,\n",
       " 67.8100000000004,\n",
       " 68.3400000000006,\n",
       " 68.3599999999999,\n",
       " 69.22000000000025,\n",
       " 69.30999999999949,\n",
       " 70.08000000000038,\n",
       " 70.44999999999982,\n",
       " 70.55999999999767,\n",
       " 71.54999999999927,\n",
       " 71.94000000000051,\n",
       " 72.19116154255926,\n",
       " 72.48000000000138,\n",
       " 72.52000000000044,\n",
       " 72.80999999999995,\n",
       " 73.53999999999996,\n",
       " 73.86000000000013,\n",
       " 75.09000000000015,\n",
       " 75.13999999999942,\n",
       " 75.58000000000175,\n",
       " 75.89999999999964,\n",
       " 76.81999999999971,\n",
       " 77.58999999999969,\n",
       " 78.18999999996413,\n",
       " 79.24000000000069,\n",
       " 81.30000000000018,\n",
       " 81.55000000000018,\n",
       " 81.67999999999984,\n",
       " 82.07000000000016,\n",
       " 82.25000000000045,\n",
       " 82.77999999999997,\n",
       " 82.89000229170142,\n",
       " 83.07000000000016,\n",
       " 83.79999999999995,\n",
       " 85.60000000000036,\n",
       " 85.63000000000011,\n",
       " 86.01000000000022,\n",
       " 86.17999999999984,\n",
       " 86.82999999999993,\n",
       " 87.02000000000044,\n",
       " 87.06999999999971,\n",
       " 87.69999999999982,\n",
       " 87.76999999999953,\n",
       " 88.25,\n",
       " 88.38999999999942,\n",
       " 89.36999999999989,\n",
       " 89.62999999999738,\n",
       " 89.94999999999982,\n",
       " 90.18000000000029,\n",
       " 91.19999999999982,\n",
       " 91.49000000000024,\n",
       " 92.52000000000044,\n",
       " 92.69999999999982,\n",
       " 92.79999999999973,\n",
       " 93.8100000000004,\n",
       " 94.07000000000016,\n",
       " 94.25,\n",
       " 94.38999999999942,\n",
       " 94.84000000000015,\n",
       " 95.24000000000001,\n",
       " 95.55000000000291,\n",
       " 96.55000000000018,\n",
       " 96.84999999999854,\n",
       " 97.05999999999995,\n",
       " 97.17000000000007,\n",
       " 97.27999999999975,\n",
       " 97.32999999999993,\n",
       " 97.5,\n",
       " 97.93000000000075,\n",
       " 98.21000000010008,\n",
       " 98.91999999999985,\n",
       " 99.1200000000008,\n",
       " 99.62999999999988,\n",
       " 100.11999999999989,\n",
       " 100.52999999999975,\n",
       " 100.78999999999996,\n",
       " 100.9399999999996,\n",
       " 100.96000000000004,\n",
       " 101.15000000000009,\n",
       " 101.34999999999991,\n",
       " 101.6899999999996,\n",
       " 101.77000000000044,\n",
       " 101.90999999999985,\n",
       " 102.05999999999995,\n",
       " 102.51999999999953,\n",
       " 102.86999999999898,\n",
       " 103.03999999999996,\n",
       " 103.15999999999985,\n",
       " 103.61999999999989,\n",
       " 103.77999999999975,\n",
       " 104.16000000000008,\n",
       " 104.90000000000009,\n",
       " 105.15999999999985,\n",
       " 105.18000000000029,\n",
       " 106.19999999999982,\n",
       " 106.35000000000036,\n",
       " 106.71000000000004,\n",
       " 107.83000000000084,\n",
       " 108.5600000000004,\n",
       " 109.20000000000027,\n",
       " 109.78999999999996,\n",
       " 110.15999999999985,\n",
       " 110.17000000000007,\n",
       " 110.25999999999976,\n",
       " 110.60000000000036,\n",
       " 110.84000000000015,\n",
       " 110.8700000000008,\n",
       " 111.1899999999996,\n",
       " 111.32999999999993,\n",
       " 111.57999999999993,\n",
       " 111.90000000000146,\n",
       " 112.73999999999978,\n",
       " 114.24000000000001,\n",
       " 114.72999999999956,\n",
       " 115.04000000000087,\n",
       " 115.58999999999924,\n",
       " 115.66000000000008,\n",
       " 116.42999999999984,\n",
       " 116.51999999999862,\n",
       " 116.79999999999973,\n",
       " 116.83000000000084,\n",
       " 116.83999999999833,\n",
       " 116.93000000000029,\n",
       " 116.94000000000005,\n",
       " 117.17000000000007,\n",
       " 117.64000000000033,\n",
       " 117.94999999999982,\n",
       " 118.0,\n",
       " 118.65000000000009,\n",
       " 118.92000000000007,\n",
       " 119.45000000000027,\n",
       " 120.26000000000022,\n",
       " 121.31999999999971,\n",
       " 122.15000000000055,\n",
       " 122.27000000000044,\n",
       " 122.69000000009964,\n",
       " 123.55000436529917,\n",
       " 123.56000000000131,\n",
       " 123.57999999999993,\n",
       " 123.91999999999825,\n",
       " 124.0,\n",
       " 124.90000000000009,\n",
       " 124.90000000000055,\n",
       " 125.42000000000007,\n",
       " 125.7199999999998,\n",
       " 125.98999999999978,\n",
       " 125.99999999999955,\n",
       " 126.96000000000095,\n",
       " 127.93000000000006,\n",
       " 127.94000000000005,\n",
       " 128.0300000000001,\n",
       " 128.27999999990152,\n",
       " 128.35000000000036,\n",
       " 128.42999999999984,\n",
       " 128.4400000000005,\n",
       " 129.36999999999807,\n",
       " 129.75000000000114,\n",
       " 129.8800000000001,\n",
       " 130.1200000000008,\n",
       " 130.17000000000007,\n",
       " 130.1900000000005,\n",
       " 130.32999999999993,\n",
       " 132.22999999999956,\n",
       " 132.50999999999976,\n",
       " 132.9900000000007,\n",
       " 133.0600000000013,\n",
       " 133.2400000000007,\n",
       " 133.59999999999945,\n",
       " 134.0399999999995,\n",
       " 134.12999999999738,\n",
       " 134.40999999999985,\n",
       " 135.1300000000001,\n",
       " 135.64999999999964,\n",
       " 135.72999999999956,\n",
       " 136.14999999999964,\n",
       " 136.33999999999992,\n",
       " 136.54999999999927,\n",
       " 136.5599999999995,\n",
       " 136.6700000000019,\n",
       " 137.0599999999995,\n",
       " 137.10000000000036,\n",
       " 137.1199999999999,\n",
       " 137.23999999999978,\n",
       " 137.8100000000013,\n",
       " 138.5300000000002,\n",
       " 138.5999999999999,\n",
       " 138.6800000000003,\n",
       " 138.96000000000004,\n",
       " 139.05000000000018,\n",
       " 139.0599999999995,\n",
       " 139.37999999999988,\n",
       " 139.85999999999967,\n",
       " 141.00000000000182,\n",
       " 141.17000000000007,\n",
       " 141.21000000000004,\n",
       " 141.5,\n",
       " 141.5099999999984,\n",
       " 141.71000000000004,\n",
       " 141.86999999999898,\n",
       " 142.3100000000004,\n",
       " 142.32000000000016,\n",
       " 142.46000000000004,\n",
       " 142.5999999999999,\n",
       " 142.72000000000025,\n",
       " 143.0699999999997,\n",
       " 143.19999999999982,\n",
       " 143.72999999999956,\n",
       " 143.76000000000022,\n",
       " 143.89000000000033,\n",
       " 144.2599999999984,\n",
       " 144.6899999999987,\n",
       " 144.70999999999913,\n",
       " 144.86000000000013,\n",
       " 145.60000000000036,\n",
       " 145.70000000000027,\n",
       " 145.76999999999998,\n",
       " 145.88000000000102,\n",
       " 146.23000000000047,\n",
       " 146.25000570569773,\n",
       " 146.48999999998523,\n",
       " 146.92000000000007,\n",
       " 147.79000000000087,\n",
       " 147.97999999999593,\n",
       " 147.98000000000047,\n",
       " 148.41000000000213,\n",
       " 148.53999999999905,\n",
       " 148.64000000000306,\n",
       " 148.7199999999998,\n",
       " 149.1900000000005,\n",
       " 150.5,\n",
       " 150.77999999999997,\n",
       " 151.1899999999996,\n",
       " 151.48000000000047,\n",
       " 151.5600000000004,\n",
       " 151.78999999999905,\n",
       " 152.80000000000018,\n",
       " 154.0300000000002,\n",
       " 154.39000000000033,\n",
       " 154.48999999999978,\n",
       " 154.59999999999945,\n",
       " 155.12000000000035,\n",
       " 155.88000000000466,\n",
       " 156.0299999999079,\n",
       " 156.16000000000008,\n",
       " 156.52999999999975,\n",
       " 156.72999999999956,\n",
       " 156.88000000000102,\n",
       " 157.0,\n",
       " 157.13999999999942,\n",
       " 157.22000000000003,\n",
       " 157.82999999999993,\n",
       " 157.96000000000004,\n",
       " 158.32999999999993,\n",
       " 158.5899999999997,\n",
       " 158.88999999999987,\n",
       " 159.03999999999905,\n",
       " 159.3699999999999,\n",
       " 160.0300000000001,\n",
       " 160.46000000000004,\n",
       " 160.65999999999985,\n",
       " 161.35999999999967,\n",
       " 161.51000000000022,\n",
       " 161.60000000000036,\n",
       " 161.63999999999942,\n",
       " 161.71000000000004,\n",
       " 161.76,\n",
       " 161.88999999999987,\n",
       " 162.01,\n",
       " 162.01999999999953,\n",
       " 162.27000000000044,\n",
       " 162.42000000000007,\n",
       " 162.58999999999924,\n",
       " 163.3199999999997,\n",
       " 163.52999999999975,\n",
       " 164.61999999999898,\n",
       " 165.0600000000004,\n",
       " 165.28999999999996,\n",
       " 165.62999999999738,\n",
       " 165.84000000000015,\n",
       " 166.72000000000025,\n",
       " 166.79999999999927,\n",
       " 167.80000000000018,\n",
       " 168.02999999999997,\n",
       " 168.03999999999724,\n",
       " 168.5,\n",
       " 168.63000000000284,\n",
       " 168.89000000000033,\n",
       " 169.85999999999967,\n",
       " 170.14999999999998,\n",
       " 170.36000000000058,\n",
       " 170.6900000000005,\n",
       " 171.10999999999967,\n",
       " 171.26999999999862,\n",
       " 171.52000000000135,\n",
       " 171.61999999999898,\n",
       " 172.0,\n",
       " 172.02000000000044,\n",
       " 173.1899999999987,\n",
       " 173.51000000000022,\n",
       " 173.59000000000015,\n",
       " 173.9399999999996,\n",
       " 174.3499999999999,\n",
       " 174.47000000000116,\n",
       " 174.48999999999978,\n",
       " 174.6899999999996,\n",
       " 174.76000000000022,\n",
       " 174.80999999999995,\n",
       " 175.45999999999958,\n",
       " 175.90999999999985,\n",
       " 175.95000000000005,\n",
       " 175.97000000000003,\n",
       " 176.28000000000156,\n",
       " 176.46999999999935,\n",
       " 176.47000000000025,\n",
       " 176.54999999999927,\n",
       " 176.98000000000002,\n",
       " 177.05999999998494,\n",
       " 177.0600000000004,\n",
       " 177.08000000000038,\n",
       " 177.20000000000073,\n",
       " 177.23000000000047,\n",
       " 177.30000000000018,\n",
       " 177.9600000000005,\n",
       " 177.97999999999956,\n",
       " 178.11000000000058,\n",
       " 178.2099999999973,\n",
       " 178.63999999999942,\n",
       " 179.15999999999985,\n",
       " 179.42000000000007,\n",
       " 179.5600000000004,\n",
       " 179.61000000000058,\n",
       " 180.11999999999784,\n",
       " 180.53999999999996,\n",
       " 180.61000000000058,\n",
       " 181.34000000000015,\n",
       " 181.5999999999999,\n",
       " 181.6899999999996,\n",
       " 181.7500000000009,\n",
       " 182.04999999999927,\n",
       " 182.6199999999999,\n",
       " 183.15000000000146,\n",
       " 183.63999999999942,\n",
       " 183.67000000000007,\n",
       " 183.9499999999989,\n",
       " 184.17000000000007,\n",
       " 184.59000000000015,\n",
       " 185.13000000000056,\n",
       " 185.2599999999993,\n",
       " 185.4599999999998,\n",
       " 185.73999999999978,\n",
       " 185.76999999999953,\n",
       " 185.8499999999999,\n",
       " 185.97000000000003,\n",
       " 186.07999999999993,\n",
       " 186.30999999999858,\n",
       " 186.3699999999999,\n",
       " 186.3699999999999,\n",
       " 187.3099999999995,\n",
       " 187.57000000000062,\n",
       " 187.6800000000003,\n",
       " 187.78999999999996,\n",
       " 188.14000000000033,\n",
       " 189.0,\n",
       " 189.11000000000058,\n",
       " 189.58999999999924,\n",
       " 189.75999999999976,\n",
       " 189.83000000000038,\n",
       " 191.25,\n",
       " 191.27999999999975,\n",
       " 191.5,\n",
       " 191.75010094820027,\n",
       " 192.26000000000022,\n",
       " 192.30000000000018,\n",
       " 192.5999999999999,\n",
       " 192.8499999999999,\n",
       " 193.30999999999767,\n",
       " 194.57000000000016,\n",
       " 194.6399999999976,\n",
       " 194.68999999999983,\n",
       " 194.98999925299995,\n",
       " 195.0300000000002,\n",
       " 195.22000000000025,\n",
       " 195.65999999999985,\n",
       " 196.12999999999988,\n",
       " 196.27000000000044,\n",
       " 196.52000000000044,\n",
       " 196.75,\n",
       " 196.90999999999985,\n",
       " 197.75,\n",
       " 197.86000000000058,\n",
       " 198.03000000000065,\n",
       " 198.3099999999995,\n",
       " 198.3099999999995,\n",
       " 198.97999999999956,\n",
       " 199.25999999999976,\n",
       " 199.6299999999992,\n",
       " 199.9000000000001,\n",
       " 199.92999999999995,\n",
       " 200.21000000000095,\n",
       " 200.23999999999978,\n",
       " 200.23999999999978,\n",
       " 200.41999999999962,\n",
       " 200.88999999999942,\n",
       " 201.20000000000027,\n",
       " 201.25,\n",
       " 201.70000000000005,\n",
       " 201.7199999999998,\n",
       " 201.90000000000055,\n",
       " 201.9300000000003,\n",
       " 201.96000000000004,\n",
       " 202.4900000000007,\n",
       " 202.58999999999992,\n",
       " 202.7599999999984,\n",
       " 202.8599999999999,\n",
       " 203.21000000000004,\n",
       " 203.2599999999993,\n",
       " 203.41000000000076,\n",
       " 203.86000000000058,\n",
       " 203.96999999999753,\n",
       " 204.2099999999998,\n",
       " 204.23000000000002,\n",
       " 204.85999999999876,\n",
       " 204.90999999999985,\n",
       " 205.1900000000005,\n",
       " 205.3399999999997,\n",
       " 205.5,\n",
       " 205.77999999999884,\n",
       " 206.19000000000233,\n",
       " 207.01999999999975,\n",
       " 207.3699999999999,\n",
       " 207.5599999999995,\n",
       " 207.96999999999605,\n",
       " 208.03999999999996,\n",
       " 208.6800000000003,\n",
       " 208.92000000000007,\n",
       " 209.11000000000058,\n",
       " 209.61000000000058,\n",
       " 209.67000000000007,\n",
       " 209.79000000000042,\n",
       " 209.89999999999964,\n",
       " 210.0,\n",
       " 210.0400000000002,\n",
       " 210.26000000000022,\n",
       " 210.4400000000005,\n",
       " 210.4599999999973,\n",
       " 211.87999999999988,\n",
       " 212.23999999999978,\n",
       " 212.58999999999992,\n",
       " 212.72000000000025,\n",
       " 212.81000000000017,\n",
       " 212.8100000000013,\n",
       " 213.01000000000022,\n",
       " 213.35000000000036,\n",
       " 214.10000000000036,\n",
       " 214.73000000000002,\n",
       " 214.97999999999956,\n",
       " 215.6299999999992,\n",
       " 215.67000000000007,\n",
       " 215.67000000000007,\n",
       " 215.72999999999956,\n",
       " 216.5400000000002,\n",
       " 217.1800000000003,\n",
       " 217.19999999999982,\n",
       " 217.33999999999992,\n",
       " 217.98999999999978,\n",
       " 218.22999999999956,\n",
       " 218.5,\n",
       " 219.22999999999865,\n",
       " 219.78999999999996,\n",
       " 219.84000000000003,\n",
       " 220.07999999999993,\n",
       " 220.40999999999963,\n",
       " 220.94999999999982,\n",
       " 221.6124102949002,\n",
       " 221.92000000000007,\n",
       " 222.14999999999964,\n",
       " 222.27000000000044,\n",
       " 222.6300000000001,\n",
       " 223.1199999999999,\n",
       " 223.16999999999962,\n",
       " 223.4499999999989,\n",
       " 223.54000000000087,\n",
       " 223.54000000000087,\n",
       " 223.5699999999997,\n",
       " 223.90000917269936,\n",
       " 224.1800000000003,\n",
       " 224.5000000000009,\n",
       " 224.71000000000095,\n",
       " 224.9399999999996,\n",
       " 225.18000000000575,\n",
       " 225.40999999999985,\n",
       " 225.85000000000036,\n",
       " 226.36000000000058,\n",
       " 226.40999999999985,\n",
       " 226.45000000000005,\n",
       " 226.70000000000073,\n",
       " 227.23999999999796,\n",
       " 227.26000000000022,\n",
       " 227.27999999999975,\n",
       " 227.30999999999767,\n",
       " 227.84000000000015,\n",
       " 227.90999999999985,\n",
       " 228.79999999999927,\n",
       " 228.82999999999993,\n",
       " 229.48999999999978,\n",
       " 229.85999999999967,\n",
       " 229.95000000000073,\n",
       " 230.0299957023999,\n",
       " 230.5699999999997,\n",
       " 230.8199999999997,\n",
       " 231.92999999999984,\n",
       " 232.0599999999995,\n",
       " 232.42999999999938,\n",
       " 232.4599999999955,\n",
       " 232.5999999999931,\n",
       " 233.03999999999996,\n",
       " 233.1200000000008,\n",
       " 233.32999999999993,\n",
       " 233.95000000000073,\n",
       " 234.0,\n",
       " 234.2543741669797,\n",
       " 234.8099999999995,\n",
       " 235.1200000000008,\n",
       " 235.17000000000007,\n",
       " 235.21999999999935,\n",
       " 235.41999999999825,\n",
       " 235.45000000000005,\n",
       " 235.47999999999956,\n",
       " 235.87,\n",
       " 236.76999999999998,\n",
       " 236.90999999999985,\n",
       " 236.90999999999997,\n",
       " 236.9699999999998,\n",
       " 237.03000000000065,\n",
       " 237.4399999999987,\n",
       " 237.8499999999999,\n",
       " 237.97000000000116,\n",
       " 237.99000000000024,\n",
       " 238.4100000000003,\n",
       " 238.95000000000073,\n",
       " 239.12999999999965,\n",
       " 239.34999999999945,\n",
       " 239.41999999999825,\n",
       " 239.4699999999998,\n",
       " 239.5600000000004,\n",
       " 240.02999999999975,\n",
       " 240.09000000000015,\n",
       " 240.09999999999945,\n",
       " 240.51999999999998,\n",
       " 240.59000000000015,\n",
       " 241.14999999999964,\n",
       " 241.35999999999876,\n",
       " 241.6200000000008,\n",
       " 241.89000000000124,\n",
       " 242.13999999999942,\n",
       " 242.15999999999804,\n",
       " 242.38999999999942,\n",
       " 242.4400000000005,\n",
       " 242.62000000000012,\n",
       " 242.97000000000025,\n",
       " 243.10999999999694,\n",
       " 243.11999999999898,\n",
       " 243.5,\n",
       " 244.05000000000018,\n",
       " 244.09000000000015,\n",
       " 244.11000000000058,\n",
       " 244.78999999999996,\n",
       " 244.85000000000036,\n",
       " 245.28999999999996,\n",
       " 245.4599999999973,\n",
       " 245.73000000000002,\n",
       " 246.6199999999999,\n",
       " 246.6300000000001,\n",
       " 246.6899999999996,\n",
       " 246.71000000000004,\n",
       " 247.11000000000058,\n",
       " 247.39999999999964,\n",
       " 247.80997693619975,\n",
       " 247.94999999999982,\n",
       " 248.04000000000087,\n",
       " 248.3000000000011,\n",
       " 248.3000000000011,\n",
       " 249.1800000000003,\n",
       " 249.47000000000116,\n",
       " 249.489983113599,\n",
       " 249.48999999999978,\n",
       " 249.49999999999636,\n",
       " 249.52000000000044,\n",
       " 249.86999999999898,\n",
       " 250.0,\n",
       " 250.03000000000065,\n",
       " 250.2599897366008,\n",
       " 250.34000000000015,\n",
       " 250.44999999999982,\n",
       " 250.85000000000036,\n",
       " 251.36000000000058,\n",
       " 251.65000000000055,\n",
       " 251.7900000000027,\n",
       " 252.52999999999975,\n",
       " 252.71000000000004,\n",
       " 252.72999999999956,\n",
       " 253.1800000000003,\n",
       " 253.56000000000006,\n",
       " 253.76000000000022,\n",
       " 253.96000000000004,\n",
       " 253.97999999999956,\n",
       " 254.03000000000065,\n",
       " 254.22000000000116,\n",
       " 254.39999999999964,\n",
       " 254.40000000000055,\n",
       " 254.73000000000047,\n",
       " 254.7899999999995,\n",
       " 255.19999999999982,\n",
       " 255.77000000000044,\n",
       " 255.87999999999965,\n",
       " 256.4300000000003,\n",
       " 256.52000000000044,\n",
       " 256.70000000000005,\n",
       " 256.8700000000008,\n",
       " 257.0,\n",
       " 257.07000000000016,\n",
       " 257.0799999999999,\n",
       " 257.130000000001,\n",
       " 257.2600000000002,\n",
       " 257.30999999999995,\n",
       " 257.3800000000001,\n",
       " 257.75999999999976,\n",
       " 257.89999999999964,\n",
       " 257.97000000000116,\n",
       " 257.9899999999999,\n",
       " 258.65000000000146,\n",
       " 258.82000000000016,\n",
       " 258.8800000000001,\n",
       " 259.0500000000002,\n",
       " 259.1199999999999,\n",
       " 259.8100000000013,\n",
       " 260.2600000000002,\n",
       " ...]"
      ]
     },
     "execution_count": 50,
     "metadata": {},
     "output_type": "execute_result"
    }
   ],
   "source": [
    "sorted((df.loc[df['loan_status']=='Charged Off']['term']*df.loc[df['loan_status']=='Charged Off']['installment'])-df.loc[df['loan_status']=='Charged Off']['total_pymnt'])\n",
    "#small portion of the loans had larger eventual payment amount than expected amount"
   ]
  },
  {
   "cell_type": "code",
   "execution_count": 51,
   "metadata": {},
   "outputs": [
    {
     "data": {
      "text/plain": [
       "count    1.024444e+06\n",
       "mean     1.486053e+03\n",
       "std      2.747715e+03\n",
       "min     -3.182150e+04\n",
       "25%      2.995394e+01\n",
       "50%      4.464000e+02\n",
       "75%      1.552692e+03\n",
       "max      3.797197e+04\n",
       "dtype: float64"
      ]
     },
     "execution_count": 51,
     "metadata": {},
     "output_type": "execute_result"
    }
   ],
   "source": [
    "((df.loc[df['loan_status']=='Fully Paid']['term']*df.loc[df['loan_status']=='Fully Paid']['installment'])-df.loc[df['loan_status']=='Fully Paid']['total_pymnt']).describe()"
   ]
  },
  {
   "cell_type": "code",
   "execution_count": 52,
   "metadata": {},
   "outputs": [
    {
     "data": {
      "text/html": [
       "<div>\n",
       "<style scoped>\n",
       "    .dataframe tbody tr th:only-of-type {\n",
       "        vertical-align: middle;\n",
       "    }\n",
       "\n",
       "    .dataframe tbody tr th {\n",
       "        vertical-align: top;\n",
       "    }\n",
       "\n",
       "    .dataframe thead th {\n",
       "        text-align: right;\n",
       "    }\n",
       "</style>\n",
       "<table border=\"1\" class=\"dataframe\">\n",
       "  <thead>\n",
       "    <tr style=\"text-align: right;\">\n",
       "      <th></th>\n",
       "      <th>loan_amnt</th>\n",
       "      <th>issue_d</th>\n",
       "      <th>term</th>\n",
       "      <th>installment</th>\n",
       "      <th>int_rate</th>\n",
       "      <th>last_pymnt_amnt</th>\n",
       "      <th>last_pymnt_d</th>\n",
       "      <th>total_pymnt</th>\n",
       "      <th>total_pymnt_inv</th>\n",
       "    </tr>\n",
       "  </thead>\n",
       "  <tbody>\n",
       "    <tr>\n",
       "      <th>186</th>\n",
       "      <td>4500</td>\n",
       "      <td>2018-12-01</td>\n",
       "      <td>36</td>\n",
       "      <td>147.99</td>\n",
       "      <td>11.31</td>\n",
       "      <td>4553.46</td>\n",
       "      <td>2019-02-01</td>\n",
       "      <td>4549.217149</td>\n",
       "      <td>4549.22</td>\n",
       "    </tr>\n",
       "    <tr>\n",
       "      <th>269</th>\n",
       "      <td>20000</td>\n",
       "      <td>2018-12-01</td>\n",
       "      <td>60</td>\n",
       "      <td>507.55</td>\n",
       "      <td>17.97</td>\n",
       "      <td>20043.53</td>\n",
       "      <td>2019-01-01</td>\n",
       "      <td>20013.577333</td>\n",
       "      <td>20013.58</td>\n",
       "    </tr>\n",
       "    <tr>\n",
       "      <th>271</th>\n",
       "      <td>6600</td>\n",
       "      <td>2018-12-01</td>\n",
       "      <td>36</td>\n",
       "      <td>217.05</td>\n",
       "      <td>11.31</td>\n",
       "      <td>6629.03</td>\n",
       "      <td>2019-01-01</td>\n",
       "      <td>6622.809000</td>\n",
       "      <td>6346.86</td>\n",
       "    </tr>\n",
       "    <tr>\n",
       "      <th>296</th>\n",
       "      <td>2500</td>\n",
       "      <td>2018-12-01</td>\n",
       "      <td>36</td>\n",
       "      <td>84.92</td>\n",
       "      <td>13.56</td>\n",
       "      <td>2504.11</td>\n",
       "      <td>2019-01-01</td>\n",
       "      <td>2501.285667</td>\n",
       "      <td>2476.27</td>\n",
       "    </tr>\n",
       "    <tr>\n",
       "      <th>369</th>\n",
       "      <td>4000</td>\n",
       "      <td>2018-12-01</td>\n",
       "      <td>36</td>\n",
       "      <td>144.55</td>\n",
       "      <td>17.97</td>\n",
       "      <td>55.91</td>\n",
       "      <td>2019-02-01</td>\n",
       "      <td>4049.916667</td>\n",
       "      <td>4049.92</td>\n",
       "    </tr>\n",
       "    <tr>\n",
       "      <th>...</th>\n",
       "      <td>...</td>\n",
       "      <td>...</td>\n",
       "      <td>...</td>\n",
       "      <td>...</td>\n",
       "      <td>...</td>\n",
       "      <td>...</td>\n",
       "      <td>...</td>\n",
       "      <td>...</td>\n",
       "      <td>...</td>\n",
       "    </tr>\n",
       "    <tr>\n",
       "      <th>2260643</th>\n",
       "      <td>10000</td>\n",
       "      <td>2017-10-01</td>\n",
       "      <td>36</td>\n",
       "      <td>320.05</td>\n",
       "      <td>9.44</td>\n",
       "      <td>7061.27</td>\n",
       "      <td>2018-11-01</td>\n",
       "      <td>10888.755458</td>\n",
       "      <td>10888.76</td>\n",
       "    </tr>\n",
       "    <tr>\n",
       "      <th>2260650</th>\n",
       "      <td>10000</td>\n",
       "      <td>2017-10-01</td>\n",
       "      <td>60</td>\n",
       "      <td>315.72</td>\n",
       "      <td>28.72</td>\n",
       "      <td>7907.26</td>\n",
       "      <td>2019-01-01</td>\n",
       "      <td>13342.702033</td>\n",
       "      <td>13342.70</td>\n",
       "    </tr>\n",
       "    <tr>\n",
       "      <th>2260652</th>\n",
       "      <td>25000</td>\n",
       "      <td>2017-10-01</td>\n",
       "      <td>60</td>\n",
       "      <td>818.85</td>\n",
       "      <td>30.65</td>\n",
       "      <td>25134.09</td>\n",
       "      <td>2017-10-01</td>\n",
       "      <td>25027.673750</td>\n",
       "      <td>25027.67</td>\n",
       "    </tr>\n",
       "    <tr>\n",
       "      <th>2260656</th>\n",
       "      <td>17950</td>\n",
       "      <td>2017-10-01</td>\n",
       "      <td>60</td>\n",
       "      <td>582.62</td>\n",
       "      <td>30.17</td>\n",
       "      <td>17965.90</td>\n",
       "      <td>2018-04-01</td>\n",
       "      <td>20803.775467</td>\n",
       "      <td>20803.78</td>\n",
       "    </tr>\n",
       "    <tr>\n",
       "      <th>2260658</th>\n",
       "      <td>15000</td>\n",
       "      <td>2017-10-01</td>\n",
       "      <td>60</td>\n",
       "      <td>364.94</td>\n",
       "      <td>16.02</td>\n",
       "      <td>14613.69</td>\n",
       "      <td>2018-03-01</td>\n",
       "      <td>16112.317714</td>\n",
       "      <td>16112.32</td>\n",
       "    </tr>\n",
       "  </tbody>\n",
       "</table>\n",
       "<p>1024444 rows × 9 columns</p>\n",
       "</div>"
      ],
      "text/plain": [
       "         loan_amnt    issue_d  term  installment  int_rate  last_pymnt_amnt  \\\n",
       "186           4500 2018-12-01    36       147.99     11.31          4553.46   \n",
       "269          20000 2018-12-01    60       507.55     17.97         20043.53   \n",
       "271           6600 2018-12-01    36       217.05     11.31          6629.03   \n",
       "296           2500 2018-12-01    36        84.92     13.56          2504.11   \n",
       "369           4000 2018-12-01    36       144.55     17.97            55.91   \n",
       "...            ...        ...   ...          ...       ...              ...   \n",
       "2260643      10000 2017-10-01    36       320.05      9.44          7061.27   \n",
       "2260650      10000 2017-10-01    60       315.72     28.72          7907.26   \n",
       "2260652      25000 2017-10-01    60       818.85     30.65         25134.09   \n",
       "2260656      17950 2017-10-01    60       582.62     30.17         17965.90   \n",
       "2260658      15000 2017-10-01    60       364.94     16.02         14613.69   \n",
       "\n",
       "        last_pymnt_d   total_pymnt  total_pymnt_inv  \n",
       "186       2019-02-01   4549.217149          4549.22  \n",
       "269       2019-01-01  20013.577333         20013.58  \n",
       "271       2019-01-01   6622.809000          6346.86  \n",
       "296       2019-01-01   2501.285667          2476.27  \n",
       "369       2019-02-01   4049.916667          4049.92  \n",
       "...              ...           ...              ...  \n",
       "2260643   2018-11-01  10888.755458         10888.76  \n",
       "2260650   2019-01-01  13342.702033         13342.70  \n",
       "2260652   2017-10-01  25027.673750         25027.67  \n",
       "2260656   2018-04-01  20803.775467         20803.78  \n",
       "2260658   2018-03-01  16112.317714         16112.32  \n",
       "\n",
       "[1024444 rows x 9 columns]"
      ]
     },
     "execution_count": 52,
     "metadata": {},
     "output_type": "execute_result"
    }
   ],
   "source": [
    "df.loc[df['loan_status']=='Fully Paid'][['loan_amnt','issue_d','term','installment','int_rate','last_pymnt_amnt','last_pymnt_d','total_pymnt','total_pymnt_inv']]"
   ]
  },
  {
   "cell_type": "code",
   "execution_count": 53,
   "metadata": {},
   "outputs": [],
   "source": [
    "df_complete=df.loc[(df['loan_status']=='Fully Paid') | (df['loan_status']=='Charged Off')].dropna(axis=1,how='all')"
   ]
  },
  {
   "cell_type": "markdown",
   "metadata": {},
   "source": [
    "Expected return as installment multiplied by loan length"
   ]
  },
  {
   "cell_type": "code",
   "execution_count": 54,
   "metadata": {},
   "outputs": [],
   "source": [
    "df_complete['expected_return']=df_complete['term']*df_complete['installment']"
   ]
  },
  {
   "cell_type": "code",
   "execution_count": 55,
   "metadata": {},
   "outputs": [
    {
     "data": {
      "text/plain": [
       "count    1.280370e+06\n",
       "mean     3.821823e+03\n",
       "std      7.071877e+03\n",
       "min     -3.182150e+04\n",
       "25%      9.569169e+01\n",
       "50%      8.107407e+02\n",
       "75%      3.974347e+03\n",
       "max      7.640674e+04\n",
       "dtype: float64"
      ]
     },
     "execution_count": 55,
     "metadata": {},
     "output_type": "execute_result"
    }
   ],
   "source": [
    "(df_complete['expected_return']-df_complete['total_pymnt']).describe()"
   ]
  },
  {
   "cell_type": "code",
   "execution_count": 56,
   "metadata": {
    "scrolled": true
   },
   "outputs": [
    {
     "data": {
      "text/plain": [
       "<matplotlib.axes._subplots.AxesSubplot at 0xc2d940b8>"
      ]
     },
     "execution_count": 56,
     "metadata": {},
     "output_type": "execute_result"
    },
    {
     "data": {
      "image/png": "[encoded data removed]",
      "text/plain": [
       "<Figure size 432x288 with 1 Axes>"
      ]
     },
     "metadata": {
      "needs_background": "light"
     },
     "output_type": "display_data"
    }
   ],
   "source": [
    "(df_complete['expected_return']-df_complete['total_pymnt']).hist()"
   ]
  },
  {
   "cell_type": "markdown",
   "metadata": {},
   "source": [
    "Expected Total Payment based on loan amount, length and interest rate formula - a more direct measure from an investor standpoint"
   ]
  },
  {
   "cell_type": "markdown",
   "metadata": {},
   "source": [
    "<img src = 'loanfm3.png'>\n"
   ]
  },
  {
   "cell_type": "code",
   "execution_count": 57,
   "metadata": {},
   "outputs": [],
   "source": [
    "r=df_complete['int_rate']/(12*100)\n",
    "n=df_complete['term']\n",
    "p=df_complete['loan_amnt']\n"
   ]
  },
  {
   "cell_type": "code",
   "execution_count": 58,
   "metadata": {},
   "outputs": [],
   "source": [
    "df_complete['expected_total_pymnt']=(r*p*n)/(1-((1+r)**(-n)))"
   ]
  },
  {
   "cell_type": "code",
   "execution_count": 59,
   "metadata": {},
   "outputs": [
    {
     "data": {
      "text/html": [
       "<div>\n",
       "<style scoped>\n",
       "    .dataframe tbody tr th:only-of-type {\n",
       "        vertical-align: middle;\n",
       "    }\n",
       "\n",
       "    .dataframe tbody tr th {\n",
       "        vertical-align: top;\n",
       "    }\n",
       "\n",
       "    .dataframe thead th {\n",
       "        text-align: right;\n",
       "    }\n",
       "</style>\n",
       "<table border=\"1\" class=\"dataframe\">\n",
       "  <thead>\n",
       "    <tr style=\"text-align: right;\">\n",
       "      <th></th>\n",
       "      <th>loan_amnt</th>\n",
       "      <th>expected_total_pymnt</th>\n",
       "      <th>expected_return</th>\n",
       "    </tr>\n",
       "  </thead>\n",
       "  <tbody>\n",
       "    <tr>\n",
       "      <th>186</th>\n",
       "      <td>4500</td>\n",
       "      <td>5327.486145</td>\n",
       "      <td>5327.64</td>\n",
       "    </tr>\n",
       "    <tr>\n",
       "      <th>269</th>\n",
       "      <td>20000</td>\n",
       "      <td>30452.532371</td>\n",
       "      <td>30453.00</td>\n",
       "    </tr>\n",
       "    <tr>\n",
       "      <th>271</th>\n",
       "      <td>6600</td>\n",
       "      <td>7813.646346</td>\n",
       "      <td>7813.80</td>\n",
       "    </tr>\n",
       "    <tr>\n",
       "      <th>296</th>\n",
       "      <td>2500</td>\n",
       "      <td>3056.788375</td>\n",
       "      <td>3057.12</td>\n",
       "    </tr>\n",
       "    <tr>\n",
       "      <th>369</th>\n",
       "      <td>4000</td>\n",
       "      <td>5203.778089</td>\n",
       "      <td>5203.80</td>\n",
       "    </tr>\n",
       "    <tr>\n",
       "      <th>...</th>\n",
       "      <td>...</td>\n",
       "      <td>...</td>\n",
       "      <td>...</td>\n",
       "    </tr>\n",
       "    <tr>\n",
       "      <th>2260652</th>\n",
       "      <td>25000</td>\n",
       "      <td>49130.679128</td>\n",
       "      <td>49131.00</td>\n",
       "    </tr>\n",
       "    <tr>\n",
       "      <th>2260654</th>\n",
       "      <td>30000</td>\n",
       "      <td>44821.789147</td>\n",
       "      <td>44821.80</td>\n",
       "    </tr>\n",
       "    <tr>\n",
       "      <th>2260655</th>\n",
       "      <td>18000</td>\n",
       "      <td>35374.088972</td>\n",
       "      <td>35374.20</td>\n",
       "    </tr>\n",
       "    <tr>\n",
       "      <th>2260656</th>\n",
       "      <td>17950</td>\n",
       "      <td>34957.151953</td>\n",
       "      <td>34957.20</td>\n",
       "    </tr>\n",
       "    <tr>\n",
       "      <th>2260658</th>\n",
       "      <td>15000</td>\n",
       "      <td>21895.816539</td>\n",
       "      <td>21896.40</td>\n",
       "    </tr>\n",
       "  </tbody>\n",
       "</table>\n",
       "<p>1280370 rows × 3 columns</p>\n",
       "</div>"
      ],
      "text/plain": [
       "         loan_amnt  expected_total_pymnt  expected_return\n",
       "186           4500           5327.486145          5327.64\n",
       "269          20000          30452.532371         30453.00\n",
       "271           6600           7813.646346          7813.80\n",
       "296           2500           3056.788375          3057.12\n",
       "369           4000           5203.778089          5203.80\n",
       "...            ...                   ...              ...\n",
       "2260652      25000          49130.679128         49131.00\n",
       "2260654      30000          44821.789147         44821.80\n",
       "2260655      18000          35374.088972         35374.20\n",
       "2260656      17950          34957.151953         34957.20\n",
       "2260658      15000          21895.816539         21896.40\n",
       "\n",
       "[1280370 rows x 3 columns]"
      ]
     },
     "execution_count": 59,
     "metadata": {},
     "output_type": "execute_result"
    }
   ],
   "source": [
    "df_complete[['loan_amnt','expected_total_pymnt','expected_return']]"
   ]
  },
  {
   "cell_type": "code",
   "execution_count": null,
   "metadata": {},
   "outputs": [],
   "source": []
  },
  {
   "cell_type": "code",
   "execution_count": 60,
   "metadata": {
    "scrolled": false
   },
   "outputs": [
    {
     "data": {
      "text/html": [
       "<div>\n",
       "<style scoped>\n",
       "    .dataframe tbody tr th:only-of-type {\n",
       "        vertical-align: middle;\n",
       "    }\n",
       "\n",
       "    .dataframe tbody tr th {\n",
       "        vertical-align: top;\n",
       "    }\n",
       "\n",
       "    .dataframe thead th {\n",
       "        text-align: right;\n",
       "    }\n",
       "</style>\n",
       "<table border=\"1\" class=\"dataframe\">\n",
       "  <thead>\n",
       "    <tr style=\"text-align: right;\">\n",
       "      <th></th>\n",
       "      <th>loan_amnt</th>\n",
       "      <th>term</th>\n",
       "      <th>int_rate</th>\n",
       "      <th>installment</th>\n",
       "      <th>last_pymnt_amnt</th>\n",
       "      <th>total_pymnt</th>\n",
       "      <th>total_pymnt_inv</th>\n",
       "      <th>expected_total_pymnt</th>\n",
       "      <th>expected_return</th>\n",
       "      <th>total_rec_late_fee</th>\n",
       "    </tr>\n",
       "  </thead>\n",
       "  <tbody>\n",
       "    <tr>\n",
       "      <th>501181</th>\n",
       "      <td>6000</td>\n",
       "      <td>36</td>\n",
       "      <td>6.00</td>\n",
       "      <td>186.91</td>\n",
       "      <td>2029.03</td>\n",
       "      <td>6866.966397</td>\n",
       "      <td>6866.97</td>\n",
       "      <td>6571.138490</td>\n",
       "      <td>6728.76</td>\n",
       "      <td>0.0</td>\n",
       "    </tr>\n",
       "    <tr>\n",
       "      <th>513265</th>\n",
       "      <td>10000</td>\n",
       "      <td>36</td>\n",
       "      <td>6.00</td>\n",
       "      <td>308.81</td>\n",
       "      <td>4765.34</td>\n",
       "      <td>11241.998480</td>\n",
       "      <td>11242.00</td>\n",
       "      <td>10951.897483</td>\n",
       "      <td>11117.16</td>\n",
       "      <td>0.0</td>\n",
       "    </tr>\n",
       "    <tr>\n",
       "      <th>517391</th>\n",
       "      <td>2800</td>\n",
       "      <td>36</td>\n",
       "      <td>8.99</td>\n",
       "      <td>89.03</td>\n",
       "      <td>832.53</td>\n",
       "      <td>3216.176675</td>\n",
       "      <td>3216.18</td>\n",
       "      <td>3204.943937</td>\n",
       "      <td>3205.08</td>\n",
       "      <td>0.0</td>\n",
       "    </tr>\n",
       "    <tr>\n",
       "      <th>520332</th>\n",
       "      <td>12000</td>\n",
       "      <td>36</td>\n",
       "      <td>13.99</td>\n",
       "      <td>410.08</td>\n",
       "      <td>3583.03</td>\n",
       "      <td>14807.443121</td>\n",
       "      <td>14807.44</td>\n",
       "      <td>14762.637958</td>\n",
       "      <td>14762.88</td>\n",
       "      <td>143.5</td>\n",
       "    </tr>\n",
       "    <tr>\n",
       "      <th>522024</th>\n",
       "      <td>19200</td>\n",
       "      <td>36</td>\n",
       "      <td>11.49</td>\n",
       "      <td>633.05</td>\n",
       "      <td>6155.12</td>\n",
       "      <td>22802.225021</td>\n",
       "      <td>22802.23</td>\n",
       "      <td>22789.728486</td>\n",
       "      <td>22789.80</td>\n",
       "      <td>126.6</td>\n",
       "    </tr>\n",
       "    <tr>\n",
       "      <th>...</th>\n",
       "      <td>...</td>\n",
       "      <td>...</td>\n",
       "      <td>...</td>\n",
       "      <td>...</td>\n",
       "      <td>...</td>\n",
       "      <td>...</td>\n",
       "      <td>...</td>\n",
       "      <td>...</td>\n",
       "      <td>...</td>\n",
       "      <td>...</td>\n",
       "    </tr>\n",
       "    <tr>\n",
       "      <th>2139259</th>\n",
       "      <td>5000</td>\n",
       "      <td>36</td>\n",
       "      <td>7.43</td>\n",
       "      <td>155.38</td>\n",
       "      <td>157.02</td>\n",
       "      <td>5593.631701</td>\n",
       "      <td>279.69</td>\n",
       "      <td>5593.334289</td>\n",
       "      <td>5593.68</td>\n",
       "      <td>0.0</td>\n",
       "    </tr>\n",
       "    <tr>\n",
       "      <th>2139262</th>\n",
       "      <td>5000</td>\n",
       "      <td>36</td>\n",
       "      <td>9.96</td>\n",
       "      <td>161.25</td>\n",
       "      <td>162.07</td>\n",
       "      <td>5804.732505</td>\n",
       "      <td>435.36</td>\n",
       "      <td>5804.713923</td>\n",
       "      <td>5805.00</td>\n",
       "      <td>0.0</td>\n",
       "    </tr>\n",
       "    <tr>\n",
       "      <th>2139263</th>\n",
       "      <td>5000</td>\n",
       "      <td>36</td>\n",
       "      <td>11.22</td>\n",
       "      <td>164.23</td>\n",
       "      <td>165.17</td>\n",
       "      <td>5912.052998</td>\n",
       "      <td>798.13</td>\n",
       "      <td>5911.739888</td>\n",
       "      <td>5912.28</td>\n",
       "      <td>0.0</td>\n",
       "    </tr>\n",
       "    <tr>\n",
       "      <th>2139264</th>\n",
       "      <td>5000</td>\n",
       "      <td>36</td>\n",
       "      <td>7.43</td>\n",
       "      <td>155.38</td>\n",
       "      <td>156.29</td>\n",
       "      <td>5593.626092</td>\n",
       "      <td>279.68</td>\n",
       "      <td>5593.334289</td>\n",
       "      <td>5593.68</td>\n",
       "      <td>0.0</td>\n",
       "    </tr>\n",
       "    <tr>\n",
       "      <th>2139270</th>\n",
       "      <td>7500</td>\n",
       "      <td>36</td>\n",
       "      <td>13.75</td>\n",
       "      <td>255.43</td>\n",
       "      <td>256.59</td>\n",
       "      <td>9195.263334</td>\n",
       "      <td>980.83</td>\n",
       "      <td>9195.209848</td>\n",
       "      <td>9195.48</td>\n",
       "      <td>0.0</td>\n",
       "    </tr>\n",
       "  </tbody>\n",
       "</table>\n",
       "<p>52543 rows × 10 columns</p>\n",
       "</div>"
      ],
      "text/plain": [
       "         loan_amnt  term  int_rate  installment  last_pymnt_amnt  \\\n",
       "501181        6000    36      6.00       186.91          2029.03   \n",
       "513265       10000    36      6.00       308.81          4765.34   \n",
       "517391        2800    36      8.99        89.03           832.53   \n",
       "520332       12000    36     13.99       410.08          3583.03   \n",
       "522024       19200    36     11.49       633.05          6155.12   \n",
       "...            ...   ...       ...          ...              ...   \n",
       "2139259       5000    36      7.43       155.38           157.02   \n",
       "2139262       5000    36      9.96       161.25           162.07   \n",
       "2139263       5000    36     11.22       164.23           165.17   \n",
       "2139264       5000    36      7.43       155.38           156.29   \n",
       "2139270       7500    36     13.75       255.43           256.59   \n",
       "\n",
       "          total_pymnt  total_pymnt_inv  expected_total_pymnt  expected_return  \\\n",
       "501181    6866.966397          6866.97           6571.138490          6728.76   \n",
       "513265   11241.998480         11242.00          10951.897483         11117.16   \n",
       "517391    3216.176675          3216.18           3204.943937          3205.08   \n",
       "520332   14807.443121         14807.44          14762.637958         14762.88   \n",
       "522024   22802.225021         22802.23          22789.728486         22789.80   \n",
       "...               ...              ...                   ...              ...   \n",
       "2139259   5593.631701           279.69           5593.334289          5593.68   \n",
       "2139262   5804.732505           435.36           5804.713923          5805.00   \n",
       "2139263   5912.052998           798.13           5911.739888          5912.28   \n",
       "2139264   5593.626092           279.68           5593.334289          5593.68   \n",
       "2139270   9195.263334           980.83           9195.209848          9195.48   \n",
       "\n",
       "         total_rec_late_fee  \n",
       "501181                  0.0  \n",
       "513265                  0.0  \n",
       "517391                  0.0  \n",
       "520332                143.5  \n",
       "522024                126.6  \n",
       "...                     ...  \n",
       "2139259                 0.0  \n",
       "2139262                 0.0  \n",
       "2139263                 0.0  \n",
       "2139264                 0.0  \n",
       "2139270                 0.0  \n",
       "\n",
       "[52543 rows x 10 columns]"
      ]
     },
     "execution_count": 60,
     "metadata": {},
     "output_type": "execute_result"
    }
   ],
   "source": [
    "df_complete.loc[df_complete['expected_total_pymnt']-df_complete['total_pymnt']<0][['loan_amnt','term','int_rate','installment','last_pymnt_amnt','total_pymnt','total_pymnt_inv','expected_total_pymnt','expected_return','total_rec_late_fee']]"
   ]
  },
  {
   "cell_type": "markdown",
   "metadata": {},
   "source": [
    "Some discrepancies between the two calculation methods - possibly due to changing installment amount after borrowers make larger than expected repayments?"
   ]
  },
  {
   "cell_type": "code",
   "execution_count": 61,
   "metadata": {},
   "outputs": [
    {
     "data": {
      "text/plain": [
       "count    1.280370e+06\n",
       "mean     3.833869e+03\n",
       "std      7.080753e+03\n",
       "min     -1.062474e+04\n",
       "25%      9.663064e+01\n",
       "50%      8.146332e+02\n",
       "75%      3.998984e+03\n",
       "max      7.640615e+04\n",
       "dtype: float64"
      ]
     },
     "execution_count": 61,
     "metadata": {},
     "output_type": "execute_result"
    }
   ],
   "source": [
    "(df_complete['expected_total_pymnt']-df_complete['total_pymnt']).describe()"
   ]
  },
  {
   "cell_type": "code",
   "execution_count": 334,
   "metadata": {
    "scrolled": false
   },
   "outputs": [
    {
     "data": {
      "image/png": "[encoded data removed]",
      "text/plain": [
       "<Figure size 288x576 with 1 Axes>"
      ]
     },
     "metadata": {
      "needs_background": "light"
     },
     "output_type": "display_data"
    }
   ],
   "source": [
    "plt.figure(figsize=(4,8))\n",
    "plt.boxplot(((df_complete['total_pymnt']-df_complete['loan_amnt'])/(df_complete['loan_amnt']))*100,\n",
    "            showmeans=True, meanprops=dict(marker='D', markeredgecolor='black',markerfacecolor='firebrick'),\n",
    "            flierprops=dict(markersize=2,marker='_',alpha=0.3),\n",
    "            boxprops=dict(linewidth=2),\n",
    "            medianprops=dict(linewidth=2,color='g'),\n",
    "            whiskerprops=dict(linewidth=2,),\n",
    "            capprops=dict(linewidth=2,),\n",
    "            widths=0.6\n",
    "           )\n",
    "plt.axhline(0,color='red',linewidth=0.6,label='Breakeven',linestyle='--')\n",
    "plt.axhline(101,color='g',label='median '+str(round(((df_complete['total_pymnt']-df_complete['loan_amnt'])/(df_complete['loan_amnt'])).median()*100,2))+'%')\n",
    "plt.axhline(101,color='firebrick',label='mean '+str(round(((df_complete['total_pymnt']-df_complete['loan_amnt'])/(df_complete['loan_amnt'])).mean()*100,2))+'%')\n",
    "plt.ylim([-100,100])\n",
    "plt.legend(loc='upper left')\n",
    "plt.show()"
   ]
  },
  {
   "cell_type": "code",
   "execution_count": 343,
   "metadata": {},
   "outputs": [
    {
     "data": {
      "image/png": "[encoded data removed]",
      "text/plain": [
       "<Figure size 432x288 with 1 Axes>"
      ]
     },
     "metadata": {
      "needs_background": "light"
     },
     "output_type": "display_data"
    }
   ],
   "source": [
    "plt.hist(((df_complete['total_pymnt']-df_complete['loan_amnt'])/(df_complete['loan_amnt']))*100,alpha=0.6,bins=20,density=True)\n",
    "plt.axvline(0,color='red',linewidth=0.6,label='Breakeven',linestyle='--')\n",
    "plt.axvline(((df_complete['total_pymnt']-df_complete['loan_amnt'])/(df_complete['loan_amnt'])).median()*100,color='g',label='median '+str(round(((df_complete['total_pymnt']-df_complete['loan_amnt'])/(df_complete['loan_amnt'])).median()*100,2))+'%')\n",
    "plt.axvline(((df_complete['total_pymnt']-df_complete['loan_amnt'])/(df_complete['loan_amnt'])).mean()*100,color='firebrick',label='mean '+str(round(((df_complete['total_pymnt']-df_complete['loan_amnt'])/(df_complete['loan_amnt'])).mean()*100,2))+'%')\n",
    "plt.xlim([-100,100])\n",
    "plt.legend()\n",
    "plt.xlabel('% Return on Investment')\n",
    "plt.ylabel('Density')\n",
    "plt.title('% Return Profit/Loss')\n",
    "plt.show()"
   ]
  },
  {
   "cell_type": "code",
   "execution_count": 294,
   "metadata": {},
   "outputs": [
    {
     "data": {
      "text/plain": [
       "0.1132440817327722"
      ]
     },
     "execution_count": 294,
     "metadata": {},
     "output_type": "execute_result"
    }
   ],
   "source": [
    "((df_complete['total_pymnt']-df_complete['loan_amnt'])/(df_complete['loan_amnt'])).median()"
   ]
  },
  {
   "cell_type": "code",
   "execution_count": 346,
   "metadata": {},
   "outputs": [
    {
     "data": {
      "text/html": [
       "<div>\n",
       "<style scoped>\n",
       "    .dataframe tbody tr th:only-of-type {\n",
       "        vertical-align: middle;\n",
       "    }\n",
       "\n",
       "    .dataframe tbody tr th {\n",
       "        vertical-align: top;\n",
       "    }\n",
       "\n",
       "    .dataframe thead th {\n",
       "        text-align: right;\n",
       "    }\n",
       "</style>\n",
       "<table border=\"1\" class=\"dataframe\">\n",
       "  <thead>\n",
       "    <tr style=\"text-align: right;\">\n",
       "      <th></th>\n",
       "      <th>count</th>\n",
       "      <th>mean</th>\n",
       "      <th>std</th>\n",
       "      <th>min</th>\n",
       "      <th>25%</th>\n",
       "      <th>50%</th>\n",
       "      <th>75%</th>\n",
       "      <th>max</th>\n",
       "    </tr>\n",
       "    <tr>\n",
       "      <th>grade</th>\n",
       "      <th></th>\n",
       "      <th></th>\n",
       "      <th></th>\n",
       "      <th></th>\n",
       "      <th></th>\n",
       "      <th></th>\n",
       "      <th></th>\n",
       "      <th></th>\n",
       "    </tr>\n",
       "  </thead>\n",
       "  <tbody>\n",
       "    <tr>\n",
       "      <th>A</th>\n",
       "      <td>223254.0</td>\n",
       "      <td>7.125279</td>\n",
       "      <td>0.998421</td>\n",
       "      <td>5.31</td>\n",
       "      <td>6.49</td>\n",
       "      <td>7.26</td>\n",
       "      <td>7.89</td>\n",
       "      <td>9.63</td>\n",
       "    </tr>\n",
       "    <tr>\n",
       "      <th>B</th>\n",
       "      <td>374464.0</td>\n",
       "      <td>10.689944</td>\n",
       "      <td>1.356377</td>\n",
       "      <td>6.00</td>\n",
       "      <td>9.71</td>\n",
       "      <td>10.91</td>\n",
       "      <td>11.53</td>\n",
       "      <td>14.09</td>\n",
       "    </tr>\n",
       "    <tr>\n",
       "      <th>C</th>\n",
       "      <td>362409.0</td>\n",
       "      <td>14.015066</td>\n",
       "      <td>1.229691</td>\n",
       "      <td>6.00</td>\n",
       "      <td>12.99</td>\n",
       "      <td>13.99</td>\n",
       "      <td>14.99</td>\n",
       "      <td>17.27</td>\n",
       "    </tr>\n",
       "    <tr>\n",
       "      <th>D</th>\n",
       "      <td>191021.0</td>\n",
       "      <td>17.673970</td>\n",
       "      <td>1.493273</td>\n",
       "      <td>6.00</td>\n",
       "      <td>16.55</td>\n",
       "      <td>17.57</td>\n",
       "      <td>18.55</td>\n",
       "      <td>22.35</td>\n",
       "    </tr>\n",
       "    <tr>\n",
       "      <th>E</th>\n",
       "      <td>89734.0</td>\n",
       "      <td>21.038736</td>\n",
       "      <td>2.300536</td>\n",
       "      <td>6.00</td>\n",
       "      <td>19.19</td>\n",
       "      <td>20.75</td>\n",
       "      <td>22.40</td>\n",
       "      <td>27.27</td>\n",
       "    </tr>\n",
       "    <tr>\n",
       "      <th>F</th>\n",
       "      <td>30838.0</td>\n",
       "      <td>24.818224</td>\n",
       "      <td>2.503629</td>\n",
       "      <td>6.00</td>\n",
       "      <td>23.28</td>\n",
       "      <td>24.11</td>\n",
       "      <td>25.69</td>\n",
       "      <td>30.75</td>\n",
       "    </tr>\n",
       "    <tr>\n",
       "      <th>G</th>\n",
       "      <td>8650.0</td>\n",
       "      <td>27.588175</td>\n",
       "      <td>2.524913</td>\n",
       "      <td>6.00</td>\n",
       "      <td>25.83</td>\n",
       "      <td>27.31</td>\n",
       "      <td>30.79</td>\n",
       "      <td>30.99</td>\n",
       "    </tr>\n",
       "  </tbody>\n",
       "</table>\n",
       "</div>"
      ],
      "text/plain": [
       "          count       mean       std   min    25%    50%    75%    max\n",
       "grade                                                                 \n",
       "A      223254.0   7.125279  0.998421  5.31   6.49   7.26   7.89   9.63\n",
       "B      374464.0  10.689944  1.356377  6.00   9.71  10.91  11.53  14.09\n",
       "C      362409.0  14.015066  1.229691  6.00  12.99  13.99  14.99  17.27\n",
       "D      191021.0  17.673970  1.493273  6.00  16.55  17.57  18.55  22.35\n",
       "E       89734.0  21.038736  2.300536  6.00  19.19  20.75  22.40  27.27\n",
       "F       30838.0  24.818224  2.503629  6.00  23.28  24.11  25.69  30.75\n",
       "G        8650.0  27.588175  2.524913  6.00  25.83  27.31  30.79  30.99"
      ]
     },
     "execution_count": 346,
     "metadata": {},
     "output_type": "execute_result"
    }
   ],
   "source": [
    "df_complete.groupby('grade')['int_rate'].describe()"
   ]
  },
  {
   "cell_type": "code",
   "execution_count": 347,
   "metadata": {},
   "outputs": [
    {
     "data": {
      "text/plain": [
       "{'whiskers': [<matplotlib.lines.Line2D at 0xd69adef0>,\n",
       "  <matplotlib.lines.Line2D at 0xd265bf28>,\n",
       "  <matplotlib.lines.Line2D at 0xd3e82438>,\n",
       "  <matplotlib.lines.Line2D at 0xd3e82630>,\n",
       "  <matplotlib.lines.Line2D at 0xd73062e8>,\n",
       "  <matplotlib.lines.Line2D at 0xd3f84f60>,\n",
       "  <matplotlib.lines.Line2D at 0xd7337710>,\n",
       "  <matplotlib.lines.Line2D at 0xd67c6588>,\n",
       "  <matplotlib.lines.Line2D at 0xd923d9e8>,\n",
       "  <matplotlib.lines.Line2D at 0xd923d6a0>,\n",
       "  <matplotlib.lines.Line2D at 0xd732d828>,\n",
       "  <matplotlib.lines.Line2D at 0xd732d390>,\n",
       "  <matplotlib.lines.Line2D at 0xd67986a0>,\n",
       "  <matplotlib.lines.Line2D at 0xd67985c0>],\n",
       " 'caps': [<matplotlib.lines.Line2D at 0xd69bee10>,\n",
       "  <matplotlib.lines.Line2D at 0xd69beda0>,\n",
       "  <matplotlib.lines.Line2D at 0xd6210470>,\n",
       "  <matplotlib.lines.Line2D at 0xd27846d8>,\n",
       "  <matplotlib.lines.Line2D at 0xd91f9e10>,\n",
       "  <matplotlib.lines.Line2D at 0xd6130c18>,\n",
       "  <matplotlib.lines.Line2D at 0xd67c6e10>,\n",
       "  <matplotlib.lines.Line2D at 0xd67c6198>,\n",
       "  <matplotlib.lines.Line2D at 0xd923d320>,\n",
       "  <matplotlib.lines.Line2D at 0xd923d1d0>,\n",
       "  <matplotlib.lines.Line2D at 0xd7319f98>,\n",
       "  <matplotlib.lines.Line2D at 0xd7319438>,\n",
       "  <matplotlib.lines.Line2D at 0xd6798748>,\n",
       "  <matplotlib.lines.Line2D at 0xd6791d68>],\n",
       " 'boxes': [<matplotlib.lines.Line2D at 0xd39316d8>,\n",
       "  <matplotlib.lines.Line2D at 0xd3e82fd0>,\n",
       "  <matplotlib.lines.Line2D at 0xd73064a8>,\n",
       "  <matplotlib.lines.Line2D at 0xd7337fd0>,\n",
       "  <matplotlib.lines.Line2D at 0xd68586d8>,\n",
       "  <matplotlib.lines.Line2D at 0xd732d278>,\n",
       "  <matplotlib.lines.Line2D at 0xd6798eb8>],\n",
       " 'medians': [<matplotlib.lines.Line2D at 0xcd3d2278>,\n",
       "  <matplotlib.lines.Line2D at 0xd7306908>,\n",
       "  <matplotlib.lines.Line2D at 0xd67b73c8>,\n",
       "  <matplotlib.lines.Line2D at 0xd67c65c0>,\n",
       "  <matplotlib.lines.Line2D at 0xd732d630>,\n",
       "  <matplotlib.lines.Line2D at 0xd7319358>,\n",
       "  <matplotlib.lines.Line2D at 0xd6791c88>],\n",
       " 'fliers': [<matplotlib.lines.Line2D at 0xd3e82048>,\n",
       "  <matplotlib.lines.Line2D at 0xd7306978>,\n",
       "  <matplotlib.lines.Line2D at 0xd7337e80>,\n",
       "  <matplotlib.lines.Line2D at 0xd5d66a20>,\n",
       "  <matplotlib.lines.Line2D at 0xd732df28>,\n",
       "  <matplotlib.lines.Line2D at 0xd67981d0>,\n",
       "  <matplotlib.lines.Line2D at 0xd67915f8>],\n",
       " 'means': []}"
      ]
     },
     "execution_count": 347,
     "metadata": {},
     "output_type": "execute_result"
    },
    {
     "data": {
      "image/png": "[encoded data removed]",
      "text/plain": [
       "<Figure size 432x288 with 1 Axes>"
      ]
     },
     "metadata": {
      "needs_background": "light"
     },
     "output_type": "display_data"
    }
   ],
   "source": [
    "plt.boxplot([df_complete.loc[df_complete['grade']=='A']['int_rate'],\n",
    "             df_complete.loc[df_complete['grade']=='B']['int_rate'],\n",
    "             df_complete.loc[df_complete['grade']=='C']['int_rate'],\n",
    "             df_complete.loc[df_complete['grade']=='D']['int_rate'],\n",
    "             df_complete.loc[df_complete['grade']=='E']['int_rate'],\n",
    "             df_complete.loc[df_complete['grade']=='F']['int_rate'],\n",
    "             df_complete.loc[df_complete['grade']=='G']['int_rate']],\n",
    "             )\n",
    "plt.show()    "
   ]
  },
  {
   "cell_type": "code",
   "execution_count": null,
   "metadata": {},
   "outputs": [],
   "source": []
  },
  {
   "cell_type": "code",
   "execution_count": 303,
   "metadata": {
    "scrolled": true
   },
   "outputs": [
    {
     "data": {
      "text/plain": [
       "<BarContainer object of 7 artists>"
      ]
     },
     "execution_count": 303,
     "metadata": {},
     "output_type": "execute_result"
    },
    {
     "data": {
      "image/png": "[encoded data removed]",
      "text/plain": [
       "<Figure size 432x288 with 1 Axes>"
      ]
     },
     "metadata": {
      "needs_background": "light"
     },
     "output_type": "display_data"
    }
   ],
   "source": [
    "plt.bar(df_complete['grade'].value_counts().sort_index().index,df_complete['grade'].value_counts().sort_index().values)"
   ]
  },
  {
   "cell_type": "code",
   "execution_count": null,
   "metadata": {},
   "outputs": [],
   "source": []
  },
  {
   "cell_type": "code",
   "execution_count": null,
   "metadata": {},
   "outputs": [],
   "source": []
  },
  {
   "cell_type": "code",
   "execution_count": 64,
   "metadata": {},
   "outputs": [
    {
     "data": {
      "text/plain": [
       "['A', 'B', 'C', 'D', 'E', 'F', 'G']"
      ]
     },
     "execution_count": 64,
     "metadata": {},
     "output_type": "execute_result"
    }
   ],
   "source": [
    "sorted(df_complete['grade'].unique())"
   ]
  },
  {
   "cell_type": "code",
   "execution_count": 65,
   "metadata": {},
   "outputs": [
    {
     "data": {
      "image/png": "[encoded data removed]",
      "text/plain": [
       "<Figure size 864x576 with 1 Axes>"
      ]
     },
     "metadata": {
      "needs_background": "light"
     },
     "output_type": "display_data"
    }
   ],
   "source": [
    "#deviation from expected return by grade\n",
    "plt.figure(figsize=(12,8))\n",
    "\n",
    "plt.boxplot([df_complete.loc[df_complete['grade']=='A']['total_pymnt']-df_complete.loc[df_complete['grade']=='A']['expected_total_pymnt'],\n",
    "            df_complete.loc[df_complete['grade']=='B']['total_pymnt']-df_complete.loc[df_complete['grade']=='B']['expected_total_pymnt'],\n",
    "            df_complete.loc[df_complete['grade']=='C']['total_pymnt']-df_complete.loc[df_complete['grade']=='C']['expected_total_pymnt'],\n",
    "            df_complete.loc[df_complete['grade']=='D']['total_pymnt']-df_complete.loc[df_complete['grade']=='D']['expected_total_pymnt'],\n",
    "            df_complete.loc[df_complete['grade']=='E']['total_pymnt']-df_complete.loc[df_complete['grade']=='E']['expected_total_pymnt'],\n",
    "            df_complete.loc[df_complete['grade']=='F']['total_pymnt']-df_complete.loc[df_complete['grade']=='F']['expected_total_pymnt'],\n",
    "            df_complete.loc[df_complete['grade']=='G']['total_pymnt']-df_complete.loc[df_complete['grade']=='G']['expected_total_pymnt']],\n",
    "            showmeans=True,meanprops=dict(marker='D', markeredgecolor='black',markerfacecolor='firebrick'),\n",
    "            showfliers=False\n",
    "           )\n",
    "plt.xticks([1,2,3,4,5,6,7],['A', 'B', 'C', 'D', 'E', 'F', 'G'])\n",
    "plt.axhline(0,color='red',linewidth=0.6,label='Expectation')\n",
    "plt.legend(loc ='upper left')\n",
    "plt.title('Expected Vs Actual Profit/Loss in $')\n",
    "plt.show()"
   ]
  },
  {
   "cell_type": "code",
   "execution_count": 89,
   "metadata": {},
   "outputs": [
    {
     "data": {
      "image/png": "[encoded data removed]",
      "text/plain": [
       "<Figure size 1008x648 with 1 Axes>"
      ]
     },
     "metadata": {
      "needs_background": "light"
     },
     "output_type": "display_data"
    }
   ],
   "source": [
    "#actual loss or profit by grade\n",
    "plt.figure(figsize=(14,9))\n",
    "plt.boxplot([df_complete.loc[df_complete['grade']=='A']['total_pymnt']-df_complete.loc[df_complete['grade']=='A']['loan_amnt'],\n",
    "            df_complete.loc[df_complete['grade']=='B']['total_pymnt']-df_complete.loc[df_complete['grade']=='B']['loan_amnt'],\n",
    "            df_complete.loc[df_complete['grade']=='C']['total_pymnt']-df_complete.loc[df_complete['grade']=='C']['loan_amnt'],\n",
    "            df_complete.loc[df_complete['grade']=='D']['total_pymnt']-df_complete.loc[df_complete['grade']=='D']['loan_amnt'],\n",
    "            df_complete.loc[df_complete['grade']=='E']['total_pymnt']-df_complete.loc[df_complete['grade']=='E']['loan_amnt'],\n",
    "            df_complete.loc[df_complete['grade']=='F']['total_pymnt']-df_complete.loc[df_complete['grade']=='F']['loan_amnt'],\n",
    "            df_complete.loc[df_complete['grade']=='G']['total_pymnt']-df_complete.loc[df_complete['grade']=='G']['loan_amnt']],\n",
    "            showmeans=True,meanprops=dict(marker='D', markeredgecolor='black',markerfacecolor='firebrick'),\n",
    "#             showfliers=False\n",
    "            flierprops=dict(markersize=2,marker='_',alpha=0.3),\n",
    "            boxprops=dict(linewidth=2),\n",
    "            medianprops=dict(linewidth=2,color='g')\n",
    "           )\n",
    "plt.xticks([1,2,3,4,5,6,7],['A', 'B', 'C', 'D', 'E', 'F', 'G'])\n",
    "plt.axhline(0,color='red',linewidth=1, linestyle='--',label='Breakeven')\n",
    "plt.legend(loc ='upper left')\n",
    "plt.title('Actual Profit/Loss by Grade in $')\n",
    "plt.show()"
   ]
  },
  {
   "cell_type": "code",
   "execution_count": 90,
   "metadata": {},
   "outputs": [
    {
     "data": {
      "image/png": "[encoded data removed]",
      "text/plain": [
       "<Figure size 1008x648 with 1 Axes>"
      ]
     },
     "metadata": {
      "needs_background": "light"
     },
     "output_type": "display_data"
    }
   ],
   "source": [
    "#actual loss or profit by grade as a % of loan amount\n",
    "plt.figure(figsize=(14,9))\n",
    "plt.boxplot([(df_complete.loc[df_complete['grade']=='A']['total_pymnt']-df_complete.loc[df_complete['grade']=='A']['loan_amnt'])/df_complete.loc[df_complete['grade']=='A']['loan_amnt'],\n",
    "            (df_complete.loc[df_complete['grade']=='B']['total_pymnt']-df_complete.loc[df_complete['grade']=='B']['loan_amnt'])/df_complete.loc[df_complete['grade']=='B']['loan_amnt'],\n",
    "            (df_complete.loc[df_complete['grade']=='C']['total_pymnt']-df_complete.loc[df_complete['grade']=='C']['loan_amnt'])/df_complete.loc[df_complete['grade']=='C']['loan_amnt'],\n",
    "            (df_complete.loc[df_complete['grade']=='D']['total_pymnt']-df_complete.loc[df_complete['grade']=='D']['loan_amnt'])/df_complete.loc[df_complete['grade']=='D']['loan_amnt'],\n",
    "            (df_complete.loc[df_complete['grade']=='E']['total_pymnt']-df_complete.loc[df_complete['grade']=='E']['loan_amnt'])/df_complete.loc[df_complete['grade']=='E']['loan_amnt'],\n",
    "            (df_complete.loc[df_complete['grade']=='F']['total_pymnt']-df_complete.loc[df_complete['grade']=='F']['loan_amnt'])/df_complete.loc[df_complete['grade']=='F']['loan_amnt'],\n",
    "            (df_complete.loc[df_complete['grade']=='G']['total_pymnt']-df_complete.loc[df_complete['grade']=='G']['loan_amnt'])/df_complete.loc[df_complete['grade']=='G']['loan_amnt']],\n",
    "            showmeans=True, meanprops=dict(marker='D', markeredgecolor='black',markerfacecolor='firebrick'),\n",
    "#             showfliers=False\n",
    "            flierprops=dict(markersize=2,marker='_',alpha=0.3),\n",
    "            boxprops=dict(linewidth=2),\n",
    "            medianprops=dict(linewidth=2,color='g')\n",
    "           )\n",
    "plt.xticks([1,2,3,4,5,6,7],['A', 'B', 'C', 'D', 'E', 'F', 'G'])\n",
    "plt.axhline(0,color='red',linewidth=0.6,label='Breakeven')\n",
    "plt.legend(loc ='upper left')\n",
    "plt.title('% Return Profit/Loss by Grade')\n",
    "plt.show()"
   ]
  },
  {
   "cell_type": "code",
   "execution_count": null,
   "metadata": {},
   "outputs": [],
   "source": []
  },
  {
   "cell_type": "code",
   "execution_count": null,
   "metadata": {},
   "outputs": [],
   "source": []
  },
  {
   "cell_type": "code",
   "execution_count": null,
   "metadata": {},
   "outputs": [],
   "source": []
  },
  {
   "cell_type": "code",
   "execution_count": null,
   "metadata": {},
   "outputs": [],
   "source": []
  },
  {
   "cell_type": "code",
   "execution_count": 128,
   "metadata": {},
   "outputs": [],
   "source": [
    "# fig1=go.Figure()\n",
    "# for i in ['A', 'B', 'C', 'D', 'E', 'F', 'G']:\n",
    "#     fig1.add_trace(go.Box(y=(df_complete.loc[df_complete['grade']==i]['total_pymnt']-df_complete.loc[df_complete['grade']==i]['loan_amnt'])/df_complete.loc[df_complete['grade']==i]['loan_amnt'],\n",
    "#                          name= 'Grade '+i,\n",
    "#                          boxpoints='suspectedoutliers',\n",
    "#                          marker=dict(opacity=0.05,size=0.5),\n",
    "#                          boxmean=True))\n",
    "# fig1.update_layout(title='% Return Profit/Loss by Grade',\n",
    "#                    title_x=0.5,xaxis_title='Loan Grade',\n",
    "#                    yaxis=dict(title='Return % of loan',showgrid=True))\n",
    "# fig1.show()"
   ]
  },
  {
   "cell_type": "code",
   "execution_count": null,
   "metadata": {},
   "outputs": [],
   "source": []
  },
  {
   "cell_type": "code",
   "execution_count": null,
   "metadata": {},
   "outputs": [],
   "source": []
  },
  {
   "cell_type": "code",
   "execution_count": null,
   "metadata": {},
   "outputs": [],
   "source": []
  },
  {
   "cell_type": "code",
   "execution_count": 91,
   "metadata": {},
   "outputs": [],
   "source": [
    "df_complete36=df_complete.loc[df_complete['term']==36]\n",
    "df_complete60=df_complete.loc[df_complete['term']==60]"
   ]
  },
  {
   "cell_type": "code",
   "execution_count": 237,
   "metadata": {},
   "outputs": [
    {
     "data": {
      "image/png": "[encoded data removed]",
      "text/plain": [
       "<Figure size 1152x576 with 1 Axes>"
      ]
     },
     "metadata": {
      "needs_background": "light"
     },
     "output_type": "display_data"
    }
   ],
   "source": [
    "#actual loss or profit by grade as a % of loan amount for 36 month loans\n",
    "plt.figure(figsize=(16,8))\n",
    "plt.boxplot([(df_complete36.loc[df_complete36['grade']=='A']['total_pymnt']-df_complete36.loc[df_complete36['grade']=='A']['loan_amnt'])*100/df_complete36.loc[df_complete36['grade']=='A']['loan_amnt'],\n",
    "            (df_complete36.loc[df_complete36['grade']=='B']['total_pymnt']-df_complete36.loc[df_complete36['grade']=='B']['loan_amnt'])*100/df_complete36.loc[df_complete36['grade']=='B']['loan_amnt'],\n",
    "            (df_complete36.loc[df_complete36['grade']=='C']['total_pymnt']-df_complete36.loc[df_complete36['grade']=='C']['loan_amnt'])*100/df_complete36.loc[df_complete36['grade']=='C']['loan_amnt'],\n",
    "            (df_complete36.loc[df_complete36['grade']=='D']['total_pymnt']-df_complete36.loc[df_complete36['grade']=='D']['loan_amnt'])*100/df_complete36.loc[df_complete36['grade']=='D']['loan_amnt'],\n",
    "            (df_complete36.loc[df_complete36['grade']=='E']['total_pymnt']-df_complete36.loc[df_complete36['grade']=='E']['loan_amnt'])*100/df_complete36.loc[df_complete36['grade']=='E']['loan_amnt'],\n",
    "            (df_complete36.loc[df_complete36['grade']=='F']['total_pymnt']-df_complete36.loc[df_complete36['grade']=='F']['loan_amnt'])*100/df_complete36.loc[df_complete36['grade']=='F']['loan_amnt'],\n",
    "            (df_complete36.loc[df_complete36['grade']=='G']['total_pymnt']-df_complete36.loc[df_complete36['grade']=='G']['loan_amnt'])*100/df_complete36.loc[df_complete36['grade']=='G']['loan_amnt']],\n",
    "            showmeans=True, meanprops=dict(marker='D', markeredgecolor='black',markerfacecolor='firebrick'),\n",
    "            flierprops=dict(markersize=2,marker='_',alpha=0.3),\n",
    "            boxprops=dict(linewidth=2,color='aquamarine'),\n",
    "            medianprops=dict(linewidth=2,color='g'),\n",
    "            whiskerprops=dict(linewidth=2,color='aquamarine'),\n",
    "            capprops=dict(linewidth=2,color='aquamarine'),\n",
    "            positions=[1,4,7,10,13,16,19],\n",
    "            widths=0.6,\n",
    "           )\n",
    "\n",
    "plt.boxplot([(df_complete60.loc[df_complete60['grade']=='A']['total_pymnt']-df_complete60.loc[df_complete60['grade']=='A']['loan_amnt'])*100/df_complete60.loc[df_complete60['grade']=='A']['loan_amnt'],\n",
    "            (df_complete60.loc[df_complete60['grade']=='B']['total_pymnt']-df_complete60.loc[df_complete60['grade']=='B']['loan_amnt'])*100/df_complete60.loc[df_complete60['grade']=='B']['loan_amnt'],\n",
    "            (df_complete60.loc[df_complete60['grade']=='C']['total_pymnt']-df_complete60.loc[df_complete60['grade']=='C']['loan_amnt'])*100/df_complete60.loc[df_complete60['grade']=='C']['loan_amnt'],\n",
    "            (df_complete60.loc[df_complete60['grade']=='D']['total_pymnt']-df_complete60.loc[df_complete60['grade']=='D']['loan_amnt'])*100/df_complete60.loc[df_complete60['grade']=='D']['loan_amnt'],\n",
    "            (df_complete60.loc[df_complete60['grade']=='E']['total_pymnt']-df_complete60.loc[df_complete60['grade']=='E']['loan_amnt'])*100/df_complete60.loc[df_complete60['grade']=='E']['loan_amnt'],\n",
    "            (df_complete60.loc[df_complete60['grade']=='F']['total_pymnt']-df_complete60.loc[df_complete60['grade']=='F']['loan_amnt'])*100/df_complete60.loc[df_complete60['grade']=='F']['loan_amnt'],\n",
    "            (df_complete60.loc[df_complete60['grade']=='G']['total_pymnt']-df_complete60.loc[df_complete60['grade']=='G']['loan_amnt'])*100/df_complete60.loc[df_complete60['grade']=='G']['loan_amnt']],\n",
    "            showmeans=True, meanprops=dict(marker='D', markeredgecolor='black',markerfacecolor='firebrick'),\n",
    "            flierprops=dict(markersize=2,marker='_',alpha=0.3),\n",
    "            boxprops=dict(linewidth=2,color='darkblue'),\n",
    "            medianprops=dict(linewidth=2,color='g'),\n",
    "            whiskerprops=dict(linewidth=2,color='darkblue'),\n",
    "            capprops=dict(linewidth=2,color='darkblue'),\n",
    "            positions=[2,5,8,11,14,17,20],\n",
    "            widths=0.6,\n",
    "           )\n",
    "plt.xticks(np.arange(1,21),['A-36','A-60','', 'B-36','B-60','', 'C-36','C-60','', 'D-36','D-60','', 'E-36','E-60','', 'F-36','F-60','', 'G-36','G-60',''])\n",
    "plt.axhline(0,color='red',linewidth=0.6,label='Breakeven')\n",
    "plt.title('% Return Profit/Loss by Grade for Loans over 36 and 60 months',size=20)\n",
    "plt.ylim([-100,100])\n",
    "plt.ylabel('% on investment',size='16')\n",
    "plt.xlabel('Loan Grade and Length (in Months)',size=16)\n",
    "plt.axhline(101,color='aquamarine',linewidth=2,label='36 Month Loans') #off chart for legend only\n",
    "plt.axhline(101,color='darkblue',linewidth=2,label='60 Month Loans') #off chart for legend only\n",
    "plt.fill_between([-1,22], 4, y2=7,color='y',label='Lending Club promoted return',alpha=0.3)\n",
    "plt.xlim([0,21])\n",
    "# plt.axhline(4,color='y',linewidth=0.6,label='Lending Club promoted return')\n",
    "# plt.axhline(7,color='y',linewidth=0.6)\n",
    "plt.legend(loc ='upper left')\n",
    "plt.text(1.3,30,'A',fontdict=dict(size=20,color='blue'))\n",
    "plt.text(4.3,50,'B',fontdict=dict(size=20,color='blue'))\n",
    "plt.text(7.3,60,'C',fontdict=dict(size=20,color='blue'))\n",
    "plt.text(10.3,70,'D',fontdict=dict(size=20,color='blue'))\n",
    "plt.text(13.3,80,'E',fontdict=dict(size=20,color='blue'))\n",
    "plt.text(16.3,90,'F',fontdict=dict(size=20,color='blue'))\n",
    "plt.text(19.3,90,'G',fontdict=dict(size=20,color='blue'))\n",
    "plt.grid(which='major',axis='y',linestyle='--')\n",
    "plt.show()"
   ]
  },
  {
   "cell_type": "code",
   "execution_count": 261,
   "metadata": {},
   "outputs": [
    {
     "data": {
      "text/plain": [
       "5.295169509611857"
      ]
     },
     "execution_count": 261,
     "metadata": {},
     "output_type": "execute_result"
    }
   ],
   "source": [
    "((df_complete36.loc[df_complete36['grade']=='A']['total_pymnt']-df_complete36.loc[df_complete36['grade']=='A']['loan_amnt'])*100/df_complete36.loc[df_complete36['grade']=='A']['loan_amnt']).mean()"
   ]
  },
  {
   "cell_type": "code",
   "execution_count": 262,
   "metadata": {},
   "outputs": [
    {
     "data": {
      "text/plain": [
       "5.5794378420830375"
      ]
     },
     "execution_count": 262,
     "metadata": {},
     "output_type": "execute_result"
    }
   ],
   "source": [
    "((df_complete36.loc[df_complete36['grade']=='B']['total_pymnt']-df_complete36.loc[df_complete36['grade']=='B']['loan_amnt'])*100/df_complete36.loc[df_complete36['grade']=='B']['loan_amnt']).mean()"
   ]
  },
  {
   "cell_type": "code",
   "execution_count": 226,
   "metadata": {
    "scrolled": false
   },
   "outputs": [
    {
     "data": {
      "image/png": "[encoded data removed]",
      "text/plain": [
       "<Figure size 1152x576 with 1 Axes>"
      ]
     },
     "metadata": {
      "needs_background": "light"
     },
     "output_type": "display_data"
    }
   ],
   "source": [
    "#Difference between actual and epxected payment for 36 and 60 month loans by grade-ALL\n",
    "plt.figure(figsize=(16,8))\n",
    "plt.boxplot([(df_complete36.loc[df_complete36['grade']=='A']['total_pymnt']-df_complete36.loc[df_complete36['grade']=='A']['loan_amnt'])*100/(df_complete36.loc[df_complete36['grade']=='A']['expected_total_pymnt']-df_complete36.loc[df_complete36['grade']=='A']['loan_amnt']),\n",
    "            (df_complete36.loc[df_complete36['grade']=='B']['total_pymnt']-df_complete36.loc[df_complete36['grade']=='B']['loan_amnt'])*100/(df_complete36.loc[df_complete36['grade']=='B']['expected_total_pymnt']-df_complete36.loc[df_complete36['grade']=='B']['loan_amnt']),\n",
    "            (df_complete36.loc[df_complete36['grade']=='C']['total_pymnt']-df_complete36.loc[df_complete36['grade']=='C']['loan_amnt'])*100/(df_complete36.loc[df_complete36['grade']=='C']['expected_total_pymnt']-df_complete36.loc[df_complete36['grade']=='C']['loan_amnt']),\n",
    "            (df_complete36.loc[df_complete36['grade']=='D']['total_pymnt']-df_complete36.loc[df_complete36['grade']=='D']['loan_amnt'])*100/(df_complete36.loc[df_complete36['grade']=='D']['expected_total_pymnt']-df_complete36.loc[df_complete36['grade']=='D']['loan_amnt']),\n",
    "            (df_complete36.loc[df_complete36['grade']=='E']['total_pymnt']-df_complete36.loc[df_complete36['grade']=='E']['loan_amnt'])*100/(df_complete36.loc[df_complete36['grade']=='E']['expected_total_pymnt']-df_complete36.loc[df_complete36['grade']=='E']['loan_amnt']),\n",
    "            (df_complete36.loc[df_complete36['grade']=='F']['total_pymnt']-df_complete36.loc[df_complete36['grade']=='F']['loan_amnt'])*100/(df_complete36.loc[df_complete36['grade']=='F']['expected_total_pymnt']-df_complete36.loc[df_complete36['grade']=='F']['loan_amnt']),\n",
    "            (df_complete36.loc[df_complete36['grade']=='G']['total_pymnt']-df_complete36.loc[df_complete36['grade']=='G']['loan_amnt'])*100/(df_complete36.loc[df_complete36['grade']=='G']['expected_total_pymnt']-df_complete36.loc[df_complete36['grade']=='G']['loan_amnt'])],\n",
    "            showmeans=True, meanprops=dict(marker='D', markeredgecolor='black',markerfacecolor='firebrick'),\n",
    "            flierprops=dict(markersize=2,marker='_',alpha=0.3),\n",
    "            boxprops=dict(linewidth=2,color='aquamarine'),\n",
    "            medianprops=dict(linewidth=2,color='g'),\n",
    "            whiskerprops=dict(linewidth=2,color='aquamarine'),\n",
    "            capprops=dict(linewidth=2,color='aquamarine'),\n",
    "            positions=[1,4,7,10,13,16,19],\n",
    "            widths=0.6,\n",
    "           )\n",
    "\n",
    "plt.boxplot([(df_complete60.loc[df_complete60['grade']=='A']['total_pymnt']-df_complete60.loc[df_complete60['grade']=='A']['loan_amnt'])*100/(df_complete60.loc[df_complete60['grade']=='A']['expected_total_pymnt']-df_complete60.loc[df_complete60['grade']=='A']['loan_amnt']),\n",
    "            (df_complete60.loc[df_complete60['grade']=='B']['total_pymnt']-df_complete60.loc[df_complete60['grade']=='B']['loan_amnt'])*100/(df_complete60.loc[df_complete60['grade']=='B']['expected_total_pymnt']-df_complete60.loc[df_complete60['grade']=='B']['loan_amnt']),\n",
    "            (df_complete60.loc[df_complete60['grade']=='C']['total_pymnt']-df_complete60.loc[df_complete60['grade']=='C']['loan_amnt'])*100/(df_complete60.loc[df_complete60['grade']=='C']['expected_total_pymnt']-df_complete60.loc[df_complete60['grade']=='C']['loan_amnt']),\n",
    "            (df_complete60.loc[df_complete60['grade']=='D']['total_pymnt']-df_complete60.loc[df_complete60['grade']=='D']['loan_amnt'])*100/(df_complete60.loc[df_complete60['grade']=='D']['expected_total_pymnt']-df_complete60.loc[df_complete60['grade']=='D']['loan_amnt']),\n",
    "            (df_complete60.loc[df_complete60['grade']=='E']['total_pymnt']-df_complete60.loc[df_complete60['grade']=='E']['loan_amnt'])*100/(df_complete60.loc[df_complete60['grade']=='E']['expected_total_pymnt']-df_complete60.loc[df_complete60['grade']=='E']['loan_amnt']),\n",
    "            (df_complete60.loc[df_complete60['grade']=='F']['total_pymnt']-df_complete60.loc[df_complete60['grade']=='F']['loan_amnt'])*100/(df_complete60.loc[df_complete60['grade']=='F']['expected_total_pymnt']-df_complete60.loc[df_complete60['grade']=='F']['loan_amnt']),\n",
    "            (df_complete60.loc[df_complete60['grade']=='G']['total_pymnt']-df_complete60.loc[df_complete60['grade']=='G']['loan_amnt'])*100/(df_complete60.loc[df_complete60['grade']=='G']['expected_total_pymnt']-df_complete60.loc[df_complete60['grade']=='G']['loan_amnt'])],\n",
    "            showmeans=True, meanprops=dict(marker='D', markeredgecolor='black',markerfacecolor='firebrick'),\n",
    "            flierprops=dict(markersize=2,marker='_',alpha=0.3),\n",
    "            boxprops=dict(linewidth=2,color='darkblue'),\n",
    "            medianprops=dict(linewidth=2,color='g'),\n",
    "            whiskerprops=dict(linewidth=2,color='darkblue'),\n",
    "            capprops=dict(linewidth=2,color='darkblue'),\n",
    "            positions=[2,5,8,11,14,17,20],\n",
    "            widths=0.6,\n",
    "           )\n",
    "plt.xticks(np.arange(1,21),['A-36','A-60','', 'B-36','B-60','', 'C-36','C-60','', 'D-36','D-60','', 'E-36','E-60','', 'F-36','F-60','', 'G-36','G-60',''])\n",
    "plt.axhline(100,color='chartreuse',linewidth=0.6,label='Expected Return')\n",
    "plt.axhline(0,color='red',linewidth=0.6,label='Loss')\n",
    "plt.axhline(301,color='aquamarine',linewidth=2,label='36 Month Loans') #off chart for legend only\n",
    "plt.axhline(301,color='darkblue',linewidth=2,label='60 Month Loans') #off chart for legend only\n",
    "plt.legend(loc ='upper left')\n",
    "plt.title('% of Expected Loan Profit Realized by Grade',size=20)\n",
    "plt.xlabel('Loan Grade and Length (in Months)',size=16)\n",
    "plt.ylabel('% of Expected Profit Realized',size=16)\n",
    "plt.ylim([-400,300])\n",
    "plt.text(1.3,150,'A',fontdict=dict(size=20,color='blue'))\n",
    "plt.text(4.3,200,'B',fontdict=dict(size=20,color='blue'))\n",
    "plt.text(7.3,200,'C',fontdict=dict(size=20,color='blue'))\n",
    "plt.text(10.3,200,'D',fontdict=dict(size=20,color='blue'))\n",
    "plt.text(13.3,200,'E',fontdict=dict(size=20,color='blue'))\n",
    "plt.text(16.3,200,'F',fontdict=dict(size=20,color='blue'))\n",
    "plt.text(19.3,200,'G',fontdict=dict(size=20,color='blue'))\n",
    "plt.show()"
   ]
  },
  {
   "cell_type": "code",
   "execution_count": 215,
   "metadata": {},
   "outputs": [],
   "source": [
    "#fully paid loans only\n",
    "df_complete36fp=df_complete36.loc[df['loan_status']=='Fully Paid']\n",
    "df_complete60fp=df_complete60.loc[df['loan_status']=='Fully Paid']"
   ]
  },
  {
   "cell_type": "code",
   "execution_count": 232,
   "metadata": {
    "scrolled": false
   },
   "outputs": [
    {
     "data": {
      "image/png": "[encoded data removed]",
      "text/plain": [
       "<Figure size 1152x576 with 1 Axes>"
      ]
     },
     "metadata": {
      "needs_background": "light"
     },
     "output_type": "display_data"
    }
   ],
   "source": [
    "#Difference between actual and epxected payment for 36 and 60 month loans by grade - fully paid only\n",
    "\n",
    "#(df_complete['total_pymnt']-df_complete['loan_amnt'])/(df_complete['expected_total_pymnt']-df_complete['loan_amnt'])\n",
    "plt.figure(figsize=(16,8))\n",
    "plt.boxplot([(df_complete36fp.loc[df_complete36fp['grade']=='A']['total_pymnt']-df_complete36fp.loc[df_complete36fp['grade']=='A']['loan_amnt'])*100/(df_complete36fp.loc[df_complete36fp['grade']=='A']['expected_total_pymnt']-df_complete36fp.loc[df_complete36fp['grade']=='A']['loan_amnt']),\n",
    "            (df_complete36fp.loc[df_complete36fp['grade']=='B']['total_pymnt']-df_complete36fp.loc[df_complete36fp['grade']=='B']['loan_amnt'])*100/(df_complete36fp.loc[df_complete36fp['grade']=='B']['expected_total_pymnt']-df_complete36fp.loc[df_complete36fp['grade']=='B']['loan_amnt']),\n",
    "            (df_complete36fp.loc[df_complete36fp['grade']=='C']['total_pymnt']-df_complete36fp.loc[df_complete36fp['grade']=='C']['loan_amnt'])*100/(df_complete36fp.loc[df_complete36fp['grade']=='C']['expected_total_pymnt']-df_complete36fp.loc[df_complete36fp['grade']=='C']['loan_amnt']),\n",
    "            (df_complete36fp.loc[df_complete36fp['grade']=='D']['total_pymnt']-df_complete36fp.loc[df_complete36fp['grade']=='D']['loan_amnt'])*100/(df_complete36fp.loc[df_complete36fp['grade']=='D']['expected_total_pymnt']-df_complete36fp.loc[df_complete36fp['grade']=='D']['loan_amnt']),\n",
    "            (df_complete36fp.loc[df_complete36fp['grade']=='E']['total_pymnt']-df_complete36fp.loc[df_complete36fp['grade']=='E']['loan_amnt'])*100/(df_complete36fp.loc[df_complete36fp['grade']=='E']['expected_total_pymnt']-df_complete36fp.loc[df_complete36fp['grade']=='E']['loan_amnt']),\n",
    "            (df_complete36fp.loc[df_complete36fp['grade']=='F']['total_pymnt']-df_complete36fp.loc[df_complete36fp['grade']=='F']['loan_amnt'])*100/(df_complete36fp.loc[df_complete36fp['grade']=='F']['expected_total_pymnt']-df_complete36fp.loc[df_complete36fp['grade']=='F']['loan_amnt']),\n",
    "            (df_complete36fp.loc[df_complete36fp['grade']=='G']['total_pymnt']-df_complete36fp.loc[df_complete36fp['grade']=='G']['loan_amnt'])*100/(df_complete36fp.loc[df_complete36fp['grade']=='G']['expected_total_pymnt']-df_complete36fp.loc[df_complete36fp['grade']=='G']['loan_amnt'])],\n",
    "            showmeans=True, meanprops=dict(marker='D', markeredgecolor='black',markerfacecolor='firebrick'),\n",
    "            flierprops=dict(markersize=2,marker='_',alpha=0.3),\n",
    "            boxprops=dict(linewidth=2,color='aquamarine'),\n",
    "            medianprops=dict(linewidth=2,color='g'),\n",
    "            whiskerprops=dict(linewidth=2,color='aquamarine'),\n",
    "            capprops=dict(linewidth=2,color='aquamarine'),\n",
    "            positions=[1,4,7,10,13,16,19],\n",
    "            widths=0.6,\n",
    "           )\n",
    "\n",
    "plt.boxplot([(df_complete60fp.loc[df_complete60fp['grade']=='A']['total_pymnt']-df_complete60fp.loc[df_complete60fp['grade']=='A']['loan_amnt'])*100/(df_complete60fp.loc[df_complete60fp['grade']=='A']['expected_total_pymnt']-df_complete60fp.loc[df_complete60fp['grade']=='A']['loan_amnt']),\n",
    "            (df_complete60fp.loc[df_complete60fp['grade']=='B']['total_pymnt']-df_complete60fp.loc[df_complete60fp['grade']=='B']['loan_amnt'])*100/(df_complete60fp.loc[df_complete60fp['grade']=='B']['expected_total_pymnt']-df_complete60fp.loc[df_complete60fp['grade']=='B']['loan_amnt']),\n",
    "            (df_complete60fp.loc[df_complete60fp['grade']=='C']['total_pymnt']-df_complete60fp.loc[df_complete60fp['grade']=='C']['loan_amnt'])*100/(df_complete60fp.loc[df_complete60fp['grade']=='C']['expected_total_pymnt']-df_complete60fp.loc[df_complete60fp['grade']=='C']['loan_amnt']),\n",
    "            (df_complete60fp.loc[df_complete60fp['grade']=='D']['total_pymnt']-df_complete60fp.loc[df_complete60fp['grade']=='D']['loan_amnt'])*100/(df_complete60fp.loc[df_complete60fp['grade']=='D']['expected_total_pymnt']-df_complete60fp.loc[df_complete60fp['grade']=='D']['loan_amnt']),\n",
    "            (df_complete60fp.loc[df_complete60fp['grade']=='E']['total_pymnt']-df_complete60fp.loc[df_complete60fp['grade']=='E']['loan_amnt'])*100/(df_complete60fp.loc[df_complete60fp['grade']=='E']['expected_total_pymnt']-df_complete60fp.loc[df_complete60fp['grade']=='E']['loan_amnt']),\n",
    "            (df_complete60fp.loc[df_complete60fp['grade']=='F']['total_pymnt']-df_complete60fp.loc[df_complete60fp['grade']=='F']['loan_amnt'])*100/(df_complete60fp.loc[df_complete60fp['grade']=='F']['expected_total_pymnt']-df_complete60fp.loc[df_complete60fp['grade']=='F']['loan_amnt']),\n",
    "            (df_complete60fp.loc[df_complete60fp['grade']=='G']['total_pymnt']-df_complete60fp.loc[df_complete60fp['grade']=='G']['loan_amnt'])*100/(df_complete60fp.loc[df_complete60fp['grade']=='G']['expected_total_pymnt']-df_complete60fp.loc[df_complete60fp['grade']=='G']['loan_amnt'])],\n",
    "            showmeans=True, meanprops=dict(marker='D', markeredgecolor='black',markerfacecolor='firebrick'),\n",
    "            flierprops=dict(markersize=2,marker='_',alpha=0.3),\n",
    "            boxprops=dict(linewidth=2,color='darkblue'),\n",
    "            medianprops=dict(linewidth=2,color='g'),\n",
    "            whiskerprops=dict(linewidth=2,color='darkblue'),\n",
    "            capprops=dict(linewidth=2,color='darkblue'),\n",
    "            positions=[2,5,8,11,14,17,20],\n",
    "            widths=0.6,\n",
    "           )\n",
    "plt.xticks(np.arange(1,21),['A-36','A-60','', 'B-36','B-60','', 'C-36','C-60','', 'D-36','D-60','', 'E-36','E-60','', 'F-36','F-60','', 'G-36','G-60',''])\n",
    "plt.axhline(100,color='chartreuse',linewidth=0.6,label='Expected Return')\n",
    "plt.axhline(0,color='red',linewidth=0.6,label='Loss')\n",
    "plt.legend(loc ='upper left')\n",
    "plt.ylabel('% of Expected Profit Realized',size=16)\n",
    "plt.title('% of Expected Loan Profit Realized by Grade - Fully Paid Loans',size = 20)\n",
    "plt.xlabel('Loan Grade and Length (in Months)',size=16)\n",
    "plt.ylim([-200,300])\n",
    "plt.axhline(301,color='aquamarine',linewidth=2,label='36 Month Loans') #off chart for legend only\n",
    "plt.axhline(301,color='darkblue',linewidth=2,label='60 Month Loans') #off chart for legend only\n",
    "plt.legend(loc ='upper left')\n",
    "plt.text(1.3,200,'A',fontdict=dict(size=20,color='blue'))\n",
    "plt.text(4.3,200,'B',fontdict=dict(size=20,color='blue'))\n",
    "plt.text(7.3,200,'C',fontdict=dict(size=20,color='blue'))\n",
    "plt.text(10.3,200,'D',fontdict=dict(size=20,color='blue'))\n",
    "plt.text(13.3,200,'E',fontdict=dict(size=20,color='blue'))\n",
    "plt.text(16.3,200,'F',fontdict=dict(size=20,color='blue'))\n",
    "plt.text(19.3,200,'G',fontdict=dict(size=20,color='blue'))\n",
    "plt.show()"
   ]
  },
  {
   "cell_type": "code",
   "execution_count": null,
   "metadata": {},
   "outputs": [],
   "source": []
  },
  {
   "cell_type": "code",
   "execution_count": null,
   "metadata": {},
   "outputs": [],
   "source": []
  },
  {
   "cell_type": "code",
   "execution_count": null,
   "metadata": {},
   "outputs": [],
   "source": []
  },
  {
   "cell_type": "code",
   "execution_count": null,
   "metadata": {},
   "outputs": [],
   "source": []
  },
  {
   "cell_type": "code",
   "execution_count": 181,
   "metadata": {
    "scrolled": true
   },
   "outputs": [
    {
     "data": {
      "text/html": [
       "<div>\n",
       "<style scoped>\n",
       "    .dataframe tbody tr th:only-of-type {\n",
       "        vertical-align: middle;\n",
       "    }\n",
       "\n",
       "    .dataframe tbody tr th {\n",
       "        vertical-align: top;\n",
       "    }\n",
       "\n",
       "    .dataframe thead th {\n",
       "        text-align: right;\n",
       "    }\n",
       "</style>\n",
       "<table border=\"1\" class=\"dataframe\">\n",
       "  <thead>\n",
       "    <tr style=\"text-align: right;\">\n",
       "      <th></th>\n",
       "      <th>loan_amnt</th>\n",
       "      <th>term</th>\n",
       "      <th>int_rate</th>\n",
       "      <th>installment</th>\n",
       "      <th>last_pymnt_amnt</th>\n",
       "      <th>last_pymnt_d</th>\n",
       "      <th>total_pymnt</th>\n",
       "      <th>total_pymnt_inv</th>\n",
       "      <th>expected_total_pymnt</th>\n",
       "      <th>expected_return</th>\n",
       "      <th>total_rec_prncp</th>\n",
       "      <th>loan_status</th>\n",
       "      <th>hardship_length</th>\n",
       "      <th>debt_settlement_flag</th>\n",
       "    </tr>\n",
       "  </thead>\n",
       "  <tbody>\n",
       "    <tr>\n",
       "      <th>1845155</th>\n",
       "      <td>30225</td>\n",
       "      <td>36</td>\n",
       "      <td>6.62</td>\n",
       "      <td>638.64</td>\n",
       "      <td>6249.05</td>\n",
       "      <td>2014-10-01</td>\n",
       "      <td>22835.499417</td>\n",
       "      <td>22808.05</td>\n",
       "      <td>33408.643388</td>\n",
       "      <td>22991.04</td>\n",
       "      <td>20800.00</td>\n",
       "      <td>Fully Paid</td>\n",
       "      <td>NaN</td>\n",
       "      <td>N</td>\n",
       "    </tr>\n",
       "    <tr>\n",
       "      <th>1845166</th>\n",
       "      <td>14400</td>\n",
       "      <td>36</td>\n",
       "      <td>6.62</td>\n",
       "      <td>358.47</td>\n",
       "      <td>3264.95</td>\n",
       "      <td>2014-08-01</td>\n",
       "      <td>12737.809330</td>\n",
       "      <td>12737.81</td>\n",
       "      <td>15916.773029</td>\n",
       "      <td>12904.92</td>\n",
       "      <td>11675.00</td>\n",
       "      <td>Fully Paid</td>\n",
       "      <td>NaN</td>\n",
       "      <td>N</td>\n",
       "    </tr>\n",
       "    <tr>\n",
       "      <th>1845187</th>\n",
       "      <td>13950</td>\n",
       "      <td>36</td>\n",
       "      <td>8.90</td>\n",
       "      <td>375.49</td>\n",
       "      <td>384.97</td>\n",
       "      <td>2015-07-01</td>\n",
       "      <td>13517.309998</td>\n",
       "      <td>13517.31</td>\n",
       "      <td>15946.462975</td>\n",
       "      <td>13517.64</td>\n",
       "      <td>11825.00</td>\n",
       "      <td>Fully Paid</td>\n",
       "      <td>NaN</td>\n",
       "      <td>N</td>\n",
       "    </tr>\n",
       "    <tr>\n",
       "      <th>1845190</th>\n",
       "      <td>22500</td>\n",
       "      <td>36</td>\n",
       "      <td>8.90</td>\n",
       "      <td>445.34</td>\n",
       "      <td>3476.10</td>\n",
       "      <td>2014-12-01</td>\n",
       "      <td>15941.730929</td>\n",
       "      <td>15941.73</td>\n",
       "      <td>25720.101573</td>\n",
       "      <td>16032.24</td>\n",
       "      <td>14025.00</td>\n",
       "      <td>Fully Paid</td>\n",
       "      <td>NaN</td>\n",
       "      <td>N</td>\n",
       "    </tr>\n",
       "    <tr>\n",
       "      <th>1845215</th>\n",
       "      <td>26500</td>\n",
       "      <td>36</td>\n",
       "      <td>8.90</td>\n",
       "      <td>571.56</td>\n",
       "      <td>576.62</td>\n",
       "      <td>2015-07-01</td>\n",
       "      <td>20576.080003</td>\n",
       "      <td>20576.08</td>\n",
       "      <td>30292.564075</td>\n",
       "      <td>20576.16</td>\n",
       "      <td>18000.00</td>\n",
       "      <td>Fully Paid</td>\n",
       "      <td>NaN</td>\n",
       "      <td>N</td>\n",
       "    </tr>\n",
       "    <tr>\n",
       "      <th>...</th>\n",
       "      <td>...</td>\n",
       "      <td>...</td>\n",
       "      <td>...</td>\n",
       "      <td>...</td>\n",
       "      <td>...</td>\n",
       "      <td>...</td>\n",
       "      <td>...</td>\n",
       "      <td>...</td>\n",
       "      <td>...</td>\n",
       "      <td>...</td>\n",
       "      <td>...</td>\n",
       "      <td>...</td>\n",
       "      <td>...</td>\n",
       "      <td>...</td>\n",
       "    </tr>\n",
       "    <tr>\n",
       "      <th>2138293</th>\n",
       "      <td>7500</td>\n",
       "      <td>36</td>\n",
       "      <td>8.00</td>\n",
       "      <td>175.49</td>\n",
       "      <td>5217.49</td>\n",
       "      <td>2008-09-01</td>\n",
       "      <td>5743.789304</td>\n",
       "      <td>0.00</td>\n",
       "      <td>8460.818675</td>\n",
       "      <td>6317.64</td>\n",
       "      <td>5600.00</td>\n",
       "      <td>Fully Paid</td>\n",
       "      <td>NaN</td>\n",
       "      <td>N</td>\n",
       "    </tr>\n",
       "    <tr>\n",
       "      <th>2138298</th>\n",
       "      <td>7000</td>\n",
       "      <td>36</td>\n",
       "      <td>8.63</td>\n",
       "      <td>163.68</td>\n",
       "      <td>164.40</td>\n",
       "      <td>2011-04-01</td>\n",
       "      <td>5892.226539</td>\n",
       "      <td>110.80</td>\n",
       "      <td>7970.208070</td>\n",
       "      <td>5892.48</td>\n",
       "      <td>5175.00</td>\n",
       "      <td>Fully Paid</td>\n",
       "      <td>NaN</td>\n",
       "      <td>N</td>\n",
       "    </tr>\n",
       "    <tr>\n",
       "      <th>2138299</th>\n",
       "      <td>7500</td>\n",
       "      <td>36</td>\n",
       "      <td>8.00</td>\n",
       "      <td>112.82</td>\n",
       "      <td>115.15</td>\n",
       "      <td>2011-05-01</td>\n",
       "      <td>4062.635762</td>\n",
       "      <td>110.11</td>\n",
       "      <td>8460.818675</td>\n",
       "      <td>4061.52</td>\n",
       "      <td>3600.00</td>\n",
       "      <td>Fully Paid</td>\n",
       "      <td>NaN</td>\n",
       "      <td>N</td>\n",
       "    </tr>\n",
       "    <tr>\n",
       "      <th>2138313</th>\n",
       "      <td>10000</td>\n",
       "      <td>36</td>\n",
       "      <td>8.32</td>\n",
       "      <td>134.60</td>\n",
       "      <td>17.71</td>\n",
       "      <td>2011-07-01</td>\n",
       "      <td>4877.452940</td>\n",
       "      <td>1086.96</td>\n",
       "      <td>11334.311123</td>\n",
       "      <td>4845.60</td>\n",
       "      <td>4275.00</td>\n",
       "      <td>Fully Paid</td>\n",
       "      <td>NaN</td>\n",
       "      <td>N</td>\n",
       "    </tr>\n",
       "    <tr>\n",
       "      <th>2138377</th>\n",
       "      <td>12000</td>\n",
       "      <td>36</td>\n",
       "      <td>8.32</td>\n",
       "      <td>220.39</td>\n",
       "      <td>248.63</td>\n",
       "      <td>2011-04-01</td>\n",
       "      <td>7934.024900</td>\n",
       "      <td>5884.48</td>\n",
       "      <td>13601.173347</td>\n",
       "      <td>7934.04</td>\n",
       "      <td>6999.99</td>\n",
       "      <td>Fully Paid</td>\n",
       "      <td>NaN</td>\n",
       "      <td>N</td>\n",
       "    </tr>\n",
       "  </tbody>\n",
       "</table>\n",
       "<p>345 rows × 14 columns</p>\n",
       "</div>"
      ],
      "text/plain": [
       "         loan_amnt  term  int_rate  installment  last_pymnt_amnt last_pymnt_d  \\\n",
       "1845155      30225    36      6.62       638.64          6249.05   2014-10-01   \n",
       "1845166      14400    36      6.62       358.47          3264.95   2014-08-01   \n",
       "1845187      13950    36      8.90       375.49           384.97   2015-07-01   \n",
       "1845190      22500    36      8.90       445.34          3476.10   2014-12-01   \n",
       "1845215      26500    36      8.90       571.56           576.62   2015-07-01   \n",
       "...            ...   ...       ...          ...              ...          ...   \n",
       "2138293       7500    36      8.00       175.49          5217.49   2008-09-01   \n",
       "2138298       7000    36      8.63       163.68           164.40   2011-04-01   \n",
       "2138299       7500    36      8.00       112.82           115.15   2011-05-01   \n",
       "2138313      10000    36      8.32       134.60            17.71   2011-07-01   \n",
       "2138377      12000    36      8.32       220.39           248.63   2011-04-01   \n",
       "\n",
       "          total_pymnt  total_pymnt_inv  expected_total_pymnt  expected_return  \\\n",
       "1845155  22835.499417         22808.05          33408.643388         22991.04   \n",
       "1845166  12737.809330         12737.81          15916.773029         12904.92   \n",
       "1845187  13517.309998         13517.31          15946.462975         13517.64   \n",
       "1845190  15941.730929         15941.73          25720.101573         16032.24   \n",
       "1845215  20576.080003         20576.08          30292.564075         20576.16   \n",
       "...               ...              ...                   ...              ...   \n",
       "2138293   5743.789304             0.00           8460.818675          6317.64   \n",
       "2138298   5892.226539           110.80           7970.208070          5892.48   \n",
       "2138299   4062.635762           110.11           8460.818675          4061.52   \n",
       "2138313   4877.452940          1086.96          11334.311123          4845.60   \n",
       "2138377   7934.024900          5884.48          13601.173347          7934.04   \n",
       "\n",
       "         total_rec_prncp loan_status  hardship_length debt_settlement_flag  \n",
       "1845155         20800.00  Fully Paid              NaN                    N  \n",
       "1845166         11675.00  Fully Paid              NaN                    N  \n",
       "1845187         11825.00  Fully Paid              NaN                    N  \n",
       "1845190         14025.00  Fully Paid              NaN                    N  \n",
       "1845215         18000.00  Fully Paid              NaN                    N  \n",
       "...                  ...         ...              ...                  ...  \n",
       "2138293          5600.00  Fully Paid              NaN                    N  \n",
       "2138298          5175.00  Fully Paid              NaN                    N  \n",
       "2138299          3600.00  Fully Paid              NaN                    N  \n",
       "2138313          4275.00  Fully Paid              NaN                    N  \n",
       "2138377          6999.99  Fully Paid              NaN                    N  \n",
       "\n",
       "[345 rows x 14 columns]"
      ]
     },
     "execution_count": 181,
     "metadata": {},
     "output_type": "execute_result"
    }
   ],
   "source": [
    "df_complete36fp.loc[(df_complete36fp['grade']==\"A\")&(df_complete36fp['total_pymnt']-df_complete36fp['loan_amnt']<0)][['loan_amnt','term','int_rate','installment','last_pymnt_amnt','last_pymnt_d','total_pymnt','total_pymnt_inv','expected_total_pymnt','expected_return','total_rec_prncp','loan_status','hardship_length','debt_settlement_flag']]"
   ]
  },
  {
   "cell_type": "code",
   "execution_count": null,
   "metadata": {},
   "outputs": [],
   "source": [
    "df_complete['exp']"
   ]
  },
  {
   "cell_type": "code",
   "execution_count": 120,
   "metadata": {},
   "outputs": [
    {
     "data": {
      "text/plain": [
       "<matplotlib.legend.Legend at 0xd26b52e8>"
      ]
     },
     "execution_count": 120,
     "metadata": {},
     "output_type": "execute_result"
    },
    {
     "data": {
      "image/png": "[encoded data removed]",
      "text/plain": [
       "<Figure size 432x288 with 1 Axes>"
      ]
     },
     "metadata": {
      "needs_background": "light"
     },
     "output_type": "display_data"
    }
   ],
   "source": [
    "plt.hist(sorted(df_complete36['grade']),bins=7,alpha=0.4,label='36')\n",
    "plt.hist(sorted(df_complete60['grade']),bins=7,alpha=0.4,label='60')\n",
    "plt.legend()"
   ]
  },
  {
   "cell_type": "code",
   "execution_count": 107,
   "metadata": {},
   "outputs": [
    {
     "data": {
      "text/plain": [
       "C    0.322561\n",
       "D    0.230454\n",
       "E    0.180746\n",
       "B    0.145751\n",
       "F    0.077702\n",
       "G    0.023608\n",
       "A    0.019178\n",
       "Name: grade, dtype: float64"
      ]
     },
     "execution_count": 107,
     "metadata": {},
     "output_type": "execute_result"
    }
   ],
   "source": [
    "df_complete60['grade'].value_counts(normalize=True)"
   ]
  },
  {
   "cell_type": "code",
   "execution_count": null,
   "metadata": {},
   "outputs": [],
   "source": []
  },
  {
   "cell_type": "markdown",
   "metadata": {},
   "source": [
    "Explore most common self reported employment titles "
   ]
  },
  {
   "cell_type": "code",
   "execution_count": 46,
   "metadata": {
    "scrolled": true
   },
   "outputs": [
    {
     "data": {
      "text/plain": [
       "manager                     43703\n",
       "teacher                     43697\n",
       "owner                       31935\n",
       "registered nurse            22145\n",
       "driver                      21085\n",
       "supervisor                  21039\n",
       "sales                       18137\n",
       "rn                          16353\n",
       "project manager             13211\n",
       "office manager              13197\n",
       "general manager             12760\n",
       "truck driver                12012\n",
       "director                    10218\n",
       "president                    9531\n",
       "engineer                     8623\n",
       "sales manager                8226\n",
       "operations manager           7840\n",
       "vice president               7437\n",
       "police officer               7298\n",
       "technician                   7020\n",
       "store manager                6935\n",
       "nurse                        6807\n",
       "administrative assistant     6666\n",
       "accountant                   6561\n",
       "attorney                     6197\n",
       "mechanic                     6104\n",
       "account manager              5977\n",
       "assistant manager            5686\n",
       "server                       5490\n",
       "executive assistant          4961\n",
       "analyst                      4848\n",
       "customer service             4707\n",
       "electrician                  4660\n",
       "branch manager               4456\n",
       "foreman                      4411\n",
       "paralegal                    4321\n",
       "software engineer            4209\n",
       "operator                     4202\n",
       "machine operator             3917\n",
       "consultant                   3789\n",
       "program manager              3765\n",
       "maintenance                  3728\n",
       "ceo                          3693\n",
       "controller                   3639\n",
       "clerk                        3489\n",
       "superintendent               3448\n",
       "administrator                3418\n",
       "account executive            3332\n",
       "principal                    3086\n",
       "business analyst             3024\n",
       "Name: emp_title, dtype: int64"
      ]
     },
     "execution_count": 46,
     "metadata": {},
     "output_type": "execute_result"
    }
   ],
   "source": [
    "df['emp_title'].str.lower().str.strip().value_counts().head(50)"
   ]
  },
  {
   "cell_type": "code",
   "execution_count": 47,
   "metadata": {},
   "outputs": [],
   "source": [
    "df['emp_title']=df['emp_title'].str.lower().str.strip()"
   ]
  },
  {
   "cell_type": "code",
   "execution_count": 48,
   "metadata": {
    "scrolled": true
   },
   "outputs": [
    {
     "data": {
      "text/plain": [
       "array(['driver coordinator', 'fuel truck driver', 'driver', ...,\n",
       "       'chef driver', 'aasitant-driver', 'driver and machine operator'],\n",
       "      dtype=object)"
      ]
     },
     "execution_count": 48,
     "metadata": {},
     "output_type": "execute_result"
    }
   ],
   "source": [
    "df.loc[df['emp_title'].str.contains('driver')==True]['emp_title'].unique()"
   ]
  },
  {
   "cell_type": "code",
   "execution_count": 49,
   "metadata": {},
   "outputs": [
    {
     "data": {
      "text/plain": [
       "array(['neonatal nurse practitioner', 'nurse technician',\n",
       "       'registered nurse', ..., 'supervisor/woundcare nurse',\n",
       "       'live nursery specialist/garden manager',\n",
       "       'nurse manager - emergency department'], dtype=object)"
      ]
     },
     "execution_count": 49,
     "metadata": {},
     "output_type": "execute_result"
    }
   ],
   "source": [
    "df.loc[df['emp_title'].str.contains('nurse')==True]['emp_title'].unique()"
   ]
  },
  {
   "cell_type": "code",
   "execution_count": 50,
   "metadata": {},
   "outputs": [],
   "source": [
    "df['emp_title']=df['emp_title'].replace(['registered nurse','rn','truck driver'],['nurse','nurse','driver'])\n",
    "#too many drivers and nurses to actually do this for all. these are in top 50 jobs"
   ]
  },
  {
   "cell_type": "code",
   "execution_count": 51,
   "metadata": {},
   "outputs": [],
   "source": [
    "df_nurse=df.loc[df['emp_title']=='nurse']\n",
    "df_driver=df.loc[df['emp_title']=='driver']"
   ]
  },
  {
   "cell_type": "code",
   "execution_count": 52,
   "metadata": {
    "scrolled": true
   },
   "outputs": [
    {
     "data": {
      "text/plain": [
       "([0, 1, 2, 3, 4, 5, 6, 7, 8, 9, 10], <a list of 11 Text xticklabel objects>)"
      ]
     },
     "execution_count": 52,
     "metadata": {},
     "output_type": "execute_result"
    },
    {
     "data": {
      "image/png": "[encoded data removed]",
      "text/plain": [
       "<Figure size 432x288 with 1 Axes>"
      ]
     },
     "metadata": {
      "needs_background": "light"
     },
     "output_type": "display_data"
    }
   ],
   "source": [
    "df_nurse['emp_length'].hist()\n",
    "plt.xticks(rotation=90)"
   ]
  },
  {
   "cell_type": "code",
   "execution_count": 53,
   "metadata": {},
   "outputs": [
    {
     "data": {
      "text/plain": [
       "([0, 1, 2, 3, 4, 5, 6, 7, 8, 9, 10], <a list of 11 Text xticklabel objects>)"
      ]
     },
     "execution_count": 53,
     "metadata": {},
     "output_type": "execute_result"
    },
    {
     "data": {
      "image/png": "[encoded data removed]",
      "text/plain": [
       "<Figure size 432x288 with 1 Axes>"
      ]
     },
     "metadata": {
      "needs_background": "light"
     },
     "output_type": "display_data"
    }
   ],
   "source": [
    "df_driver['emp_length'].hist()\n",
    "plt.xticks(rotation=90)"
   ]
  },
  {
   "cell_type": "code",
   "execution_count": 54,
   "metadata": {
    "scrolled": true
   },
   "outputs": [
    {
     "name": "stderr",
     "output_type": "stream",
     "text": [
      "C:\\kosta\\Anaconda3\\lib\\site-packages\\pandas\\plotting\\_matplotlib\\hist.py:316: MatplotlibDeprecationWarning:\n",
      "\n",
      "\n",
      "The 'normed' kwarg was deprecated in Matplotlib 2.1 and will be removed in 3.1. Use 'density' instead.\n",
      "\n"
     ]
    },
    {
     "data": {
      "text/plain": [
       "<matplotlib.legend.Legend at 0xf39672e8>"
      ]
     },
     "execution_count": 54,
     "metadata": {},
     "output_type": "execute_result"
    },
    {
     "data": {
      "image/png": "[encoded data removed]",
      "text/plain": [
       "<Figure size 432x288 with 1 Axes>"
      ]
     },
     "metadata": {
      "needs_background": "light"
     },
     "output_type": "display_data"
    }
   ],
   "source": [
    "df_nurse['int_rate'].hist(alpha=0.6, label='nurse',normed=True)\n",
    "df_driver['int_rate'].hist(alpha=0.6, label='driver',normed=True)\n",
    "plt.legend()"
   ]
  },
  {
   "cell_type": "code",
   "execution_count": 55,
   "metadata": {},
   "outputs": [
    {
     "name": "stdout",
     "output_type": "stream",
     "text": [
      "count    4.530500e+04\n",
      "mean     8.382018e+04\n",
      "std      7.672671e+04\n",
      "min      1.090000e+04\n",
      "25%      6.200000e+04\n",
      "50%      7.700000e+04\n",
      "75%      9.800000e+04\n",
      "max      9.000000e+06\n",
      "Name: annual_inc, dtype: float64\n",
      "count    3.309700e+04\n",
      "mean     6.696490e+04\n",
      "std      7.506120e+04\n",
      "min      2.500000e+03\n",
      "25%      5.000000e+04\n",
      "50%      6.184400e+04\n",
      "75%      7.900000e+04\n",
      "max      9.000000e+06\n",
      "Name: annual_inc, dtype: float64\n"
     ]
    }
   ],
   "source": [
    "print(df_nurse['annual_inc'].describe())\n",
    "print(df_driver['annual_inc'].describe())"
   ]
  },
  {
   "cell_type": "code",
   "execution_count": 56,
   "metadata": {},
   "outputs": [
    {
     "data": {
      "image/png": "[encoded data removed]",
      "text/plain": [
       "<Figure size 432x288 with 1 Axes>"
      ]
     },
     "metadata": {
      "needs_background": "light"
     },
     "output_type": "display_data"
    }
   ],
   "source": [
    "plt.boxplot([df_nurse['annual_inc'],df_driver['annual_inc']],showmeans=True, showfliers=False)\n",
    "plt.show()"
   ]
  },
  {
   "cell_type": "code",
   "execution_count": 57,
   "metadata": {},
   "outputs": [
    {
     "data": {
      "text/plain": [
       "<matplotlib.legend.Legend at 0xf2cc9048>"
      ]
     },
     "execution_count": 57,
     "metadata": {},
     "output_type": "execute_result"
    },
    {
     "data": {
      "image/png": "[encoded data removed]",
      "text/plain": [
       "<Figure size 432x288 with 1 Axes>"
      ]
     },
     "metadata": {
      "needs_background": "light"
     },
     "output_type": "display_data"
    }
   ],
   "source": [
    "df_nurse['loan_amnt'].hist(alpha=0.6, label='nurse')\n",
    "df_driver['loan_amnt'].hist(alpha=.6,label='driver')\n",
    "plt.title('loan amount')\n",
    "plt.legend()"
   ]
  },
  {
   "cell_type": "code",
   "execution_count": 58,
   "metadata": {},
   "outputs": [
    {
     "data": {
      "text/plain": [
       " 36 months    32707\n",
       " 60 months    12598\n",
       "Name: term, dtype: int64"
      ]
     },
     "execution_count": 58,
     "metadata": {},
     "output_type": "execute_result"
    }
   ],
   "source": [
    "df_nurse['term'].value_counts()"
   ]
  },
  {
   "cell_type": "code",
   "execution_count": 59,
   "metadata": {},
   "outputs": [
    {
     "data": {
      "text/plain": [
       " 36 months    24173\n",
       " 60 months     8924\n",
       "Name: term, dtype: int64"
      ]
     },
     "execution_count": 59,
     "metadata": {},
     "output_type": "execute_result"
    }
   ],
   "source": [
    "df_driver['term'].value_counts()"
   ]
  },
  {
   "cell_type": "code",
   "execution_count": 60,
   "metadata": {},
   "outputs": [],
   "source": [
    "df_nurse10=df_nurse.loc[df['emp_length']=='10+ years']\n",
    "df_driver10=df_driver.loc[df['emp_length']=='10+ years']"
   ]
  },
  {
   "cell_type": "code",
   "execution_count": 61,
   "metadata": {},
   "outputs": [
    {
     "name": "stdout",
     "output_type": "stream",
     "text": [
      "count    1.429700e+04\n",
      "mean     9.356768e+04\n",
      "std      8.369992e+04\n",
      "min      1.900000e+04\n",
      "25%      7.000000e+04\n",
      "50%      8.700000e+04\n",
      "75%      1.090000e+05\n",
      "max      9.000000e+06\n",
      "Name: annual_inc, dtype: float64\n",
      "count    1.043400e+04\n",
      "mean     7.446567e+04\n",
      "std      3.813308e+04\n",
      "min      1.400000e+04\n",
      "25%      5.500000e+04\n",
      "50%      7.000000e+04\n",
      "75%      8.868750e+04\n",
      "max      1.644000e+06\n",
      "Name: annual_inc, dtype: float64\n"
     ]
    }
   ],
   "source": [
    "print(df_nurse10['annual_inc'].describe())\n",
    "print(df_driver10['annual_inc'].describe())"
   ]
  },
  {
   "cell_type": "code",
   "execution_count": 62,
   "metadata": {},
   "outputs": [
    {
     "data": {
      "image/png": "[encoded data removed]",
      "text/plain": [
       "<Figure size 432x288 with 1 Axes>"
      ]
     },
     "metadata": {
      "needs_background": "light"
     },
     "output_type": "display_data"
    }
   ],
   "source": [
    "plt.boxplot([df_nurse10['annual_inc'],df_driver10['annual_inc']],showmeans=True, showfliers=False)\n",
    "plt.title('income')\n",
    "plt.show()"
   ]
  },
  {
   "cell_type": "code",
   "execution_count": 63,
   "metadata": {},
   "outputs": [
    {
     "data": {
      "text/html": [
       "<div>\n",
       "<style scoped>\n",
       "    .dataframe tbody tr th:only-of-type {\n",
       "        vertical-align: middle;\n",
       "    }\n",
       "\n",
       "    .dataframe tbody tr th {\n",
       "        vertical-align: top;\n",
       "    }\n",
       "\n",
       "    .dataframe thead th {\n",
       "        text-align: right;\n",
       "    }\n",
       "</style>\n",
       "<table border=\"1\" class=\"dataframe\">\n",
       "  <thead>\n",
       "    <tr style=\"text-align: right;\">\n",
       "      <th></th>\n",
       "      <th>970097</th>\n",
       "    </tr>\n",
       "  </thead>\n",
       "  <tbody>\n",
       "    <tr>\n",
       "      <th>loan_amnt</th>\n",
       "      <td>11000</td>\n",
       "    </tr>\n",
       "    <tr>\n",
       "      <th>term</th>\n",
       "      <td>36 months</td>\n",
       "    </tr>\n",
       "    <tr>\n",
       "      <th>int_rate</th>\n",
       "      <td>6.89</td>\n",
       "    </tr>\n",
       "    <tr>\n",
       "      <th>installment</th>\n",
       "      <td>339.1</td>\n",
       "    </tr>\n",
       "    <tr>\n",
       "      <th>grade</th>\n",
       "      <td>A</td>\n",
       "    </tr>\n",
       "    <tr>\n",
       "      <th>sub_grade</th>\n",
       "      <td>A3</td>\n",
       "    </tr>\n",
       "    <tr>\n",
       "      <th>emp_title</th>\n",
       "      <td>nurse</td>\n",
       "    </tr>\n",
       "    <tr>\n",
       "      <th>emp_length</th>\n",
       "      <td>10+ years</td>\n",
       "    </tr>\n",
       "    <tr>\n",
       "      <th>home_ownership</th>\n",
       "      <td>MORTGAGE</td>\n",
       "    </tr>\n",
       "    <tr>\n",
       "      <th>annual_inc</th>\n",
       "      <td>9e+06</td>\n",
       "    </tr>\n",
       "    <tr>\n",
       "      <th>verification_status</th>\n",
       "      <td>Source Verified</td>\n",
       "    </tr>\n",
       "    <tr>\n",
       "      <th>issue_d</th>\n",
       "      <td>2015-12-01 00:00:00</td>\n",
       "    </tr>\n",
       "    <tr>\n",
       "      <th>loan_status</th>\n",
       "      <td>Fully Paid</td>\n",
       "    </tr>\n",
       "    <tr>\n",
       "      <th>pymnt_plan</th>\n",
       "      <td>n</td>\n",
       "    </tr>\n",
       "    <tr>\n",
       "      <th>purpose</th>\n",
       "      <td>debt_consolidation</td>\n",
       "    </tr>\n",
       "    <tr>\n",
       "      <th>zip_code</th>\n",
       "      <td>330xx</td>\n",
       "    </tr>\n",
       "    <tr>\n",
       "      <th>addr_state</th>\n",
       "      <td>FL</td>\n",
       "    </tr>\n",
       "    <tr>\n",
       "      <th>dti</th>\n",
       "      <td>0.08</td>\n",
       "    </tr>\n",
       "    <tr>\n",
       "      <th>delinq_2yrs</th>\n",
       "      <td>0</td>\n",
       "    </tr>\n",
       "    <tr>\n",
       "      <th>earliest_cr_line</th>\n",
       "      <td>Apr-2004</td>\n",
       "    </tr>\n",
       "    <tr>\n",
       "      <th>inq_last_6mths</th>\n",
       "      <td>1</td>\n",
       "    </tr>\n",
       "    <tr>\n",
       "      <th>mths_since_last_delinq</th>\n",
       "      <td>43</td>\n",
       "    </tr>\n",
       "    <tr>\n",
       "      <th>open_acc</th>\n",
       "      <td>15</td>\n",
       "    </tr>\n",
       "    <tr>\n",
       "      <th>pub_rec</th>\n",
       "      <td>0</td>\n",
       "    </tr>\n",
       "    <tr>\n",
       "      <th>revol_bal</th>\n",
       "      <td>14165</td>\n",
       "    </tr>\n",
       "    <tr>\n",
       "      <th>revol_util</th>\n",
       "      <td>33.8</td>\n",
       "    </tr>\n",
       "    <tr>\n",
       "      <th>total_acc</th>\n",
       "      <td>29</td>\n",
       "    </tr>\n",
       "    <tr>\n",
       "      <th>initial_list_status</th>\n",
       "      <td>w</td>\n",
       "    </tr>\n",
       "    <tr>\n",
       "      <th>out_prncp</th>\n",
       "      <td>0</td>\n",
       "    </tr>\n",
       "    <tr>\n",
       "      <th>out_prncp_inv</th>\n",
       "      <td>0</td>\n",
       "    </tr>\n",
       "    <tr>\n",
       "      <th>total_pymnt</th>\n",
       "      <td>12206.4</td>\n",
       "    </tr>\n",
       "    <tr>\n",
       "      <th>total_pymnt_inv</th>\n",
       "      <td>12206.4</td>\n",
       "    </tr>\n",
       "    <tr>\n",
       "      <th>total_rec_prncp</th>\n",
       "      <td>11000</td>\n",
       "    </tr>\n",
       "    <tr>\n",
       "      <th>total_rec_int</th>\n",
       "      <td>1206.41</td>\n",
       "    </tr>\n",
       "    <tr>\n",
       "      <th>total_rec_late_fee</th>\n",
       "      <td>0</td>\n",
       "    </tr>\n",
       "    <tr>\n",
       "      <th>recoveries</th>\n",
       "      <td>0</td>\n",
       "    </tr>\n",
       "    <tr>\n",
       "      <th>collection_recovery_fee</th>\n",
       "      <td>0</td>\n",
       "    </tr>\n",
       "    <tr>\n",
       "      <th>last_pymnt_d</th>\n",
       "      <td>2019-01-01 00:00:00</td>\n",
       "    </tr>\n",
       "    <tr>\n",
       "      <th>last_pymnt_amnt</th>\n",
       "      <td>0</td>\n",
       "    </tr>\n",
       "    <tr>\n",
       "      <th>last_credit_pull_d</th>\n",
       "      <td>Feb-2019</td>\n",
       "    </tr>\n",
       "    <tr>\n",
       "      <th>collections_12_mths_ex_med</th>\n",
       "      <td>0</td>\n",
       "    </tr>\n",
       "    <tr>\n",
       "      <th>mths_since_last_major_derog</th>\n",
       "      <td>43</td>\n",
       "    </tr>\n",
       "    <tr>\n",
       "      <th>acc_now_delinq</th>\n",
       "      <td>0</td>\n",
       "    </tr>\n",
       "    <tr>\n",
       "      <th>tot_coll_amt</th>\n",
       "      <td>0</td>\n",
       "    </tr>\n",
       "    <tr>\n",
       "      <th>tot_cur_bal</th>\n",
       "      <td>324692</td>\n",
       "    </tr>\n",
       "    <tr>\n",
       "      <th>total_rev_hi_lim</th>\n",
       "      <td>41900</td>\n",
       "    </tr>\n",
       "    <tr>\n",
       "      <th>acc_open_past_24mths</th>\n",
       "      <td>8</td>\n",
       "    </tr>\n",
       "    <tr>\n",
       "      <th>avg_cur_bal</th>\n",
       "      <td>23192</td>\n",
       "    </tr>\n",
       "    <tr>\n",
       "      <th>bc_open_to_buy</th>\n",
       "      <td>22469</td>\n",
       "    </tr>\n",
       "    <tr>\n",
       "      <th>bc_util</th>\n",
       "      <td>37.9</td>\n",
       "    </tr>\n",
       "  </tbody>\n",
       "</table>\n",
       "</div>"
      ],
      "text/plain": [
       "                                          970097\n",
       "loan_amnt                                  11000\n",
       "term                                   36 months\n",
       "int_rate                                    6.89\n",
       "installment                                339.1\n",
       "grade                                          A\n",
       "sub_grade                                     A3\n",
       "emp_title                                  nurse\n",
       "emp_length                             10+ years\n",
       "home_ownership                          MORTGAGE\n",
       "annual_inc                                 9e+06\n",
       "verification_status              Source Verified\n",
       "issue_d                      2015-12-01 00:00:00\n",
       "loan_status                           Fully Paid\n",
       "pymnt_plan                                     n\n",
       "purpose                       debt_consolidation\n",
       "zip_code                                   330xx\n",
       "addr_state                                    FL\n",
       "dti                                         0.08\n",
       "delinq_2yrs                                    0\n",
       "earliest_cr_line                        Apr-2004\n",
       "inq_last_6mths                                 1\n",
       "mths_since_last_delinq                        43\n",
       "open_acc                                      15\n",
       "pub_rec                                        0\n",
       "revol_bal                                  14165\n",
       "revol_util                                  33.8\n",
       "total_acc                                     29\n",
       "initial_list_status                            w\n",
       "out_prncp                                      0\n",
       "out_prncp_inv                                  0\n",
       "total_pymnt                              12206.4\n",
       "total_pymnt_inv                          12206.4\n",
       "total_rec_prncp                            11000\n",
       "total_rec_int                            1206.41\n",
       "total_rec_late_fee                             0\n",
       "recoveries                                     0\n",
       "collection_recovery_fee                        0\n",
       "last_pymnt_d                 2019-01-01 00:00:00\n",
       "last_pymnt_amnt                                0\n",
       "last_credit_pull_d                      Feb-2019\n",
       "collections_12_mths_ex_med                     0\n",
       "mths_since_last_major_derog                   43\n",
       "acc_now_delinq                                 0\n",
       "tot_coll_amt                                   0\n",
       "tot_cur_bal                               324692\n",
       "total_rev_hi_lim                           41900\n",
       "acc_open_past_24mths                           8\n",
       "avg_cur_bal                                23192\n",
       "bc_open_to_buy                             22469\n",
       "bc_util                                     37.9"
      ]
     },
     "execution_count": 63,
     "metadata": {},
     "output_type": "execute_result"
    }
   ],
   "source": [
    "df_nurse10.loc[df['annual_inc']==9000000].dropna(axis=1).transpose().head(50)\n",
    "#must be a mistake on the income - 9mil!"
   ]
  },
  {
   "cell_type": "code",
   "execution_count": 64,
   "metadata": {
    "scrolled": true
   },
   "outputs": [
    {
     "data": {
      "text/plain": [
       "Source Verified    851935\n",
       "Not Verified       700202\n",
       "Verified           587821\n",
       "Name: verification_status, dtype: int64"
      ]
     },
     "execution_count": 64,
     "metadata": {},
     "output_type": "execute_result"
    }
   ],
   "source": [
    "df.verification_status.value_counts()"
   ]
  },
  {
   "cell_type": "code",
   "execution_count": null,
   "metadata": {},
   "outputs": [],
   "source": []
  },
  {
   "cell_type": "code",
   "execution_count": null,
   "metadata": {},
   "outputs": [],
   "source": []
  },
  {
   "cell_type": "code",
   "execution_count": null,
   "metadata": {},
   "outputs": [],
   "source": []
  },
  {
   "cell_type": "code",
   "execution_count": null,
   "metadata": {},
   "outputs": [],
   "source": []
  },
  {
   "cell_type": "code",
   "execution_count": 28,
   "metadata": {},
   "outputs": [],
   "source": [
    "df_hardship=df.loc[df['hardship_length'].isna()==False]"
   ]
  },
  {
   "cell_type": "code",
   "execution_count": 29,
   "metadata": {},
   "outputs": [
    {
     "data": {
      "text/plain": [
       "Charged Off           3701\n",
       "Current               2849\n",
       "Late (31-120 days)    1507\n",
       "Fully Paid            1483\n",
       "In Grace Period        357\n",
       "Late (16-30 days)      190\n",
       "Name: loan_status, dtype: int64"
      ]
     },
     "execution_count": 29,
     "metadata": {},
     "output_type": "execute_result"
    }
   ],
   "source": [
    "df_hardship['loan_status'].value_counts()"
   ]
  },
  {
   "cell_type": "code",
   "execution_count": 30,
   "metadata": {},
   "outputs": [
    {
     "data": {
      "text/plain": [
       "COMPLETED    7225\n",
       "BROKEN       2088\n",
       "ACTIVE        774\n",
       "Name: hardship_status, dtype: int64"
      ]
     },
     "execution_count": 30,
     "metadata": {},
     "output_type": "execute_result"
    }
   ],
   "source": [
    "df_hardship['hardship_status'].value_counts()"
   ]
  },
  {
   "cell_type": "code",
   "execution_count": 31,
   "metadata": {},
   "outputs": [
    {
     "data": {
      "text/plain": [
       "COMPLETED    1963\n",
       "BROKEN       1737\n",
       "ACTIVE          1\n",
       "Name: hardship_status, dtype: int64"
      ]
     },
     "execution_count": 31,
     "metadata": {},
     "output_type": "execute_result"
    }
   ],
   "source": [
    "df_hardship.loc[df['loan_status']=='Charged Off']['hardship_status'].value_counts()"
   ]
  },
  {
   "cell_type": "code",
   "execution_count": null,
   "metadata": {},
   "outputs": [],
   "source": [
    "df_hardship.loc[df['loan_status']=='Fully Paid']['hardship_status'].value_counts()"
   ]
  },
  {
   "cell_type": "code",
   "execution_count": null,
   "metadata": {},
   "outputs": [],
   "source": []
  },
  {
   "cell_type": "code",
   "execution_count": 43,
   "metadata": {},
   "outputs": [
    {
     "data": {
      "text/plain": [
       "0.004713643912637538"
      ]
     },
     "execution_count": 43,
     "metadata": {},
     "output_type": "execute_result"
    }
   ],
   "source": [
    "df['hardship_amount'].notna().sum()/len(df)"
   ]
  },
  {
   "cell_type": "code",
   "execution_count": null,
   "metadata": {},
   "outputs": [],
   "source": []
  }
 ],
 "metadata": {
  "kernelspec": {
   "display_name": "Python 3",
   "language": "python",
   "name": "python3"
  },
  "language_info": {
   "codemirror_mode": {
    "name": "ipython",
    "version": 3
   },
   "file_extension": ".py",
   "mimetype": "text/x-python",
   "name": "python",
   "nbconvert_exporter": "python",
   "pygments_lexer": "ipython3",
   "version": "3.7.3"
  }
 },
 "nbformat": 4,
 "nbformat_minor": 2
}
