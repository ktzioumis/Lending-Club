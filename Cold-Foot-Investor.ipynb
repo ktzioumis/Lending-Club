{
 "cells": [
  {
   "cell_type": "markdown",
   "metadata": {},
   "source": [
    "# The Cold Foot Investor"
   ]
  },
  {
   "cell_type": "markdown",
   "metadata": {},
   "source": [
    "This is the companion notebook to this blog post https://medium.com/analytics-vidhya/the-cold-foot-investor-82da6c0baff0 and is an analysis of lending outcomes from an investor standpoint and a simulated conservative investment scenario"
   ]
  },
  {
   "cell_type": "markdown",
   "metadata": {},
   "source": [
    "This notebook uses Loan data provided by LendingClub.com on their loan returns from 2007 to 2018 including current and past loans. The dataset was obtained form Kaggle.com here https://www.kaggle.com/wendykan/lending-club-loan-data"
   ]
  },
  {
   "cell_type": "code",
   "execution_count": 43,
   "metadata": {},
   "outputs": [],
   "source": [
    "# Import Libraries\n",
    "import pandas as pd\n",
    "import numpy as np\n",
    "import matplotlib.pyplot as plt"
   ]
  },
  {
   "cell_type": "markdown",
   "metadata": {},
   "source": [
    "Load LendingClub dataset into pandas dataframe for analysis and view shape and head"
   ]
  },
  {
   "cell_type": "code",
   "execution_count": 44,
   "metadata": {},
   "outputs": [
    {
     "name": "stderr",
     "output_type": "stream",
     "text": [
      "C:\\kosta\\Anaconda3\\lib\\site-packages\\IPython\\core\\interactiveshell.py:3058: DtypeWarning: Columns (19,47,55,112,123,124,125,128,129,130,133,139,140,141) have mixed types. Specify dtype option on import or set low_memory=False.\n",
      "  interactivity=interactivity, compiler=compiler, result=result)\n"
     ]
    }
   ],
   "source": [
    "df=pd.read_csv('loan.csv')"
   ]
  },
  {
   "cell_type": "code",
   "execution_count": 45,
   "metadata": {},
   "outputs": [
    {
     "data": {
      "text/plain": [
       "(2260668, 145)"
      ]
     },
     "execution_count": 45,
     "metadata": {},
     "output_type": "execute_result"
    }
   ],
   "source": [
    "df.shape"
   ]
  },
  {
   "cell_type": "code",
   "execution_count": 46,
   "metadata": {},
   "outputs": [
    {
     "data": {
      "text/html": [
       "<div>\n",
       "<style scoped>\n",
       "    .dataframe tbody tr th:only-of-type {\n",
       "        vertical-align: middle;\n",
       "    }\n",
       "\n",
       "    .dataframe tbody tr th {\n",
       "        vertical-align: top;\n",
       "    }\n",
       "\n",
       "    .dataframe thead th {\n",
       "        text-align: right;\n",
       "    }\n",
       "</style>\n",
       "<table border=\"1\" class=\"dataframe\">\n",
       "  <thead>\n",
       "    <tr style=\"text-align: right;\">\n",
       "      <th></th>\n",
       "      <th>id</th>\n",
       "      <th>member_id</th>\n",
       "      <th>loan_amnt</th>\n",
       "      <th>funded_amnt</th>\n",
       "      <th>funded_amnt_inv</th>\n",
       "      <th>term</th>\n",
       "      <th>int_rate</th>\n",
       "      <th>installment</th>\n",
       "      <th>grade</th>\n",
       "      <th>sub_grade</th>\n",
       "      <th>...</th>\n",
       "      <th>hardship_payoff_balance_amount</th>\n",
       "      <th>hardship_last_payment_amount</th>\n",
       "      <th>disbursement_method</th>\n",
       "      <th>debt_settlement_flag</th>\n",
       "      <th>debt_settlement_flag_date</th>\n",
       "      <th>settlement_status</th>\n",
       "      <th>settlement_date</th>\n",
       "      <th>settlement_amount</th>\n",
       "      <th>settlement_percentage</th>\n",
       "      <th>settlement_term</th>\n",
       "    </tr>\n",
       "  </thead>\n",
       "  <tbody>\n",
       "    <tr>\n",
       "      <th>0</th>\n",
       "      <td>NaN</td>\n",
       "      <td>NaN</td>\n",
       "      <td>2500</td>\n",
       "      <td>2500</td>\n",
       "      <td>2500.0</td>\n",
       "      <td>36 months</td>\n",
       "      <td>13.56</td>\n",
       "      <td>84.92</td>\n",
       "      <td>C</td>\n",
       "      <td>C1</td>\n",
       "      <td>...</td>\n",
       "      <td>NaN</td>\n",
       "      <td>NaN</td>\n",
       "      <td>Cash</td>\n",
       "      <td>N</td>\n",
       "      <td>NaN</td>\n",
       "      <td>NaN</td>\n",
       "      <td>NaN</td>\n",
       "      <td>NaN</td>\n",
       "      <td>NaN</td>\n",
       "      <td>NaN</td>\n",
       "    </tr>\n",
       "    <tr>\n",
       "      <th>1</th>\n",
       "      <td>NaN</td>\n",
       "      <td>NaN</td>\n",
       "      <td>30000</td>\n",
       "      <td>30000</td>\n",
       "      <td>30000.0</td>\n",
       "      <td>60 months</td>\n",
       "      <td>18.94</td>\n",
       "      <td>777.23</td>\n",
       "      <td>D</td>\n",
       "      <td>D2</td>\n",
       "      <td>...</td>\n",
       "      <td>NaN</td>\n",
       "      <td>NaN</td>\n",
       "      <td>Cash</td>\n",
       "      <td>N</td>\n",
       "      <td>NaN</td>\n",
       "      <td>NaN</td>\n",
       "      <td>NaN</td>\n",
       "      <td>NaN</td>\n",
       "      <td>NaN</td>\n",
       "      <td>NaN</td>\n",
       "    </tr>\n",
       "    <tr>\n",
       "      <th>2</th>\n",
       "      <td>NaN</td>\n",
       "      <td>NaN</td>\n",
       "      <td>5000</td>\n",
       "      <td>5000</td>\n",
       "      <td>5000.0</td>\n",
       "      <td>36 months</td>\n",
       "      <td>17.97</td>\n",
       "      <td>180.69</td>\n",
       "      <td>D</td>\n",
       "      <td>D1</td>\n",
       "      <td>...</td>\n",
       "      <td>NaN</td>\n",
       "      <td>NaN</td>\n",
       "      <td>Cash</td>\n",
       "      <td>N</td>\n",
       "      <td>NaN</td>\n",
       "      <td>NaN</td>\n",
       "      <td>NaN</td>\n",
       "      <td>NaN</td>\n",
       "      <td>NaN</td>\n",
       "      <td>NaN</td>\n",
       "    </tr>\n",
       "    <tr>\n",
       "      <th>3</th>\n",
       "      <td>NaN</td>\n",
       "      <td>NaN</td>\n",
       "      <td>4000</td>\n",
       "      <td>4000</td>\n",
       "      <td>4000.0</td>\n",
       "      <td>36 months</td>\n",
       "      <td>18.94</td>\n",
       "      <td>146.51</td>\n",
       "      <td>D</td>\n",
       "      <td>D2</td>\n",
       "      <td>...</td>\n",
       "      <td>NaN</td>\n",
       "      <td>NaN</td>\n",
       "      <td>Cash</td>\n",
       "      <td>N</td>\n",
       "      <td>NaN</td>\n",
       "      <td>NaN</td>\n",
       "      <td>NaN</td>\n",
       "      <td>NaN</td>\n",
       "      <td>NaN</td>\n",
       "      <td>NaN</td>\n",
       "    </tr>\n",
       "    <tr>\n",
       "      <th>4</th>\n",
       "      <td>NaN</td>\n",
       "      <td>NaN</td>\n",
       "      <td>30000</td>\n",
       "      <td>30000</td>\n",
       "      <td>30000.0</td>\n",
       "      <td>60 months</td>\n",
       "      <td>16.14</td>\n",
       "      <td>731.78</td>\n",
       "      <td>C</td>\n",
       "      <td>C4</td>\n",
       "      <td>...</td>\n",
       "      <td>NaN</td>\n",
       "      <td>NaN</td>\n",
       "      <td>Cash</td>\n",
       "      <td>N</td>\n",
       "      <td>NaN</td>\n",
       "      <td>NaN</td>\n",
       "      <td>NaN</td>\n",
       "      <td>NaN</td>\n",
       "      <td>NaN</td>\n",
       "      <td>NaN</td>\n",
       "    </tr>\n",
       "  </tbody>\n",
       "</table>\n",
       "<p>5 rows × 145 columns</p>\n",
       "</div>"
      ],
      "text/plain": [
       "   id  member_id  loan_amnt  funded_amnt  funded_amnt_inv        term  \\\n",
       "0 NaN        NaN       2500         2500           2500.0   36 months   \n",
       "1 NaN        NaN      30000        30000          30000.0   60 months   \n",
       "2 NaN        NaN       5000         5000           5000.0   36 months   \n",
       "3 NaN        NaN       4000         4000           4000.0   36 months   \n",
       "4 NaN        NaN      30000        30000          30000.0   60 months   \n",
       "\n",
       "   int_rate  installment grade sub_grade  ... hardship_payoff_balance_amount  \\\n",
       "0     13.56        84.92     C        C1  ...                            NaN   \n",
       "1     18.94       777.23     D        D2  ...                            NaN   \n",
       "2     17.97       180.69     D        D1  ...                            NaN   \n",
       "3     18.94       146.51     D        D2  ...                            NaN   \n",
       "4     16.14       731.78     C        C4  ...                            NaN   \n",
       "\n",
       "  hardship_last_payment_amount disbursement_method  debt_settlement_flag  \\\n",
       "0                          NaN                Cash                     N   \n",
       "1                          NaN                Cash                     N   \n",
       "2                          NaN                Cash                     N   \n",
       "3                          NaN                Cash                     N   \n",
       "4                          NaN                Cash                     N   \n",
       "\n",
       "  debt_settlement_flag_date settlement_status settlement_date  \\\n",
       "0                       NaN               NaN             NaN   \n",
       "1                       NaN               NaN             NaN   \n",
       "2                       NaN               NaN             NaN   \n",
       "3                       NaN               NaN             NaN   \n",
       "4                       NaN               NaN             NaN   \n",
       "\n",
       "  settlement_amount  settlement_percentage settlement_term  \n",
       "0               NaN                    NaN             NaN  \n",
       "1               NaN                    NaN             NaN  \n",
       "2               NaN                    NaN             NaN  \n",
       "3               NaN                    NaN             NaN  \n",
       "4               NaN                    NaN             NaN  \n",
       "\n",
       "[5 rows x 145 columns]"
      ]
     },
     "execution_count": 46,
     "metadata": {},
     "output_type": "execute_result"
    }
   ],
   "source": [
    "df.head()"
   ]
  },
  {
   "cell_type": "markdown",
   "metadata": {},
   "source": [
    "Features for id, member_id and url have already been removed to protect anonymity. The columns are empty and can all be dropped"
   ]
  },
  {
   "cell_type": "code",
   "execution_count": 47,
   "metadata": {},
   "outputs": [],
   "source": [
    "#remove empty columns\n",
    "df=df.dropna(axis=1,how='all')"
   ]
  },
  {
   "cell_type": "markdown",
   "metadata": {},
   "source": [
    "Feature 'issue_d' is the month in which the loan was issued and is default to a string type on loading the csv. Change to pandas datetime"
   ]
  },
  {
   "cell_type": "code",
   "execution_count": 48,
   "metadata": {},
   "outputs": [],
   "source": [
    "df['issue_d']=pd.to_datetime(df['issue_d'])"
   ]
  },
  {
   "cell_type": "markdown",
   "metadata": {},
   "source": [
    "convert 'term' from string to integer"
   ]
  },
  {
   "cell_type": "code",
   "execution_count": 49,
   "metadata": {
    "scrolled": true
   },
   "outputs": [],
   "source": [
    "df['term']=df['term'].str.strip().map({'36 months':36,'60 months':60})"
   ]
  },
  {
   "cell_type": "code",
   "execution_count": 50,
   "metadata": {},
   "outputs": [
    {
     "data": {
      "text/plain": [
       "Individual    0.946604\n",
       "Joint App     0.053396\n",
       "Name: application_type, dtype: float64"
      ]
     },
     "execution_count": 50,
     "metadata": {},
     "output_type": "execute_result"
    }
   ],
   "source": [
    "df.application_type.value_counts(normalize=True)"
   ]
  },
  {
   "cell_type": "markdown",
   "metadata": {},
   "source": [
    "Only approximately 5% of loans were issued to joint borrowers. For simplicity of later analysis I am going to drop these loans from our data set and eliminate the columns associated with joint borrowers"
   ]
  },
  {
   "cell_type": "code",
   "execution_count": null,
   "metadata": {},
   "outputs": [],
   "source": [
    "df=df.loc[df['application_type']=='Individual']\n",
    "df=df.drop(columns=['application_type'])\n",
    "df=df.dropna(axis=1,how='all')"
   ]
  },
  {
   "cell_type": "markdown",
   "metadata": {},
   "source": [
    "More extensive data cleaning and analysis is available in other notebooks in this repository. For this notebook I will analyse only loan returns as described in the blog post linked above"
   ]
  },
  {
   "cell_type": "code",
   "execution_count": null,
   "metadata": {},
   "outputs": [],
   "source": [
    "df.loan_status.value_counts(normalize=True)"
   ]
  },
  {
   "cell_type": "markdown",
   "metadata": {},
   "source": [
    "Dataset is reduced to only completed loans with a loan_status of 'Fully Paid' or 'Charged Off' in order to consider only fully realised investment outcomes"
   ]
  },
  {
   "cell_type": "code",
   "execution_count": null,
   "metadata": {},
   "outputs": [],
   "source": [
    "df_complete=df.loc[(df['loan_status']=='Fully Paid')|(df['loan_status']=='Charged Off')]"
   ]
  },
  {
   "cell_type": "markdown",
   "metadata": {},
   "source": [
    "Interest rate and grade are linked loan features and are our best method of characterizing loans"
   ]
  },
  {
   "cell_type": "code",
   "execution_count": null,
   "metadata": {},
   "outputs": [],
   "source": [
    "plt.figure(figsize=(10,6))\n",
    "plt.boxplot([df_complete.loc[df_complete['grade']=='A']['int_rate'],\n",
    "             df_complete.loc[df_complete['grade']=='B']['int_rate'],\n",
    "             df_complete.loc[df_complete['grade']=='C']['int_rate'],\n",
    "             df_complete.loc[df_complete['grade']=='D']['int_rate'],\n",
    "             df_complete.loc[df_complete['grade']=='E']['int_rate'],\n",
    "             df_complete.loc[df_complete['grade']=='F']['int_rate'],\n",
    "             df_complete.loc[df_complete['grade']=='G']['int_rate']],\n",
    "             showmeans=True, meanprops=dict(marker='D', markeredgecolor='black',markerfacecolor='firebrick'),\n",
    "            flierprops=dict(markersize=2,marker='_',alpha=0.3),\n",
    "            boxprops=dict(linewidth=2),\n",
    "            medianprops=dict(linewidth=2,color='g'),\n",
    "            whiskerprops=dict(linewidth=2,),\n",
    "            capprops=dict(linewidth=2,),\n",
    "            widths=0.6)\n",
    "\n",
    "plt.plot([1,7],[df_complete.loc[df_complete['grade']=='A']['int_rate'].mean(),df_complete.loc[df_complete['grade']=='G']['int_rate'].mean()],label='Mean Interest Rate Trendline',color='firebrick')\n",
    "plt.xticks([1,2,3,4,5,6,7],['A', 'B', 'C', 'D', 'E', 'F', 'G'])\n",
    "plt.title('Interest Rate by Grade')\n",
    "plt.xlabel('Loan Grades')\n",
    "plt.ylabel('Interest Rate')\n",
    "plt.legend()\n",
    "plt.show()  "
   ]
  },
  {
   "cell_type": "markdown",
   "metadata": {},
   "source": [
    "Actual investment outcomes of all completed loans. Strong median returnsbut also some investor losses."
   ]
  },
  {
   "cell_type": "code",
   "execution_count": null,
   "metadata": {},
   "outputs": [],
   "source": [
    "plt.figure(figsize=(10,6))\n",
    "plt.hist(((df_complete['total_pymnt']-df_complete['loan_amnt'])/(df_complete['loan_amnt']))*100,alpha=0.6,bins=30,density=True)\n",
    "plt.axvline(0,color='red',linewidth=0.6,label='Breakeven',linestyle='--')\n",
    "plt.axvline(((df_complete['total_pymnt']-df_complete['loan_amnt'])/(df_complete['loan_amnt'])).median()*100,color='g',label='median '+str(round(((df_complete['total_pymnt']-df_complete['loan_amnt'])/(df_complete['loan_amnt'])).median()*100,2))+'%')\n",
    "plt.axvline(((df_complete['total_pymnt']-df_complete['loan_amnt'])/(df_complete['loan_amnt'])).mean()*100,color='firebrick',label='mean '+str(round(((df_complete['total_pymnt']-df_complete['loan_amnt'])/(df_complete['loan_amnt'])).mean()*100,2))+'%')\n",
    "plt.xlim([-100,100])\n",
    "plt.legend()\n",
    "plt.xlabel('% Return on Investment')\n",
    "plt.ylabel('Density')\n",
    "plt.title('% Return Profit/Loss')\n",
    "plt.show()"
   ]
  },
  {
   "cell_type": "markdown",
   "metadata": {},
   "source": [
    "Comparison of loan expectation to realized outcomes "
   ]
  },
  {
   "cell_type": "markdown",
   "metadata": {},
   "source": [
    "Expected Total Payment based on loan amount, length and interest rate formula -most direct measure from an investor standpoint"
   ]
  },
  {
   "cell_type": "markdown",
   "metadata": {},
   "source": [
    "<img src = 'loanfm3.png'>\n"
   ]
  },
  {
   "cell_type": "code",
   "execution_count": null,
   "metadata": {},
   "outputs": [],
   "source": [
    "r=df_complete['int_rate']/(12*100)\n",
    "n=df_complete['term']\n",
    "p=df_complete['loan_amnt']\n"
   ]
  },
  {
   "cell_type": "code",
   "execution_count": null,
   "metadata": {},
   "outputs": [],
   "source": [
    "df_complete['expected_total_pymnt']=(r*p*n)/(1-((1+r)**(-n)))"
   ]
  },
  {
   "cell_type": "markdown",
   "metadata": {},
   "source": [
    "Split dataset into 36 and 60 month terms for visualization"
   ]
  },
  {
   "cell_type": "code",
   "execution_count": null,
   "metadata": {},
   "outputs": [],
   "source": [
    "df_complete36=df_complete.loc[df_complete['term']==36]\n",
    "df_complete60=df_complete.loc[df_complete['term']==60]"
   ]
  },
  {
   "cell_type": "code",
   "execution_count": null,
   "metadata": {},
   "outputs": [],
   "source": [
    "#Difference between actual and epxected payment for 36 and 60 month loans by grade-ALL\n",
    "plt.figure(figsize=(16,8))\n",
    "plt.boxplot([(df_complete36.loc[df_complete36['grade']=='A']['total_pymnt']-df_complete36.loc[df_complete36['grade']=='A']['loan_amnt'])*100/(df_complete36.loc[df_complete36['grade']=='A']['expected_total_pymnt']-df_complete36.loc[df_complete36['grade']=='A']['loan_amnt']),\n",
    "            (df_complete36.loc[df_complete36['grade']=='B']['total_pymnt']-df_complete36.loc[df_complete36['grade']=='B']['loan_amnt'])*100/(df_complete36.loc[df_complete36['grade']=='B']['expected_total_pymnt']-df_complete36.loc[df_complete36['grade']=='B']['loan_amnt']),\n",
    "            (df_complete36.loc[df_complete36['grade']=='C']['total_pymnt']-df_complete36.loc[df_complete36['grade']=='C']['loan_amnt'])*100/(df_complete36.loc[df_complete36['grade']=='C']['expected_total_pymnt']-df_complete36.loc[df_complete36['grade']=='C']['loan_amnt']),\n",
    "            (df_complete36.loc[df_complete36['grade']=='D']['total_pymnt']-df_complete36.loc[df_complete36['grade']=='D']['loan_amnt'])*100/(df_complete36.loc[df_complete36['grade']=='D']['expected_total_pymnt']-df_complete36.loc[df_complete36['grade']=='D']['loan_amnt']),\n",
    "            (df_complete36.loc[df_complete36['grade']=='E']['total_pymnt']-df_complete36.loc[df_complete36['grade']=='E']['loan_amnt'])*100/(df_complete36.loc[df_complete36['grade']=='E']['expected_total_pymnt']-df_complete36.loc[df_complete36['grade']=='E']['loan_amnt']),\n",
    "            (df_complete36.loc[df_complete36['grade']=='F']['total_pymnt']-df_complete36.loc[df_complete36['grade']=='F']['loan_amnt'])*100/(df_complete36.loc[df_complete36['grade']=='F']['expected_total_pymnt']-df_complete36.loc[df_complete36['grade']=='F']['loan_amnt']),\n",
    "            (df_complete36.loc[df_complete36['grade']=='G']['total_pymnt']-df_complete36.loc[df_complete36['grade']=='G']['loan_amnt'])*100/(df_complete36.loc[df_complete36['grade']=='G']['expected_total_pymnt']-df_complete36.loc[df_complete36['grade']=='G']['loan_amnt'])],\n",
    "            showmeans=True, meanprops=dict(marker='D', markeredgecolor='black',markerfacecolor='firebrick'),\n",
    "            flierprops=dict(markersize=2,marker='_',alpha=0.3),\n",
    "            boxprops=dict(linewidth=2,color='aquamarine'),\n",
    "            medianprops=dict(linewidth=2,color='g'),\n",
    "            whiskerprops=dict(linewidth=2,color='aquamarine'),\n",
    "            capprops=dict(linewidth=2,color='aquamarine'),\n",
    "            positions=[1,4,7,10,13,16,19],\n",
    "            widths=0.6,\n",
    "           )\n",
    "\n",
    "plt.boxplot([(df_complete60.loc[df_complete60['grade']=='A']['total_pymnt']-df_complete60.loc[df_complete60['grade']=='A']['loan_amnt'])*100/(df_complete60.loc[df_complete60['grade']=='A']['expected_total_pymnt']-df_complete60.loc[df_complete60['grade']=='A']['loan_amnt']),\n",
    "            (df_complete60.loc[df_complete60['grade']=='B']['total_pymnt']-df_complete60.loc[df_complete60['grade']=='B']['loan_amnt'])*100/(df_complete60.loc[df_complete60['grade']=='B']['expected_total_pymnt']-df_complete60.loc[df_complete60['grade']=='B']['loan_amnt']),\n",
    "            (df_complete60.loc[df_complete60['grade']=='C']['total_pymnt']-df_complete60.loc[df_complete60['grade']=='C']['loan_amnt'])*100/(df_complete60.loc[df_complete60['grade']=='C']['expected_total_pymnt']-df_complete60.loc[df_complete60['grade']=='C']['loan_amnt']),\n",
    "            (df_complete60.loc[df_complete60['grade']=='D']['total_pymnt']-df_complete60.loc[df_complete60['grade']=='D']['loan_amnt'])*100/(df_complete60.loc[df_complete60['grade']=='D']['expected_total_pymnt']-df_complete60.loc[df_complete60['grade']=='D']['loan_amnt']),\n",
    "            (df_complete60.loc[df_complete60['grade']=='E']['total_pymnt']-df_complete60.loc[df_complete60['grade']=='E']['loan_amnt'])*100/(df_complete60.loc[df_complete60['grade']=='E']['expected_total_pymnt']-df_complete60.loc[df_complete60['grade']=='E']['loan_amnt']),\n",
    "            (df_complete60.loc[df_complete60['grade']=='F']['total_pymnt']-df_complete60.loc[df_complete60['grade']=='F']['loan_amnt'])*100/(df_complete60.loc[df_complete60['grade']=='F']['expected_total_pymnt']-df_complete60.loc[df_complete60['grade']=='F']['loan_amnt']),\n",
    "            (df_complete60.loc[df_complete60['grade']=='G']['total_pymnt']-df_complete60.loc[df_complete60['grade']=='G']['loan_amnt'])*100/(df_complete60.loc[df_complete60['grade']=='G']['expected_total_pymnt']-df_complete60.loc[df_complete60['grade']=='G']['loan_amnt'])],\n",
    "            showmeans=True, meanprops=dict(marker='D', markeredgecolor='black',markerfacecolor='firebrick'),\n",
    "            flierprops=dict(markersize=2,marker='_',alpha=0.3),\n",
    "            boxprops=dict(linewidth=2,color='darkblue'),\n",
    "            medianprops=dict(linewidth=2,color='g'),\n",
    "            whiskerprops=dict(linewidth=2,color='darkblue'),\n",
    "            capprops=dict(linewidth=2,color='darkblue'),\n",
    "            positions=[2,5,8,11,14,17,20],\n",
    "            widths=0.6,\n",
    "           )\n",
    "plt.xticks(np.arange(0,21),[\"\",'A-36','A-60','', 'B-36','B-60','', 'C-36','C-60','', 'D-36','D-60','', 'E-36','E-60','', 'F-36','F-60','', 'G-36','G-60',''])\n",
    "plt.axhline(100,color='chartreuse',linewidth=0.6,label='Expected Return')\n",
    "plt.axhline(0,color='red',linewidth=0.6,label='Loss')\n",
    "plt.axhline(301,color='aquamarine',linewidth=2,label='36 Month Loans') #off chart for legend only\n",
    "plt.axhline(301,color='darkblue',linewidth=2,label='60 Month Loans') #off chart for legend only\n",
    "plt.legend(loc ='upper left')\n",
    "plt.title('% of Expected Loan Profit Realized by Grade',size=20)\n",
    "plt.xlabel('Loan Grade and Length (in Months)',size=16)\n",
    "plt.ylabel('% of Expected Profit Realized',size=16)\n",
    "plt.ylim([-400,300])\n",
    "plt.text(1.3,150,'A',fontdict=dict(size=20,color='blue'))\n",
    "plt.text(4.3,200,'B',fontdict=dict(size=20,color='blue'))\n",
    "plt.text(7.3,200,'C',fontdict=dict(size=20,color='blue'))\n",
    "plt.text(10.3,200,'D',fontdict=dict(size=20,color='blue'))\n",
    "plt.text(13.3,200,'E',fontdict=dict(size=20,color='blue'))\n",
    "plt.text(16.3,200,'F',fontdict=dict(size=20,color='blue'))\n",
    "plt.text(19.3,200,'G',fontdict=dict(size=20,color='blue'))\n",
    "plt.show()"
   ]
  },
  {
   "cell_type": "markdown",
   "metadata": {},
   "source": [
    "Reality does not match up to loan expectation in simple terms of expected repayment plan"
   ]
  },
  {
   "cell_type": "markdown",
   "metadata": {},
   "source": [
    "Visualize actual loan returns to have a realistic gauge of investor outcomes"
   ]
  },
  {
   "cell_type": "code",
   "execution_count": null,
   "metadata": {},
   "outputs": [],
   "source": [
    "#actual loss or profit by grade as a % of loan amount for 36 month loans\n",
    "plt.figure(figsize=(16,8))\n",
    "plt.boxplot([(df_complete36.loc[df_complete36['grade']=='A']['total_pymnt']-df_complete36.loc[df_complete36['grade']=='A']['loan_amnt'])*100/df_complete36.loc[df_complete36['grade']=='A']['loan_amnt'],\n",
    "            (df_complete36.loc[df_complete36['grade']=='B']['total_pymnt']-df_complete36.loc[df_complete36['grade']=='B']['loan_amnt'])*100/df_complete36.loc[df_complete36['grade']=='B']['loan_amnt'],\n",
    "            (df_complete36.loc[df_complete36['grade']=='C']['total_pymnt']-df_complete36.loc[df_complete36['grade']=='C']['loan_amnt'])*100/df_complete36.loc[df_complete36['grade']=='C']['loan_amnt'],\n",
    "            (df_complete36.loc[df_complete36['grade']=='D']['total_pymnt']-df_complete36.loc[df_complete36['grade']=='D']['loan_amnt'])*100/df_complete36.loc[df_complete36['grade']=='D']['loan_amnt'],\n",
    "            (df_complete36.loc[df_complete36['grade']=='E']['total_pymnt']-df_complete36.loc[df_complete36['grade']=='E']['loan_amnt'])*100/df_complete36.loc[df_complete36['grade']=='E']['loan_amnt'],\n",
    "            (df_complete36.loc[df_complete36['grade']=='F']['total_pymnt']-df_complete36.loc[df_complete36['grade']=='F']['loan_amnt'])*100/df_complete36.loc[df_complete36['grade']=='F']['loan_amnt'],\n",
    "            (df_complete36.loc[df_complete36['grade']=='G']['total_pymnt']-df_complete36.loc[df_complete36['grade']=='G']['loan_amnt'])*100/df_complete36.loc[df_complete36['grade']=='G']['loan_amnt']],\n",
    "            showmeans=True, meanprops=dict(marker='D', markeredgecolor='black',markerfacecolor='firebrick'),\n",
    "            flierprops=dict(markersize=2,marker='_',alpha=0.3),\n",
    "            boxprops=dict(linewidth=2,color='aquamarine'),\n",
    "            medianprops=dict(linewidth=2,color='g'),\n",
    "            whiskerprops=dict(linewidth=2,color='aquamarine'),\n",
    "            capprops=dict(linewidth=2,color='aquamarine'),\n",
    "            positions=[1,4,7,10,13,16,19],\n",
    "            widths=0.6,\n",
    "           )\n",
    "\n",
    "plt.boxplot([(df_complete60.loc[df_complete60['grade']=='A']['total_pymnt']-df_complete60.loc[df_complete60['grade']=='A']['loan_amnt'])*100/df_complete60.loc[df_complete60['grade']=='A']['loan_amnt'],\n",
    "            (df_complete60.loc[df_complete60['grade']=='B']['total_pymnt']-df_complete60.loc[df_complete60['grade']=='B']['loan_amnt'])*100/df_complete60.loc[df_complete60['grade']=='B']['loan_amnt'],\n",
    "            (df_complete60.loc[df_complete60['grade']=='C']['total_pymnt']-df_complete60.loc[df_complete60['grade']=='C']['loan_amnt'])*100/df_complete60.loc[df_complete60['grade']=='C']['loan_amnt'],\n",
    "            (df_complete60.loc[df_complete60['grade']=='D']['total_pymnt']-df_complete60.loc[df_complete60['grade']=='D']['loan_amnt'])*100/df_complete60.loc[df_complete60['grade']=='D']['loan_amnt'],\n",
    "            (df_complete60.loc[df_complete60['grade']=='E']['total_pymnt']-df_complete60.loc[df_complete60['grade']=='E']['loan_amnt'])*100/df_complete60.loc[df_complete60['grade']=='E']['loan_amnt'],\n",
    "            (df_complete60.loc[df_complete60['grade']=='F']['total_pymnt']-df_complete60.loc[df_complete60['grade']=='F']['loan_amnt'])*100/df_complete60.loc[df_complete60['grade']=='F']['loan_amnt'],\n",
    "            (df_complete60.loc[df_complete60['grade']=='G']['total_pymnt']-df_complete60.loc[df_complete60['grade']=='G']['loan_amnt'])*100/df_complete60.loc[df_complete60['grade']=='G']['loan_amnt']],\n",
    "            showmeans=True, meanprops=dict(marker='D', markeredgecolor='black',markerfacecolor='firebrick'),\n",
    "            flierprops=dict(markersize=2,marker='_',alpha=0.3),\n",
    "            boxprops=dict(linewidth=2,color='darkblue'),\n",
    "            medianprops=dict(linewidth=2,color='g'),\n",
    "            whiskerprops=dict(linewidth=2,color='darkblue'),\n",
    "            capprops=dict(linewidth=2,color='darkblue'),\n",
    "            positions=[2,5,8,11,14,17,20],\n",
    "            widths=0.6,\n",
    "           )\n",
    "plt.xticks(np.arange(1,21),['A-36','A-60','', 'B-36','B-60','', 'C-36','C-60','', 'D-36','D-60','', 'E-36','E-60','', 'F-36','F-60','', 'G-36','G-60',''])\n",
    "plt.axhline(0,color='red',linewidth=0.6,label='Breakeven')\n",
    "plt.title('% Return Profit/Loss by Grade for Loans over 36 and 60 months',size=20)\n",
    "plt.ylim([-100,100])\n",
    "plt.ylabel('% on investment',size='16')\n",
    "plt.xlabel('Loan Grade and Length (in Months)',size=16)\n",
    "plt.axhline(101,color='aquamarine',linewidth=2,label='36 Month Loans') #off chart for legend only\n",
    "plt.axhline(101,color='darkblue',linewidth=2,label='60 Month Loans') #off chart for legend only\n",
    "# plt.fill_between([-1,22], 4, y2=7,color='y',label='Lending Club promoted return',alpha=0.3) - incorrect\n",
    "plt.xlim([0,21])\n",
    "plt.legend(loc ='upper left')\n",
    "plt.text(1.3,30,'A',fontdict=dict(size=20,color='blue') )\n",
    "plt.text(4.3,50,'B',fontdict=dict(size=20,color='blue'))\n",
    "plt.text(7.3,60,'C',fontdict=dict(size=20,color='blue'))\n",
    "plt.text(10.3,70,'D',fontdict=dict(size=20,color='blue'))\n",
    "plt.text(13.3,80,'E',fontdict=dict(size=20,color='blue'))\n",
    "plt.text(16.3,90,'F',fontdict=dict(size=20,color='blue'))\n",
    "plt.text(19.3,90,'G',fontdict=dict(size=20,color='blue'))\n",
    "plt.grid(which='major',axis='y',linestyle='--')\n",
    "plt.show()"
   ]
  },
  {
   "cell_type": "markdown",
   "metadata": {},
   "source": [
    "Average returns on highest rated loan grades:"
   ]
  },
  {
   "cell_type": "code",
   "execution_count": null,
   "metadata": {},
   "outputs": [],
   "source": [
    "((df_complete36.loc[df_complete36['grade']=='A']['total_pymnt']-df_complete36.loc[df_complete36['grade']=='A']['loan_amnt'])*100/df_complete36.loc[df_complete36['grade']=='A']['loan_amnt']).mean()"
   ]
  },
  {
   "cell_type": "code",
   "execution_count": null,
   "metadata": {},
   "outputs": [],
   "source": [
    "((df_complete36.loc[df_complete36['grade']=='B']['total_pymnt']-df_complete36.loc[df_complete36['grade']=='B']['loan_amnt'])*100/df_complete36.loc[df_complete36['grade']=='B']['loan_amnt']).mean()"
   ]
  },
  {
   "cell_type": "markdown",
   "metadata": {},
   "source": [
    "Conservative Investor Simulation - take 1000 loans from 2013(should be settled by now) with grade A or B and term 36 months and find return on loan % - sum (1 dollar in each loan)"
   ]
  },
  {
   "cell_type": "code",
   "execution_count": null,
   "metadata": {},
   "outputs": [],
   "source": [
    "df.loc[(df['issue_d']>'2013')&(df['issue_d']<'2014')].loc[(df['grade']=='A')|(df['grade']=='B')].loc[df['term']==36][['loan_amnt','total_pymnt']].shape"
   ]
  },
  {
   "cell_type": "markdown",
   "metadata": {},
   "source": [
    "54,107 loans to choose from "
   ]
  },
  {
   "cell_type": "markdown",
   "metadata": {},
   "source": [
    "one simulation of investment"
   ]
  },
  {
   "cell_type": "code",
   "execution_count": null,
   "metadata": {},
   "outputs": [],
   "source": [
    "df_sim=df.loc[(df['issue_d']>'2013')&(df['issue_d']<'2014')].loc[(df['grade']=='A')|(df['grade']=='B')].loc[df['term']==36][['loan_amnt','total_pymnt']].sample(n=1000,random_state=44)\n",
    "((df_sim['total_pymnt'])/df_sim['loan_amnt']).sum()"
   ]
  },
  {
   "cell_type": "markdown",
   "metadata": {},
   "source": [
    "Return of \\\\$104.76 on investment of $1000\n",
    "10.5% return on investment!"
   ]
  },
  {
   "cell_type": "markdown",
   "metadata": {},
   "source": [
    "Investment summary statistics"
   ]
  },
  {
   "cell_type": "code",
   "execution_count": null,
   "metadata": {},
   "outputs": [],
   "source": [
    "pd.Series((df_sim['total_pymnt']-df_sim['loan_amnt'])/df_sim['loan_amnt']).describe()"
   ]
  },
  {
   "cell_type": "markdown",
   "metadata": {},
   "source": [
    "Monte Carlo Simulation - 1000 versions of 1000 randomly selected loans"
   ]
  },
  {
   "cell_type": "code",
   "execution_count": null,
   "metadata": {},
   "outputs": [],
   "source": [
    "def sim_invest(df,n,m):\n",
    "    \"\"\"conservative investment simulator for m loans graded A or B and 36 month term\n",
    "    \n",
    "    df = loan dataframe with columns ['issue_d','grade','term',loan_amnt','total_pymnt']\n",
    "    n = number of investment simulations to run\n",
    "    m = number of loans included in each simulation\"\"\"\n",
    "    \n",
    "    df=df.loc[(df['issue_d']>'2013')&(df['issue_d']<'2014')].loc[(df['grade']=='A')|(df['grade']=='B')].loc[df['term']==36][['loan_amnt','total_pymnt']]\n",
    "    profit=[]\n",
    "    i=0\n",
    "    while i<n:\n",
    "        df_temp=df.sample(n=m,random_state=i)\n",
    "        profit.append(((df_temp['total_pymnt']-df_temp['loan_amnt'])/df_temp['loan_amnt']).sum()/n*100)\n",
    "        i+=1\n",
    "    return profit"
   ]
  },
  {
   "cell_type": "code",
   "execution_count": null,
   "metadata": {},
   "outputs": [],
   "source": [
    "sim_inv=sim_invest(df,1000,1000)"
   ]
  },
  {
   "cell_type": "code",
   "execution_count": null,
   "metadata": {},
   "outputs": [],
   "source": [
    "plt.hist(sim_inv)\n",
    "plt.axvline(np.mean(sim_inv),color='g',label='Mean return '+str(round(np.mean(sim_inv),1))+'%')\n",
    "plt.ylabel('Frequency')\n",
    "plt.xlabel('% Profit on Investments')\n",
    "plt.title('1000 Simulations ')\n",
    "plt.legend()\n",
    "plt.show()"
   ]
  },
  {
   "cell_type": "markdown",
   "metadata": {},
   "source": [
    "Average result of 1000 simulations of 1000 investments has return of \\\\$101 on investment of \\\\$1000\n",
    "10.1% profit\n",
    "Regression to the mean in effect!"
   ]
  },
  {
   "cell_type": "markdown",
   "metadata": {},
   "source": [
    "Monte Carlo Simulation summary statistics"
   ]
  },
  {
   "cell_type": "code",
   "execution_count": null,
   "metadata": {},
   "outputs": [],
   "source": [
    "pd.Series(sim_inv).describe()"
   ]
  },
  {
   "cell_type": "markdown",
   "metadata": {},
   "source": [
    "My investment scenarios return a range of 8.5% to 11.4% return approximately normally distributed around a mean of 10.1%. It is important to note that this is not an annual return but a return over the course of the loan which in the above scenarios is 36 months. However, LendingClub do not make you wait that long. Loans pay returns on notes purchased by investors on a monthly basis in both prinicipal and interest."
   ]
  }
 ],
 "metadata": {
  "kernelspec": {
   "display_name": "Python 3",
   "language": "python",
   "name": "python3"
  },
  "language_info": {
   "codemirror_mode": {
    "name": "ipython",
    "version": 3
   },
   "file_extension": ".py",
   "mimetype": "text/x-python",
   "name": "python",
   "nbconvert_exporter": "python",
   "pygments_lexer": "ipython3",
   "version": "3.7.3"
  }
 },
 "nbformat": 4,
 "nbformat_minor": 2
}
